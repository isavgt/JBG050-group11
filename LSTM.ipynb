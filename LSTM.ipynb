{
 "cells": [
  {
   "cell_type": "code",
   "execution_count": 284,
   "metadata": {},
   "outputs": [],
   "source": [
    "import ccxt\n",
    "import pandas as pd"
   ]
  },
  {
   "cell_type": "code",
   "execution_count": 285,
   "metadata": {},
   "outputs": [],
   "source": [
    "import numpy as np\n",
    "import pandas as pd\n",
    "import matplotlib.pyplot as plt\n",
    "%matplotlib inline\n",
    "plt.style.use('fivethirtyeight')\n",
    "import calendar "
   ]
  },
  {
   "cell_type": "code",
   "execution_count": 401,
   "metadata": {},
   "outputs": [
    {
     "data": {
      "text/html": [
       "<div>\n",
       "<style scoped>\n",
       "    .dataframe tbody tr th:only-of-type {\n",
       "        vertical-align: middle;\n",
       "    }\n",
       "\n",
       "    .dataframe tbody tr th {\n",
       "        vertical-align: top;\n",
       "    }\n",
       "\n",
       "    .dataframe thead th {\n",
       "        text-align: right;\n",
       "    }\n",
       "</style>\n",
       "<table border=\"1\" class=\"dataframe\">\n",
       "  <thead>\n",
       "    <tr style=\"text-align: right;\">\n",
       "      <th></th>\n",
       "      <th>Month</th>\n",
       "      <th>Reported by</th>\n",
       "      <th>Falls within</th>\n",
       "      <th>Longitude</th>\n",
       "      <th>Latitude</th>\n",
       "      <th>Location</th>\n",
       "      <th>LSOA code</th>\n",
       "      <th>LSOA name</th>\n",
       "      <th>Crime type</th>\n",
       "      <th>Month num</th>\n",
       "      <th>Year</th>\n",
       "      <th>Month name</th>\n",
       "      <th>Ward new</th>\n",
       "    </tr>\n",
       "  </thead>\n",
       "  <tbody>\n",
       "    <tr>\n",
       "      <th>0</th>\n",
       "      <td>2010-12</td>\n",
       "      <td>Metropolitan Police Service</td>\n",
       "      <td>Metropolitan Police Service</td>\n",
       "      <td>-0.201877</td>\n",
       "      <td>51.655538</td>\n",
       "      <td>On or near High Street</td>\n",
       "      <td>E01000248</td>\n",
       "      <td>Barnet 001A</td>\n",
       "      <td>Burglary</td>\n",
       "      <td>12</td>\n",
       "      <td>2010</td>\n",
       "      <td>Dec</td>\n",
       "      <td>Mill Hill</td>\n",
       "    </tr>\n",
       "    <tr>\n",
       "      <th>1</th>\n",
       "      <td>2010-12</td>\n",
       "      <td>Metropolitan Police Service</td>\n",
       "      <td>Metropolitan Police Service</td>\n",
       "      <td>-0.207853</td>\n",
       "      <td>51.654317</td>\n",
       "      <td>On or near The Avenue</td>\n",
       "      <td>E01000248</td>\n",
       "      <td>Barnet 001A</td>\n",
       "      <td>Burglary</td>\n",
       "      <td>12</td>\n",
       "      <td>2010</td>\n",
       "      <td>Dec</td>\n",
       "      <td>Mill Hill</td>\n",
       "    </tr>\n",
       "    <tr>\n",
       "      <th>2</th>\n",
       "      <td>2010-12</td>\n",
       "      <td>Metropolitan Police Service</td>\n",
       "      <td>Metropolitan Police Service</td>\n",
       "      <td>-0.202510</td>\n",
       "      <td>51.656348</td>\n",
       "      <td>On or near Bruce Road</td>\n",
       "      <td>E01000248</td>\n",
       "      <td>Barnet 001A</td>\n",
       "      <td>Burglary</td>\n",
       "      <td>12</td>\n",
       "      <td>2010</td>\n",
       "      <td>Dec</td>\n",
       "      <td>Mill Hill</td>\n",
       "    </tr>\n",
       "    <tr>\n",
       "      <th>3</th>\n",
       "      <td>2010-12</td>\n",
       "      <td>Metropolitan Police Service</td>\n",
       "      <td>Metropolitan Police Service</td>\n",
       "      <td>-0.206779</td>\n",
       "      <td>51.654768</td>\n",
       "      <td>On or near The Drive</td>\n",
       "      <td>E01000248</td>\n",
       "      <td>Barnet 001A</td>\n",
       "      <td>Burglary</td>\n",
       "      <td>12</td>\n",
       "      <td>2010</td>\n",
       "      <td>Dec</td>\n",
       "      <td>Mill Hill</td>\n",
       "    </tr>\n",
       "    <tr>\n",
       "      <th>4</th>\n",
       "      <td>2010-12</td>\n",
       "      <td>Metropolitan Police Service</td>\n",
       "      <td>Metropolitan Police Service</td>\n",
       "      <td>-0.209537</td>\n",
       "      <td>51.655223</td>\n",
       "      <td>On or near Marriott Road</td>\n",
       "      <td>E01000249</td>\n",
       "      <td>Barnet 001B</td>\n",
       "      <td>Burglary</td>\n",
       "      <td>12</td>\n",
       "      <td>2010</td>\n",
       "      <td>Dec</td>\n",
       "      <td>Mill Hill</td>\n",
       "    </tr>\n",
       "  </tbody>\n",
       "</table>\n",
       "</div>"
      ],
      "text/plain": [
       "     Month                  Reported by                 Falls within  \\\n",
       "0  2010-12  Metropolitan Police Service  Metropolitan Police Service   \n",
       "1  2010-12  Metropolitan Police Service  Metropolitan Police Service   \n",
       "2  2010-12  Metropolitan Police Service  Metropolitan Police Service   \n",
       "3  2010-12  Metropolitan Police Service  Metropolitan Police Service   \n",
       "4  2010-12  Metropolitan Police Service  Metropolitan Police Service   \n",
       "\n",
       "   Longitude   Latitude                  Location  LSOA code    LSOA name  \\\n",
       "0  -0.201877  51.655538    On or near High Street  E01000248  Barnet 001A   \n",
       "1  -0.207853  51.654317     On or near The Avenue  E01000248  Barnet 001A   \n",
       "2  -0.202510  51.656348     On or near Bruce Road  E01000248  Barnet 001A   \n",
       "3  -0.206779  51.654768      On or near The Drive  E01000248  Barnet 001A   \n",
       "4  -0.209537  51.655223  On or near Marriott Road  E01000249  Barnet 001B   \n",
       "\n",
       "  Crime type  Month num  Year Month name   Ward new  \n",
       "0   Burglary         12  2010        Dec  Mill Hill  \n",
       "1   Burglary         12  2010        Dec  Mill Hill  \n",
       "2   Burglary         12  2010        Dec  Mill Hill  \n",
       "3   Burglary         12  2010        Dec  Mill Hill  \n",
       "4   Burglary         12  2010        Dec  Mill Hill  "
      ]
     },
     "execution_count": 401,
     "metadata": {},
     "output_type": "execute_result"
    }
   ],
   "source": [
    "# I want to use the filtered_df csv file I have and extract it as a dataframe\n",
    "\n",
    "filtered_df = pd.read_csv('C:/Users/20212397/Desktop/Y2Q4/DC2/filtered_df.csv')\n",
    "filtered_df.head()"
   ]
  },
  {
   "cell_type": "code",
   "execution_count": 402,
   "metadata": {},
   "outputs": [],
   "source": [
    "monthly_grouped_df = filtered_df.sort_values(['Year','Month num'],ascending=False).groupby(['Year', 'Month num']).count()\n",
    "\n",
    "# cget the number of burglaries per month from the filtered_df dataframe and add it to the monthly_grouped_df dataframe as a new column\n",
    "monthly_grouped_df['nr of burglaries'] = filtered_df.groupby(['Year', 'Month num']).size()\n",
    "\n",
    "# Rename columns, select rows with data and set datetime index\n",
    "monthly_grouped_df['day'] = 1\n",
    "monthly_grouped_df = monthly_grouped_df.reset_index()\n",
    "monthly_grouped_df = monthly_grouped_df[(monthly_grouped_df['Year']>=2011) | ((monthly_grouped_df['Year'] == 2010) & (monthly_grouped_df['Month num']==12))]\n",
    "monthly_grouped_df = monthly_grouped_df.rename(columns={'Month num': 'month', 'Year': 'year'})\n",
    "monthly_grouped_df['Date'] = pd.to_datetime(monthly_grouped_df[['year', 'month', 'day']])\n",
    "monthly_grouped_df = monthly_grouped_df.set_index(pd.DatetimeIndex(monthly_grouped_df['Date']))\n",
    "monthly_grouped_df['ds'] = monthly_grouped_df['Date']\n",
    "monthly_grouped_df['y'] = monthly_grouped_df['nr of burglaries']"
   ]
  },
  {
   "cell_type": "code",
   "execution_count": 406,
   "metadata": {},
   "outputs": [],
   "source": [
    "# delete the columns Reported by, Falls within, Longitude, Latitude, Location, LSOA code, LSOA name, Crime type, Month name\n",
    "\n",
    "monthly_grouped_df = monthly_grouped_df.drop(['Reported by', 'Falls within', 'Longitude', 'Latitude', 'Location', 'LSOA code', 'LSOA name', 'Crime type', 'Month name'], axis=1)"
   ]
  },
  {
   "cell_type": "code",
   "execution_count": 407,
   "metadata": {},
   "outputs": [
    {
     "data": {
      "text/html": [
       "<div>\n",
       "<style scoped>\n",
       "    .dataframe tbody tr th:only-of-type {\n",
       "        vertical-align: middle;\n",
       "    }\n",
       "\n",
       "    .dataframe tbody tr th {\n",
       "        vertical-align: top;\n",
       "    }\n",
       "\n",
       "    .dataframe thead th {\n",
       "        text-align: right;\n",
       "    }\n",
       "</style>\n",
       "<table border=\"1\" class=\"dataframe\">\n",
       "  <thead>\n",
       "    <tr style=\"text-align: right;\">\n",
       "      <th></th>\n",
       "      <th>year</th>\n",
       "      <th>month</th>\n",
       "      <th>Month</th>\n",
       "      <th>Ward new</th>\n",
       "      <th>nr of burglaries</th>\n",
       "      <th>day</th>\n",
       "      <th>Date</th>\n",
       "      <th>ds</th>\n",
       "      <th>y</th>\n",
       "    </tr>\n",
       "    <tr>\n",
       "      <th>Date</th>\n",
       "      <th></th>\n",
       "      <th></th>\n",
       "      <th></th>\n",
       "      <th></th>\n",
       "      <th></th>\n",
       "      <th></th>\n",
       "      <th></th>\n",
       "      <th></th>\n",
       "      <th></th>\n",
       "    </tr>\n",
       "  </thead>\n",
       "  <tbody>\n",
       "    <tr>\n",
       "      <th>2010-12-01</th>\n",
       "      <td>2010</td>\n",
       "      <td>12</td>\n",
       "      <td>372</td>\n",
       "      <td>359</td>\n",
       "      <td>372</td>\n",
       "      <td>1</td>\n",
       "      <td>2010-12-01</td>\n",
       "      <td>2010-12-01</td>\n",
       "      <td>372</td>\n",
       "    </tr>\n",
       "    <tr>\n",
       "      <th>2011-01-01</th>\n",
       "      <td>2011</td>\n",
       "      <td>1</td>\n",
       "      <td>486</td>\n",
       "      <td>463</td>\n",
       "      <td>486</td>\n",
       "      <td>1</td>\n",
       "      <td>2011-01-01</td>\n",
       "      <td>2011-01-01</td>\n",
       "      <td>486</td>\n",
       "    </tr>\n",
       "    <tr>\n",
       "      <th>2011-02-01</th>\n",
       "      <td>2011</td>\n",
       "      <td>2</td>\n",
       "      <td>403</td>\n",
       "      <td>385</td>\n",
       "      <td>403</td>\n",
       "      <td>1</td>\n",
       "      <td>2011-02-01</td>\n",
       "      <td>2011-02-01</td>\n",
       "      <td>403</td>\n",
       "    </tr>\n",
       "    <tr>\n",
       "      <th>2011-03-01</th>\n",
       "      <td>2011</td>\n",
       "      <td>3</td>\n",
       "      <td>408</td>\n",
       "      <td>403</td>\n",
       "      <td>408</td>\n",
       "      <td>1</td>\n",
       "      <td>2011-03-01</td>\n",
       "      <td>2011-03-01</td>\n",
       "      <td>408</td>\n",
       "    </tr>\n",
       "    <tr>\n",
       "      <th>2011-04-01</th>\n",
       "      <td>2011</td>\n",
       "      <td>4</td>\n",
       "      <td>414</td>\n",
       "      <td>401</td>\n",
       "      <td>414</td>\n",
       "      <td>1</td>\n",
       "      <td>2011-04-01</td>\n",
       "      <td>2011-04-01</td>\n",
       "      <td>414</td>\n",
       "    </tr>\n",
       "  </tbody>\n",
       "</table>\n",
       "</div>"
      ],
      "text/plain": [
       "            year  month  Month  Ward new  nr of burglaries  day       Date  \\\n",
       "Date                                                                         \n",
       "2010-12-01  2010     12    372       359               372    1 2010-12-01   \n",
       "2011-01-01  2011      1    486       463               486    1 2011-01-01   \n",
       "2011-02-01  2011      2    403       385               403    1 2011-02-01   \n",
       "2011-03-01  2011      3    408       403               408    1 2011-03-01   \n",
       "2011-04-01  2011      4    414       401               414    1 2011-04-01   \n",
       "\n",
       "                   ds    y  \n",
       "Date                        \n",
       "2010-12-01 2010-12-01  372  \n",
       "2011-01-01 2011-01-01  486  \n",
       "2011-02-01 2011-02-01  403  \n",
       "2011-03-01 2011-03-01  408  \n",
       "2011-04-01 2011-04-01  414  "
      ]
     },
     "execution_count": 407,
     "metadata": {},
     "output_type": "execute_result"
    }
   ],
   "source": [
    "monthly_grouped_df.head()"
   ]
  },
  {
   "cell_type": "code",
   "execution_count": 408,
   "metadata": {},
   "outputs": [
    {
     "name": "stderr",
     "output_type": "stream",
     "text": [
      "C:\\Users\\20212397\\AppData\\Local\\Temp\\ipykernel_26256\\4256134342.py:4: SettingWithCopyWarning: \n",
      "A value is trying to be set on a copy of a slice from a DataFrame.\n",
      "Try using .loc[row_indexer,col_indexer] = value instead\n",
      "\n",
      "See the caveats in the documentation: https://pandas.pydata.org/pandas-docs/stable/user_guide/indexing.html#returning-a-view-versus-a-copy\n",
      "  test_data['ds'] = test_data['Date']\n",
      "C:\\Users\\20212397\\AppData\\Local\\Temp\\ipykernel_26256\\4256134342.py:5: SettingWithCopyWarning: \n",
      "A value is trying to be set on a copy of a slice from a DataFrame.\n",
      "Try using .loc[row_indexer,col_indexer] = value instead\n",
      "\n",
      "See the caveats in the documentation: https://pandas.pydata.org/pandas-docs/stable/user_guide/indexing.html#returning-a-view-versus-a-copy\n",
      "  train_data['ds'] = train_data['Date']\n",
      "C:\\Users\\20212397\\AppData\\Local\\Temp\\ipykernel_26256\\4256134342.py:6: SettingWithCopyWarning: \n",
      "A value is trying to be set on a copy of a slice from a DataFrame.\n",
      "Try using .loc[row_indexer,col_indexer] = value instead\n",
      "\n",
      "See the caveats in the documentation: https://pandas.pydata.org/pandas-docs/stable/user_guide/indexing.html#returning-a-view-versus-a-copy\n",
      "  test_data['y'] = test_data['nr of burglaries']\n",
      "C:\\Users\\20212397\\AppData\\Local\\Temp\\ipykernel_26256\\4256134342.py:7: SettingWithCopyWarning: \n",
      "A value is trying to be set on a copy of a slice from a DataFrame.\n",
      "Try using .loc[row_indexer,col_indexer] = value instead\n",
      "\n",
      "See the caveats in the documentation: https://pandas.pydata.org/pandas-docs/stable/user_guide/indexing.html#returning-a-view-versus-a-copy\n",
      "  train_data['y'] = train_data['nr of burglaries']\n"
     ]
    },
    {
     "data": {
      "text/html": [
       "<div>\n",
       "<style scoped>\n",
       "    .dataframe tbody tr th:only-of-type {\n",
       "        vertical-align: middle;\n",
       "    }\n",
       "\n",
       "    .dataframe tbody tr th {\n",
       "        vertical-align: top;\n",
       "    }\n",
       "\n",
       "    .dataframe thead th {\n",
       "        text-align: right;\n",
       "    }\n",
       "</style>\n",
       "<table border=\"1\" class=\"dataframe\">\n",
       "  <thead>\n",
       "    <tr style=\"text-align: right;\">\n",
       "      <th></th>\n",
       "      <th>year</th>\n",
       "      <th>month</th>\n",
       "      <th>Month</th>\n",
       "      <th>Ward new</th>\n",
       "      <th>nr of burglaries</th>\n",
       "      <th>day</th>\n",
       "      <th>Date</th>\n",
       "      <th>ds</th>\n",
       "      <th>y</th>\n",
       "    </tr>\n",
       "    <tr>\n",
       "      <th>Date</th>\n",
       "      <th></th>\n",
       "      <th></th>\n",
       "      <th></th>\n",
       "      <th></th>\n",
       "      <th></th>\n",
       "      <th></th>\n",
       "      <th></th>\n",
       "      <th></th>\n",
       "      <th></th>\n",
       "    </tr>\n",
       "  </thead>\n",
       "  <tbody>\n",
       "    <tr>\n",
       "      <th>2010-12-01</th>\n",
       "      <td>2010</td>\n",
       "      <td>12</td>\n",
       "      <td>372</td>\n",
       "      <td>359</td>\n",
       "      <td>372</td>\n",
       "      <td>1</td>\n",
       "      <td>2010-12-01</td>\n",
       "      <td>2010-12-01</td>\n",
       "      <td>372</td>\n",
       "    </tr>\n",
       "    <tr>\n",
       "      <th>2011-01-01</th>\n",
       "      <td>2011</td>\n",
       "      <td>1</td>\n",
       "      <td>486</td>\n",
       "      <td>463</td>\n",
       "      <td>486</td>\n",
       "      <td>1</td>\n",
       "      <td>2011-01-01</td>\n",
       "      <td>2011-01-01</td>\n",
       "      <td>486</td>\n",
       "    </tr>\n",
       "    <tr>\n",
       "      <th>2011-02-01</th>\n",
       "      <td>2011</td>\n",
       "      <td>2</td>\n",
       "      <td>403</td>\n",
       "      <td>385</td>\n",
       "      <td>403</td>\n",
       "      <td>1</td>\n",
       "      <td>2011-02-01</td>\n",
       "      <td>2011-02-01</td>\n",
       "      <td>403</td>\n",
       "    </tr>\n",
       "    <tr>\n",
       "      <th>2011-03-01</th>\n",
       "      <td>2011</td>\n",
       "      <td>3</td>\n",
       "      <td>408</td>\n",
       "      <td>403</td>\n",
       "      <td>408</td>\n",
       "      <td>1</td>\n",
       "      <td>2011-03-01</td>\n",
       "      <td>2011-03-01</td>\n",
       "      <td>408</td>\n",
       "    </tr>\n",
       "    <tr>\n",
       "      <th>2011-04-01</th>\n",
       "      <td>2011</td>\n",
       "      <td>4</td>\n",
       "      <td>414</td>\n",
       "      <td>401</td>\n",
       "      <td>414</td>\n",
       "      <td>1</td>\n",
       "      <td>2011-04-01</td>\n",
       "      <td>2011-04-01</td>\n",
       "      <td>414</td>\n",
       "    </tr>\n",
       "    <tr>\n",
       "      <th>...</th>\n",
       "      <td>...</td>\n",
       "      <td>...</td>\n",
       "      <td>...</td>\n",
       "      <td>...</td>\n",
       "      <td>...</td>\n",
       "      <td>...</td>\n",
       "      <td>...</td>\n",
       "      <td>...</td>\n",
       "      <td>...</td>\n",
       "    </tr>\n",
       "    <tr>\n",
       "      <th>2017-08-01</th>\n",
       "      <td>2017</td>\n",
       "      <td>8</td>\n",
       "      <td>309</td>\n",
       "      <td>296</td>\n",
       "      <td>309</td>\n",
       "      <td>1</td>\n",
       "      <td>2017-08-01</td>\n",
       "      <td>2017-08-01</td>\n",
       "      <td>309</td>\n",
       "    </tr>\n",
       "    <tr>\n",
       "      <th>2017-09-01</th>\n",
       "      <td>2017</td>\n",
       "      <td>9</td>\n",
       "      <td>259</td>\n",
       "      <td>247</td>\n",
       "      <td>259</td>\n",
       "      <td>1</td>\n",
       "      <td>2017-09-01</td>\n",
       "      <td>2017-09-01</td>\n",
       "      <td>259</td>\n",
       "    </tr>\n",
       "    <tr>\n",
       "      <th>2017-10-01</th>\n",
       "      <td>2017</td>\n",
       "      <td>10</td>\n",
       "      <td>305</td>\n",
       "      <td>291</td>\n",
       "      <td>305</td>\n",
       "      <td>1</td>\n",
       "      <td>2017-10-01</td>\n",
       "      <td>2017-10-01</td>\n",
       "      <td>305</td>\n",
       "    </tr>\n",
       "    <tr>\n",
       "      <th>2017-11-01</th>\n",
       "      <td>2017</td>\n",
       "      <td>11</td>\n",
       "      <td>392</td>\n",
       "      <td>371</td>\n",
       "      <td>392</td>\n",
       "      <td>1</td>\n",
       "      <td>2017-11-01</td>\n",
       "      <td>2017-11-01</td>\n",
       "      <td>392</td>\n",
       "    </tr>\n",
       "    <tr>\n",
       "      <th>2017-12-01</th>\n",
       "      <td>2017</td>\n",
       "      <td>12</td>\n",
       "      <td>326</td>\n",
       "      <td>312</td>\n",
       "      <td>326</td>\n",
       "      <td>1</td>\n",
       "      <td>2017-12-01</td>\n",
       "      <td>2017-12-01</td>\n",
       "      <td>326</td>\n",
       "    </tr>\n",
       "  </tbody>\n",
       "</table>\n",
       "<p>85 rows × 9 columns</p>\n",
       "</div>"
      ],
      "text/plain": [
       "            year  month  Month  Ward new  nr of burglaries  day       Date  \\\n",
       "Date                                                                         \n",
       "2010-12-01  2010     12    372       359               372    1 2010-12-01   \n",
       "2011-01-01  2011      1    486       463               486    1 2011-01-01   \n",
       "2011-02-01  2011      2    403       385               403    1 2011-02-01   \n",
       "2011-03-01  2011      3    408       403               408    1 2011-03-01   \n",
       "2011-04-01  2011      4    414       401               414    1 2011-04-01   \n",
       "...          ...    ...    ...       ...               ...  ...        ...   \n",
       "2017-08-01  2017      8    309       296               309    1 2017-08-01   \n",
       "2017-09-01  2017      9    259       247               259    1 2017-09-01   \n",
       "2017-10-01  2017     10    305       291               305    1 2017-10-01   \n",
       "2017-11-01  2017     11    392       371               392    1 2017-11-01   \n",
       "2017-12-01  2017     12    326       312               326    1 2017-12-01   \n",
       "\n",
       "                   ds    y  \n",
       "Date                        \n",
       "2010-12-01 2010-12-01  372  \n",
       "2011-01-01 2011-01-01  486  \n",
       "2011-02-01 2011-02-01  403  \n",
       "2011-03-01 2011-03-01  408  \n",
       "2011-04-01 2011-04-01  414  \n",
       "...               ...  ...  \n",
       "2017-08-01 2017-08-01  309  \n",
       "2017-09-01 2017-09-01  259  \n",
       "2017-10-01 2017-10-01  305  \n",
       "2017-11-01 2017-11-01  392  \n",
       "2017-12-01 2017-12-01  326  \n",
       "\n",
       "[85 rows x 9 columns]"
      ]
     },
     "execution_count": 408,
     "metadata": {},
     "output_type": "execute_result"
    }
   ],
   "source": [
    "# Divide test and train data\n",
    "train_data = monthly_grouped_df[monthly_grouped_df['year']<2018]\n",
    "test_data = monthly_grouped_df[(monthly_grouped_df['year']>2017) & (monthly_grouped_df['year'] <2020)]\n",
    "test_data['ds'] = test_data['Date']\n",
    "train_data['ds'] = train_data['Date']\n",
    "test_data['y'] = test_data['nr of burglaries']\n",
    "train_data['y'] = train_data['nr of burglaries']\n",
    "train_data"
   ]
  },
  {
   "cell_type": "code",
   "execution_count": 409,
   "metadata": {},
   "outputs": [
    {
     "data": {
      "text/plain": [
       "(24, 9)"
      ]
     },
     "execution_count": 409,
     "metadata": {},
     "output_type": "execute_result"
    }
   ],
   "source": [
    "test_data.shape"
   ]
  },
  {
   "cell_type": "code",
   "execution_count": 410,
   "metadata": {},
   "outputs": [
    {
     "data": {
      "text/plain": [
       "(85, 9)"
      ]
     },
     "execution_count": 410,
     "metadata": {},
     "output_type": "execute_result"
    }
   ],
   "source": [
    "train_data.shape"
   ]
  },
  {
   "cell_type": "code",
   "execution_count": 411,
   "metadata": {},
   "outputs": [],
   "source": [
    "# Extract the relevant columns from the dataset\n",
    "train_data = train_data[['ds', 'y']]\n",
    "test_data = test_data[['ds', 'y']]"
   ]
  },
  {
   "cell_type": "code",
   "execution_count": 412,
   "metadata": {},
   "outputs": [],
   "source": [
    "import tensorflow as tf\n",
    "import sklearn\n",
    "from sklearn.preprocessing import MinMaxScaler\n",
    "from tensorflow.keras.models import Sequential\n",
    "from tensorflow.keras.layers import LSTM, Dense, Dropout, Bidirectional"
   ]
  },
  {
   "cell_type": "code",
   "execution_count": 413,
   "metadata": {},
   "outputs": [
    {
     "name": "stderr",
     "output_type": "stream",
     "text": [
      "C:\\Users\\20212397\\AppData\\Local\\Temp\\ipykernel_26256\\1213160809.py:3: SettingWithCopyWarning: \n",
      "A value is trying to be set on a copy of a slice from a DataFrame.\n",
      "Try using .loc[row_indexer,col_indexer] = value instead\n",
      "\n",
      "See the caveats in the documentation: https://pandas.pydata.org/pandas-docs/stable/user_guide/indexing.html#returning-a-view-versus-a-copy\n",
      "  train_data['y'] = scaler.fit_transform(train_data[['y']])\n"
     ]
    }
   ],
   "source": [
    "# Normalize the data using MinMaxScaler:\n",
    "scaler = MinMaxScaler()\n",
    "train_data['y'] = scaler.fit_transform(train_data[['y']])\n",
    "test_data['y'] = scaler.transform(test_data[['y']])\n"
   ]
  },
  {
   "cell_type": "code",
   "execution_count": 414,
   "metadata": {},
   "outputs": [],
   "source": [
    "# Convert the data to sequences for LSTM input:\n",
    "\n",
    "def create_sequences(data, sequence_length):\n",
    "    X = []\n",
    "    y = []\n",
    "    for i in range(len(data) - sequence_length):\n",
    "        X.append(data[i:i+sequence_length])\n",
    "        y.append(data[i+sequence_length])\n",
    "    return np.array(X), np.array(y)\n",
    "\n",
    "sequence_length = 12  # Adjust as needed\n",
    "X_train, y_train = create_sequences(train_data['y'], sequence_length)\n",
    "X_test, y_test = create_sequences(test_data['y'], sequence_length)"
   ]
  },
  {
   "cell_type": "code",
   "execution_count": 415,
   "metadata": {},
   "outputs": [
    {
     "name": "stdout",
     "output_type": "stream",
     "text": [
      "Epoch 1/60\n",
      "7/7 [==============================] - 1s 4ms/step - loss: 0.1454\n",
      "Epoch 2/60\n",
      "7/7 [==============================] - 0s 3ms/step - loss: 0.0831\n",
      "Epoch 3/60\n",
      "7/7 [==============================] - 0s 4ms/step - loss: 0.0395\n",
      "Epoch 4/60\n",
      "7/7 [==============================] - 0s 4ms/step - loss: 0.0360\n",
      "Epoch 5/60\n",
      "7/7 [==============================] - 0s 4ms/step - loss: 0.0345\n",
      "Epoch 6/60\n",
      "7/7 [==============================] - 0s 4ms/step - loss: 0.0327\n",
      "Epoch 7/60\n",
      "7/7 [==============================] - 0s 4ms/step - loss: 0.0324\n",
      "Epoch 8/60\n",
      "7/7 [==============================] - 0s 4ms/step - loss: 0.0317\n",
      "Epoch 9/60\n",
      "7/7 [==============================] - 0s 4ms/step - loss: 0.0315\n",
      "Epoch 10/60\n",
      "7/7 [==============================] - 0s 3ms/step - loss: 0.0311\n",
      "Epoch 11/60\n",
      "7/7 [==============================] - 0s 4ms/step - loss: 0.0314\n",
      "Epoch 12/60\n",
      "7/7 [==============================] - 0s 4ms/step - loss: 0.0302\n",
      "Epoch 13/60\n",
      "7/7 [==============================] - 0s 3ms/step - loss: 0.0315\n",
      "Epoch 14/60\n",
      "7/7 [==============================] - 0s 4ms/step - loss: 0.0317\n",
      "Epoch 15/60\n",
      "7/7 [==============================] - 0s 3ms/step - loss: 0.0332\n",
      "Epoch 16/60\n",
      "7/7 [==============================] - 0s 4ms/step - loss: 0.0308\n",
      "Epoch 17/60\n",
      "7/7 [==============================] - 0s 4ms/step - loss: 0.0345\n",
      "Epoch 18/60\n",
      "7/7 [==============================] - 0s 3ms/step - loss: 0.0318\n",
      "Epoch 19/60\n",
      "7/7 [==============================] - 0s 3ms/step - loss: 0.0309\n",
      "Epoch 20/60\n",
      "7/7 [==============================] - 0s 4ms/step - loss: 0.0315\n",
      "Epoch 21/60\n",
      "7/7 [==============================] - 0s 3ms/step - loss: 0.0309\n",
      "Epoch 22/60\n",
      "7/7 [==============================] - 0s 3ms/step - loss: 0.0309\n",
      "Epoch 23/60\n",
      "7/7 [==============================] - 0s 4ms/step - loss: 0.0327\n",
      "Epoch 24/60\n",
      "7/7 [==============================] - 0s 3ms/step - loss: 0.0312\n",
      "Epoch 25/60\n",
      "7/7 [==============================] - 0s 3ms/step - loss: 0.0300\n",
      "Epoch 26/60\n",
      "7/7 [==============================] - 0s 4ms/step - loss: 0.0297\n",
      "Epoch 27/60\n",
      "7/7 [==============================] - 0s 3ms/step - loss: 0.0297\n",
      "Epoch 28/60\n",
      "7/7 [==============================] - 0s 3ms/step - loss: 0.0297\n",
      "Epoch 29/60\n",
      "7/7 [==============================] - 0s 5ms/step - loss: 0.0296\n",
      "Epoch 30/60\n",
      "7/7 [==============================] - 0s 4ms/step - loss: 0.0294\n",
      "Epoch 31/60\n",
      "7/7 [==============================] - 0s 4ms/step - loss: 0.0297\n",
      "Epoch 32/60\n",
      "7/7 [==============================] - 0s 3ms/step - loss: 0.0295\n",
      "Epoch 33/60\n",
      "7/7 [==============================] - 0s 3ms/step - loss: 0.0291\n",
      "Epoch 34/60\n",
      "7/7 [==============================] - 0s 4ms/step - loss: 0.0294\n",
      "Epoch 35/60\n",
      "7/7 [==============================] - 0s 3ms/step - loss: 0.0292\n",
      "Epoch 36/60\n",
      "7/7 [==============================] - 0s 3ms/step - loss: 0.0358\n",
      "Epoch 37/60\n",
      "7/7 [==============================] - 0s 4ms/step - loss: 0.0306\n",
      "Epoch 38/60\n",
      "7/7 [==============================] - 0s 3ms/step - loss: 0.0411\n",
      "Epoch 39/60\n",
      "7/7 [==============================] - 0s 3ms/step - loss: 0.0347\n",
      "Epoch 40/60\n",
      "7/7 [==============================] - 0s 3ms/step - loss: 0.0284\n",
      "Epoch 41/60\n",
      "7/7 [==============================] - 0s 4ms/step - loss: 0.0295\n",
      "Epoch 42/60\n",
      "7/7 [==============================] - 0s 4ms/step - loss: 0.0300\n",
      "Epoch 43/60\n",
      "7/7 [==============================] - 0s 4ms/step - loss: 0.0314\n",
      "Epoch 44/60\n",
      "7/7 [==============================] - 0s 4ms/step - loss: 0.0299\n",
      "Epoch 45/60\n",
      "7/7 [==============================] - 0s 4ms/step - loss: 0.0286\n",
      "Epoch 46/60\n",
      "7/7 [==============================] - 0s 4ms/step - loss: 0.0283\n",
      "Epoch 47/60\n",
      "7/7 [==============================] - 0s 3ms/step - loss: 0.0282\n",
      "Epoch 48/60\n",
      "7/7 [==============================] - 0s 4ms/step - loss: 0.0281\n",
      "Epoch 49/60\n",
      "7/7 [==============================] - 0s 4ms/step - loss: 0.0277\n",
      "Epoch 50/60\n",
      "7/7 [==============================] - 0s 3ms/step - loss: 0.0280\n",
      "Epoch 51/60\n",
      "7/7 [==============================] - 0s 4ms/step - loss: 0.0277\n",
      "Epoch 52/60\n",
      "7/7 [==============================] - 0s 3ms/step - loss: 0.0274\n",
      "Epoch 53/60\n",
      "7/7 [==============================] - 0s 3ms/step - loss: 0.0272\n",
      "Epoch 54/60\n",
      "7/7 [==============================] - 0s 4ms/step - loss: 0.0268\n",
      "Epoch 55/60\n",
      "7/7 [==============================] - 0s 3ms/step - loss: 0.0278\n",
      "Epoch 56/60\n",
      "7/7 [==============================] - 0s 4ms/step - loss: 0.0264\n",
      "Epoch 57/60\n",
      "7/7 [==============================] - 0s 3ms/step - loss: 0.0262\n",
      "Epoch 58/60\n",
      "7/7 [==============================] - 0s 3ms/step - loss: 0.0262\n",
      "Epoch 59/60\n",
      "7/7 [==============================] - 0s 3ms/step - loss: 0.0254\n",
      "Epoch 60/60\n",
      "7/7 [==============================] - 0s 3ms/step - loss: 0.0292\n"
     ]
    },
    {
     "data": {
      "text/plain": [
       "<keras.callbacks.History at 0x13f5cbc4310>"
      ]
     },
     "execution_count": 415,
     "metadata": {},
     "output_type": "execute_result"
    }
   ],
   "source": [
    "# Build and train the LSTM model:\n",
    "model = Sequential()\n",
    "model.add(LSTM(64, activation='relu', input_shape=(sequence_length, 1)))\n",
    "model.add(Dense(1))\n",
    "model.compile(optimizer='adam', loss='mean_squared_error')\n",
    "model.fit(X_train, y_train, epochs=60, batch_size=12)"
   ]
  },
  {
   "cell_type": "code",
   "execution_count": 416,
   "metadata": {},
   "outputs": [
    {
     "name": "stdout",
     "output_type": "stream",
     "text": [
      "3/3 [==============================] - 0s 2ms/step\n",
      "1/1 [==============================] - 0s 21ms/step\n"
     ]
    }
   ],
   "source": [
    "# Make predictions\n",
    "train_predictions = model.predict(X_train)\n",
    "test_predictions = model.predict(X_test)"
   ]
  },
  {
   "cell_type": "code",
   "execution_count": 417,
   "metadata": {},
   "outputs": [],
   "source": [
    "# rescale predictions to the original scale\n",
    "train_predictions = scaler.inverse_transform(train_predictions)\n",
    "test_predictions = scaler.inverse_transform(test_predictions)"
   ]
  },
  {
   "cell_type": "code",
   "execution_count": 418,
   "metadata": {},
   "outputs": [],
   "source": [
    "# rescale the expected output to the original scale \n",
    "y_train = scaler.inverse_transform([y_train])\n",
    "y_test = scaler.inverse_transform([y_test])"
   ]
  },
  {
   "cell_type": "code",
   "execution_count": 419,
   "metadata": {},
   "outputs": [
    {
     "data": {
      "image/png": "[encoded data removed]",
      "text/plain": [
       "<Figure size 700x300 with 1 Axes>"
      ]
     },
     "metadata": {},
     "output_type": "display_data"
    }
   ],
   "source": [
    "# Plot the predictions vs the expected output on the training data using the dummy variables for the month\n",
    "\n",
    "plt.figure(figsize=(7, 3))\n",
    "plt.plot(y_train[0], label='Training Data')\n",
    "plt.plot(train_predictions[:,0], label='Prediction')\n",
    "plt.title('Training Data vs Prediction')\n",
    "# add labels to the axes\n",
    "plt.xlabel('Months')\n",
    "plt.ylabel('Number of burglaries')\n",
    "\n",
    "\n",
    "plt.legend()\n",
    "plt.show()\n"
   ]
  },
  {
   "cell_type": "code",
   "execution_count": 420,
   "metadata": {},
   "outputs": [
    {
     "data": {
      "image/png": "[encoded data removed]",
      "text/plain": [
       "<Figure size 700x300 with 1 Axes>"
      ]
     },
     "metadata": {},
     "output_type": "display_data"
    }
   ],
   "source": [
    "# Plot the predictions vs the expected output on the test data\n",
    "\n",
    "plt.figure(figsize=(7, 3))\n",
    "plt.plot(y_test[0], label='Test Data')\n",
    "plt.plot(test_predictions[:,0], label='Prediction')\n",
    "plt.title('Test Data vs Prediction')\n",
    "# add labels to the axes\n",
    "plt.xlabel('Months')\n",
    "plt.ylabel('Number of burglaries')\n",
    "plt.legend()\n",
    "plt.show()\n",
    "\n",
    "#dummy vars on the months (12 months so 1 dummy vars)\n",
    "\n"
   ]
  },
  {
   "cell_type": "code",
   "execution_count": 421,
   "metadata": {},
   "outputs": [
    {
     "data": {
      "text/plain": [
       "24.81634775797526"
      ]
     },
     "execution_count": 421,
     "metadata": {},
     "output_type": "execute_result"
    }
   ],
   "source": [
    "# Calculate the Mean Absolute Error of the predictions on the test data\n",
    "from sklearn.metrics import mean_absolute_error\n",
    "mean_absolute_error(y_test[0], test_predictions[:,0])\n"
   ]
  },
  {
   "cell_type": "code",
   "execution_count": 422,
   "metadata": {},
   "outputs": [
    {
     "data": {
      "text/plain": [
       "32.61412910757268"
      ]
     },
     "execution_count": 422,
     "metadata": {},
     "output_type": "execute_result"
    }
   ],
   "source": [
    "# Calculate the Root Mean Squared Error of the predictions on the test data\n",
    "from sklearn.metrics import mean_squared_error\n",
    "np.sqrt(mean_squared_error(y_test[0], test_predictions[:,0]))\n"
   ]
  },
  {
   "cell_type": "code",
   "execution_count": 423,
   "metadata": {},
   "outputs": [
    {
     "data": {
      "text/plain": [
       "8.310431514228437"
      ]
     },
     "execution_count": 423,
     "metadata": {},
     "output_type": "execute_result"
    }
   ],
   "source": [
    "# Calculate the Mean Absolute Percentage Error of the predictions on the test data\n",
    "def mean_absolute_percentage_error(y_true, y_pred):\n",
    "    return np.mean(np.abs((y_true - y_pred) / y_true)) * 100\n",
    "mean_absolute_percentage_error(y_test[0], test_predictions[:,0])"
   ]
  },
  {
   "cell_type": "code",
   "execution_count": 424,
   "metadata": {},
   "outputs": [
    {
     "data": {
      "text/plain": [
       "-0.05813356438216566"
      ]
     },
     "execution_count": 424,
     "metadata": {},
     "output_type": "execute_result"
    }
   ],
   "source": [
    "# calculate the r squared value of the predictions on the test data\n",
    "from sklearn.metrics import r2_score\n",
    "r2_score(y_test[0], test_predictions[:,0])"
   ]
  },
  {
   "cell_type": "code",
   "execution_count": null,
   "metadata": {},
   "outputs": [],
   "source": []
  }
 ],
 "metadata": {
  "kernelspec": {
   "display_name": "Python 3",
   "language": "python",
   "name": "python3"
  },
  "language_info": {
   "codemirror_mode": {
    "name": "ipython",
    "version": 3
   },
   "file_extension": ".py",
   "mimetype": "text/x-python",
   "name": "python",
   "nbconvert_exporter": "python",
   "pygments_lexer": "ipython3",
   "version": "3.10.11"
  },
  "orig_nbformat": 4
 },
 "nbformat": 4,
 "nbformat_minor": 2
}
