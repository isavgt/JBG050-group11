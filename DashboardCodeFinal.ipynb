{
 "cells": [
  {
   "cell_type": "code",
   "execution_count": 1,
   "metadata": {},
   "outputs": [
    {
     "name": "stderr",
     "output_type": "stream",
     "text": [
      "c:\\Users\\20212828\\AppData\\Local\\Programs\\Python\\Python38\\lib\\site-packages\\tqdm\\auto.py:22: TqdmWarning: IProgress not found. Please update jupyter and ipywidgets. See https://ipywidgets.readthedocs.io/en/stable/user_install.html\n",
      "  from .autonotebook import tqdm as notebook_tqdm\n"
     ]
    }
   ],
   "source": [
    "from prophet import Prophet\n",
    "import itertools\n",
    "from prophet.diagnostics import cross_validation, performance_metrics\n",
    "import plotly.offline as py\n",
    "import matplotlib as plt\n",
    "import numpy as np\n",
    "import pandas as pd\n",
    "import matplotlib.pyplot as plt\n",
    "import holidays\n",
    "from sklearn.metrics import r2_score, mean_absolute_error\n",
    "import base64\n",
    "import math"
   ]
  },
  {
   "cell_type": "code",
   "execution_count": 2,
   "metadata": {},
   "outputs": [],
   "source": [
    "training_upto = 2020\n",
    "forecast_upto = (2023-training_upto-1)*12 + 24"
   ]
  },
  {
   "cell_type": "code",
   "execution_count": 3,
   "metadata": {},
   "outputs": [],
   "source": [
    "the_file = pd.read_csv('C:/Users/20212828/Downloads/Bigfile/filtered_df_utility_cols.csv')"
   ]
  },
  {
   "cell_type": "code",
   "execution_count": 4,
   "metadata": {},
   "outputs": [
    {
     "data": {
      "text/html": [
       "<div>\n",
       "<style scoped>\n",
       "    .dataframe tbody tr th:only-of-type {\n",
       "        vertical-align: middle;\n",
       "    }\n",
       "\n",
       "    .dataframe tbody tr th {\n",
       "        vertical-align: top;\n",
       "    }\n",
       "\n",
       "    .dataframe thead th {\n",
       "        text-align: right;\n",
       "    }\n",
       "</style>\n",
       "<table border=\"1\" class=\"dataframe\">\n",
       "  <thead>\n",
       "    <tr style=\"text-align: right;\">\n",
       "      <th></th>\n",
       "      <th>year</th>\n",
       "      <th>month</th>\n",
       "      <th>Crime type</th>\n",
       "      <th>day</th>\n",
       "      <th>ds</th>\n",
       "      <th>y</th>\n",
       "      <th>covid</th>\n",
       "    </tr>\n",
       "  </thead>\n",
       "  <tbody>\n",
       "    <tr>\n",
       "      <th>0</th>\n",
       "      <td>2010</td>\n",
       "      <td>12</td>\n",
       "      <td>372</td>\n",
       "      <td>1</td>\n",
       "      <td>2010-12-01</td>\n",
       "      <td>372</td>\n",
       "      <td>0</td>\n",
       "    </tr>\n",
       "    <tr>\n",
       "      <th>1</th>\n",
       "      <td>2011</td>\n",
       "      <td>1</td>\n",
       "      <td>486</td>\n",
       "      <td>1</td>\n",
       "      <td>2011-01-01</td>\n",
       "      <td>486</td>\n",
       "      <td>0</td>\n",
       "    </tr>\n",
       "    <tr>\n",
       "      <th>2</th>\n",
       "      <td>2011</td>\n",
       "      <td>2</td>\n",
       "      <td>403</td>\n",
       "      <td>1</td>\n",
       "      <td>2011-02-01</td>\n",
       "      <td>403</td>\n",
       "      <td>0</td>\n",
       "    </tr>\n",
       "    <tr>\n",
       "      <th>3</th>\n",
       "      <td>2011</td>\n",
       "      <td>3</td>\n",
       "      <td>408</td>\n",
       "      <td>1</td>\n",
       "      <td>2011-03-01</td>\n",
       "      <td>408</td>\n",
       "      <td>0</td>\n",
       "    </tr>\n",
       "    <tr>\n",
       "      <th>4</th>\n",
       "      <td>2011</td>\n",
       "      <td>4</td>\n",
       "      <td>414</td>\n",
       "      <td>1</td>\n",
       "      <td>2011-04-01</td>\n",
       "      <td>414</td>\n",
       "      <td>0</td>\n",
       "    </tr>\n",
       "    <tr>\n",
       "      <th>...</th>\n",
       "      <td>...</td>\n",
       "      <td>...</td>\n",
       "      <td>...</td>\n",
       "      <td>...</td>\n",
       "      <td>...</td>\n",
       "      <td>...</td>\n",
       "      <td>...</td>\n",
       "    </tr>\n",
       "    <tr>\n",
       "      <th>143</th>\n",
       "      <td>2022</td>\n",
       "      <td>11</td>\n",
       "      <td>246</td>\n",
       "      <td>1</td>\n",
       "      <td>2022-11-01</td>\n",
       "      <td>246</td>\n",
       "      <td>0</td>\n",
       "    </tr>\n",
       "    <tr>\n",
       "      <th>144</th>\n",
       "      <td>2022</td>\n",
       "      <td>12</td>\n",
       "      <td>228</td>\n",
       "      <td>1</td>\n",
       "      <td>2022-12-01</td>\n",
       "      <td>228</td>\n",
       "      <td>0</td>\n",
       "    </tr>\n",
       "    <tr>\n",
       "      <th>145</th>\n",
       "      <td>2023</td>\n",
       "      <td>1</td>\n",
       "      <td>242</td>\n",
       "      <td>1</td>\n",
       "      <td>2023-01-01</td>\n",
       "      <td>242</td>\n",
       "      <td>0</td>\n",
       "    </tr>\n",
       "    <tr>\n",
       "      <th>146</th>\n",
       "      <td>2023</td>\n",
       "      <td>2</td>\n",
       "      <td>199</td>\n",
       "      <td>1</td>\n",
       "      <td>2023-02-01</td>\n",
       "      <td>199</td>\n",
       "      <td>0</td>\n",
       "    </tr>\n",
       "    <tr>\n",
       "      <th>147</th>\n",
       "      <td>2023</td>\n",
       "      <td>3</td>\n",
       "      <td>231</td>\n",
       "      <td>1</td>\n",
       "      <td>2023-03-01</td>\n",
       "      <td>231</td>\n",
       "      <td>0</td>\n",
       "    </tr>\n",
       "  </tbody>\n",
       "</table>\n",
       "<p>148 rows × 7 columns</p>\n",
       "</div>"
      ],
      "text/plain": [
       "     year  month  Crime type  day         ds    y  covid\n",
       "0    2010     12         372    1 2010-12-01  372      0\n",
       "1    2011      1         486    1 2011-01-01  486      0\n",
       "2    2011      2         403    1 2011-02-01  403      0\n",
       "3    2011      3         408    1 2011-03-01  408      0\n",
       "4    2011      4         414    1 2011-04-01  414      0\n",
       "..    ...    ...         ...  ...        ...  ...    ...\n",
       "143  2022     11         246    1 2022-11-01  246      0\n",
       "144  2022     12         228    1 2022-12-01  228      0\n",
       "145  2023      1         242    1 2023-01-01  242      0\n",
       "146  2023      2         199    1 2023-02-01  199      0\n",
       "147  2023      3         231    1 2023-03-01  231      0\n",
       "\n",
       "[148 rows x 7 columns]"
      ]
     },
     "execution_count": 4,
     "metadata": {},
     "output_type": "execute_result"
    }
   ],
   "source": [
    "# Read data, get dataframe with crimes/month\n",
    "monthly_grouped_df = the_file.copy()\n",
    "monthly_grouped_df= monthly_grouped_df.sort_values(['Year','Month num'],ascending=False).groupby(['Year', 'Month num'])['Crime type'].count()\n",
    "monthly_grouped_df = monthly_grouped_df.to_frame()\n",
    "\n",
    "\n",
    "# Rename columns, select rows with data and set datetime index\n",
    "monthly_grouped_df = monthly_grouped_df.rename(columns = {'Month num':'y'})\n",
    "monthly_grouped_df['day'] = 1\n",
    "monthly_grouped_df = monthly_grouped_df.reset_index()\n",
    "# monthly_grouped_df = monthly_grouped_df[(monthly_grouped_df['Year']>=2011) | ((monthly_grouped_df['Year'] == 2010) & (monthly_grouped_df['Month num']==12))]\n",
    "monthly_grouped_df = monthly_grouped_df.rename(columns={'Month num': 'month', 'Year': 'year'})\n",
    "monthly_grouped_df['ds'] = pd.to_datetime(monthly_grouped_df[['year', 'month', 'day']])\n",
    "monthly_grouped_df['y'] = monthly_grouped_df['Crime type']\n",
    "monthly_grouped_df['covid']  = 0\n",
    "monthly_grouped_df['covid'][((monthly_grouped_df['year']==2020) & (monthly_grouped_df['month']>2)) | ((monthly_grouped_df['year']==2021)& (monthly_grouped_df['month']<6))]\n",
    "# monthly_grouped_df = monthly_grouped_df.set_index(pd.DatetimeIndex(monthly_grouped_df['Date']))\n",
    "\n",
    "# Getting Holidays\n",
    "holiday = pd.DataFrame([])\n",
    "for date, name in sorted(holidays.country_holidays('GB', subdiv='England', years=[2012, 2013, 2014, 2015, 2016, 2017, 2018,2019,2020,2021, 2022, 2023, 2024]).items()):\n",
    "    #holiday = holiday.append(pd.DataFrame({'ds': date, 'holiday': \"England-Holidays\"}, index=[0]), ignore_index=True)\n",
    "    holiday= pd.concat([holiday, pd.DataFrame({'ds': date, 'holiday': \"England-Holidays\"}, index=[0])], ignore_index=True)\n",
    "\n",
    "holiday['ds'] = pd.to_datetime(holiday['ds'], format='%Y-%m-%d', errors='ignore')\n",
    "\n",
    "# Divide test and train data\n",
    "train_data = monthly_grouped_df[monthly_grouped_df['year']<(training_upto+1)]\n",
    "test_data = monthly_grouped_df[(monthly_grouped_df['year']>training_upto)]\n",
    "\n",
    "monthly_grouped_df"
   ]
  },
  {
   "cell_type": "code",
   "execution_count": 5,
   "metadata": {},
   "outputs": [
    {
     "name": "stderr",
     "output_type": "stream",
     "text": [
      "13:20:16 - cmdstanpy - INFO - Chain [1] start processing\n",
      "13:20:16 - cmdstanpy - INFO - Chain [1] done processing\n",
      "13:20:28 - cmdstanpy - INFO - Chain [1] start processing\n",
      "13:20:28 - cmdstanpy - INFO - Chain [1] done processing\n",
      "13:20:37 - cmdstanpy - INFO - Chain [1] start processing\n",
      "13:20:37 - cmdstanpy - INFO - Chain [1] done processing\n",
      "13:20:46 - cmdstanpy - INFO - Chain [1] start processing\n",
      "13:20:46 - cmdstanpy - INFO - Chain [1] done processing\n",
      "13:20:55 - cmdstanpy - INFO - Chain [1] start processing\n",
      "13:20:55 - cmdstanpy - INFO - Chain [1] done processing\n",
      "13:21:04 - cmdstanpy - INFO - Chain [1] start processing\n",
      "13:21:04 - cmdstanpy - INFO - Chain [1] done processing\n",
      "13:21:13 - cmdstanpy - INFO - Chain [1] start processing\n",
      "13:21:13 - cmdstanpy - INFO - Chain [1] done processing\n",
      "13:21:23 - cmdstanpy - INFO - Chain [1] start processing\n",
      "13:21:23 - cmdstanpy - INFO - Chain [1] done processing\n",
      "13:21:31 - cmdstanpy - INFO - Chain [1] start processing\n",
      "13:21:31 - cmdstanpy - INFO - Chain [1] done processing\n",
      "13:21:41 - cmdstanpy - INFO - Chain [1] start processing\n",
      "13:21:41 - cmdstanpy - INFO - Chain [1] done processing\n",
      "13:21:49 - cmdstanpy - INFO - Chain [1] start processing\n",
      "13:21:49 - cmdstanpy - INFO - Chain [1] done processing\n",
      "13:21:58 - cmdstanpy - INFO - Chain [1] start processing\n",
      "13:21:58 - cmdstanpy - INFO - Chain [1] done processing\n",
      "13:22:09 - cmdstanpy - INFO - Chain [1] start processing\n",
      "13:22:09 - cmdstanpy - INFO - Chain [1] done processing\n",
      "13:22:18 - cmdstanpy - INFO - Chain [1] start processing\n",
      "13:22:18 - cmdstanpy - INFO - Chain [1] done processing\n",
      "13:22:27 - cmdstanpy - INFO - Chain [1] start processing\n",
      "13:22:27 - cmdstanpy - INFO - Chain [1] done processing\n",
      "13:22:36 - cmdstanpy - INFO - Chain [1] start processing\n",
      "13:22:36 - cmdstanpy - INFO - Chain [1] done processing\n",
      "13:22:46 - cmdstanpy - INFO - Chain [1] start processing\n",
      "13:22:46 - cmdstanpy - INFO - Chain [1] done processing\n",
      "13:22:55 - cmdstanpy - INFO - Chain [1] start processing\n",
      "13:22:55 - cmdstanpy - INFO - Chain [1] done processing\n",
      "13:23:03 - cmdstanpy - INFO - Chain [1] start processing\n",
      "13:23:03 - cmdstanpy - INFO - Chain [1] done processing\n",
      "13:23:12 - cmdstanpy - INFO - Chain [1] start processing\n",
      "13:23:12 - cmdstanpy - INFO - Chain [1] done processing\n",
      "13:23:21 - cmdstanpy - INFO - Chain [1] start processing\n",
      "13:23:21 - cmdstanpy - INFO - Chain [1] done processing\n",
      "13:23:29 - cmdstanpy - INFO - Chain [1] start processing\n",
      "13:23:29 - cmdstanpy - INFO - Chain [1] done processing\n",
      "13:23:37 - cmdstanpy - INFO - Chain [1] start processing\n",
      "13:23:37 - cmdstanpy - INFO - Chain [1] done processing\n",
      "13:23:45 - cmdstanpy - INFO - Chain [1] start processing\n",
      "13:23:45 - cmdstanpy - INFO - Chain [1] done processing\n",
      "13:23:53 - cmdstanpy - INFO - Chain [1] start processing\n",
      "13:23:53 - cmdstanpy - INFO - Chain [1] done processing\n",
      "13:24:01 - cmdstanpy - INFO - Chain [1] start processing\n",
      "13:24:01 - cmdstanpy - INFO - Chain [1] done processing\n",
      "13:24:10 - cmdstanpy - INFO - Chain [1] start processing\n",
      "13:24:10 - cmdstanpy - INFO - Chain [1] done processing\n",
      "13:24:18 - cmdstanpy - INFO - Chain [1] start processing\n",
      "13:24:18 - cmdstanpy - INFO - Chain [1] done processing\n",
      "13:24:27 - cmdstanpy - INFO - Chain [1] start processing\n",
      "13:24:27 - cmdstanpy - INFO - Chain [1] done processing\n",
      "13:24:34 - cmdstanpy - INFO - Chain [1] start processing\n",
      "13:24:34 - cmdstanpy - INFO - Chain [1] done processing\n",
      "13:24:42 - cmdstanpy - INFO - Chain [1] start processing\n",
      "13:24:42 - cmdstanpy - INFO - Chain [1] done processing\n",
      "13:24:49 - cmdstanpy - INFO - Chain [1] start processing\n",
      "13:24:49 - cmdstanpy - INFO - Chain [1] done processing\n",
      "13:24:57 - cmdstanpy - INFO - Chain [1] start processing\n",
      "13:24:57 - cmdstanpy - INFO - Chain [1] done processing\n",
      "13:25:06 - cmdstanpy - INFO - Chain [1] start processing\n",
      "13:25:06 - cmdstanpy - INFO - Chain [1] done processing\n",
      "13:25:15 - cmdstanpy - INFO - Chain [1] start processing\n",
      "13:25:15 - cmdstanpy - INFO - Chain [1] done processing\n",
      "13:25:23 - cmdstanpy - INFO - Chain [1] start processing\n",
      "13:25:23 - cmdstanpy - INFO - Chain [1] done processing\n",
      "13:25:33 - cmdstanpy - INFO - Chain [1] start processing\n",
      "13:25:33 - cmdstanpy - INFO - Chain [1] done processing\n",
      "13:25:41 - cmdstanpy - INFO - Chain [1] start processing\n",
      "13:25:41 - cmdstanpy - INFO - Chain [1] done processing\n",
      "13:25:50 - cmdstanpy - INFO - Chain [1] start processing\n",
      "13:25:50 - cmdstanpy - INFO - Chain [1] done processing\n",
      "13:25:59 - cmdstanpy - INFO - Chain [1] start processing\n",
      "13:25:59 - cmdstanpy - INFO - Chain [1] done processing\n",
      "13:26:08 - cmdstanpy - INFO - Chain [1] start processing\n",
      "13:26:08 - cmdstanpy - INFO - Chain [1] done processing\n",
      "13:26:16 - cmdstanpy - INFO - Chain [1] start processing\n",
      "13:26:16 - cmdstanpy - INFO - Chain [1] done processing\n",
      "13:26:25 - cmdstanpy - INFO - Chain [1] start processing\n",
      "13:26:25 - cmdstanpy - INFO - Chain [1] done processing\n",
      "13:26:34 - cmdstanpy - INFO - Chain [1] start processing\n",
      "13:26:34 - cmdstanpy - INFO - Chain [1] done processing\n",
      "13:26:43 - cmdstanpy - INFO - Chain [1] start processing\n",
      "13:26:43 - cmdstanpy - INFO - Chain [1] done processing\n",
      "13:26:52 - cmdstanpy - INFO - Chain [1] start processing\n",
      "13:26:52 - cmdstanpy - INFO - Chain [1] done processing\n",
      "13:27:01 - cmdstanpy - INFO - Chain [1] start processing\n",
      "13:27:01 - cmdstanpy - INFO - Chain [1] done processing\n",
      "13:27:10 - cmdstanpy - INFO - Chain [1] start processing\n",
      "13:27:10 - cmdstanpy - INFO - Chain [1] done processing\n",
      "13:27:18 - cmdstanpy - INFO - Chain [1] start processing\n",
      "13:27:18 - cmdstanpy - INFO - Chain [1] done processing\n",
      "13:27:25 - cmdstanpy - INFO - Chain [1] start processing\n",
      "13:27:25 - cmdstanpy - INFO - Chain [1] done processing\n",
      "13:27:31 - cmdstanpy - INFO - Chain [1] start processing\n",
      "13:27:31 - cmdstanpy - INFO - Chain [1] done processing\n",
      "13:27:38 - cmdstanpy - INFO - Chain [1] start processing\n",
      "13:27:38 - cmdstanpy - INFO - Chain [1] done processing\n",
      "13:27:44 - cmdstanpy - INFO - Chain [1] start processing\n",
      "13:27:44 - cmdstanpy - INFO - Chain [1] done processing\n",
      "13:27:51 - cmdstanpy - INFO - Chain [1] start processing\n",
      "13:27:51 - cmdstanpy - INFO - Chain [1] done processing\n",
      "13:27:58 - cmdstanpy - INFO - Chain [1] start processing\n",
      "13:27:58 - cmdstanpy - INFO - Chain [1] done processing\n",
      "13:28:04 - cmdstanpy - INFO - Chain [1] start processing\n",
      "13:28:04 - cmdstanpy - INFO - Chain [1] done processing\n",
      "13:28:11 - cmdstanpy - INFO - Chain [1] start processing\n",
      "13:28:11 - cmdstanpy - INFO - Chain [1] done processing\n",
      "13:28:17 - cmdstanpy - INFO - Chain [1] start processing\n",
      "13:28:17 - cmdstanpy - INFO - Chain [1] done processing\n",
      "13:28:24 - cmdstanpy - INFO - Chain [1] start processing\n",
      "13:28:24 - cmdstanpy - INFO - Chain [1] done processing\n",
      "13:28:30 - cmdstanpy - INFO - Chain [1] start processing\n",
      "13:28:30 - cmdstanpy - INFO - Chain [1] done processing\n",
      "13:28:37 - cmdstanpy - INFO - Chain [1] start processing\n",
      "13:28:37 - cmdstanpy - INFO - Chain [1] done processing\n",
      "13:28:44 - cmdstanpy - INFO - Chain [1] start processing\n",
      "13:28:44 - cmdstanpy - INFO - Chain [1] done processing\n",
      "13:28:50 - cmdstanpy - INFO - Chain [1] start processing\n",
      "13:28:50 - cmdstanpy - INFO - Chain [1] done processing\n",
      "13:28:56 - cmdstanpy - INFO - Chain [1] start processing\n",
      "13:28:56 - cmdstanpy - INFO - Chain [1] done processing\n",
      "13:29:03 - cmdstanpy - INFO - Chain [1] start processing\n",
      "13:29:03 - cmdstanpy - INFO - Chain [1] done processing\n",
      "13:29:12 - cmdstanpy - INFO - Chain [1] start processing\n",
      "13:29:12 - cmdstanpy - INFO - Chain [1] done processing\n",
      "13:29:21 - cmdstanpy - INFO - Chain [1] start processing\n",
      "13:29:21 - cmdstanpy - INFO - Chain [1] done processing\n",
      "13:29:30 - cmdstanpy - INFO - Chain [1] start processing\n",
      "13:29:30 - cmdstanpy - INFO - Chain [1] done processing\n",
      "13:29:38 - cmdstanpy - INFO - Chain [1] start processing\n",
      "13:29:39 - cmdstanpy - INFO - Chain [1] done processing\n",
      "13:29:47 - cmdstanpy - INFO - Chain [1] start processing\n",
      "13:29:47 - cmdstanpy - INFO - Chain [1] done processing\n",
      "13:29:56 - cmdstanpy - INFO - Chain [1] start processing\n",
      "13:29:56 - cmdstanpy - INFO - Chain [1] done processing\n",
      "13:30:05 - cmdstanpy - INFO - Chain [1] start processing\n",
      "13:30:05 - cmdstanpy - INFO - Chain [1] done processing\n",
      "13:30:14 - cmdstanpy - INFO - Chain [1] start processing\n",
      "13:30:14 - cmdstanpy - INFO - Chain [1] done processing\n",
      "13:30:23 - cmdstanpy - INFO - Chain [1] start processing\n",
      "13:30:23 - cmdstanpy - INFO - Chain [1] done processing\n",
      "13:30:32 - cmdstanpy - INFO - Chain [1] start processing\n",
      "13:30:32 - cmdstanpy - INFO - Chain [1] done processing\n",
      "13:30:41 - cmdstanpy - INFO - Chain [1] start processing\n",
      "13:30:41 - cmdstanpy - INFO - Chain [1] done processing\n",
      "13:30:50 - cmdstanpy - INFO - Chain [1] start processing\n",
      "13:30:50 - cmdstanpy - INFO - Chain [1] done processing\n",
      "13:30:58 - cmdstanpy - INFO - Chain [1] start processing\n",
      "13:30:58 - cmdstanpy - INFO - Chain [1] done processing\n",
      "13:31:06 - cmdstanpy - INFO - Chain [1] start processing\n",
      "13:31:06 - cmdstanpy - INFO - Chain [1] done processing\n",
      "13:31:15 - cmdstanpy - INFO - Chain [1] start processing\n",
      "13:31:15 - cmdstanpy - INFO - Chain [1] done processing\n",
      "13:31:23 - cmdstanpy - INFO - Chain [1] start processing\n",
      "13:31:23 - cmdstanpy - INFO - Chain [1] done processing\n",
      "13:31:31 - cmdstanpy - INFO - Chain [1] start processing\n",
      "13:31:31 - cmdstanpy - INFO - Chain [1] done processing\n",
      "13:31:38 - cmdstanpy - INFO - Chain [1] start processing\n",
      "13:31:38 - cmdstanpy - INFO - Chain [1] done processing\n",
      "13:31:46 - cmdstanpy - INFO - Chain [1] start processing\n",
      "13:31:46 - cmdstanpy - INFO - Chain [1] done processing\n",
      "13:31:54 - cmdstanpy - INFO - Chain [1] start processing\n",
      "13:31:54 - cmdstanpy - INFO - Chain [1] done processing\n",
      "13:32:01 - cmdstanpy - INFO - Chain [1] start processing\n",
      "13:32:02 - cmdstanpy - INFO - Chain [1] done processing\n",
      "13:32:09 - cmdstanpy - INFO - Chain [1] start processing\n",
      "13:32:09 - cmdstanpy - INFO - Chain [1] done processing\n",
      "13:32:17 - cmdstanpy - INFO - Chain [1] start processing\n",
      "13:32:17 - cmdstanpy - INFO - Chain [1] done processing\n",
      "13:32:24 - cmdstanpy - INFO - Chain [1] start processing\n",
      "13:32:24 - cmdstanpy - INFO - Chain [1] done processing\n",
      "13:32:32 - cmdstanpy - INFO - Chain [1] start processing\n",
      "13:32:32 - cmdstanpy - INFO - Chain [1] done processing\n",
      "13:32:40 - cmdstanpy - INFO - Chain [1] start processing\n",
      "13:32:40 - cmdstanpy - INFO - Chain [1] done processing\n",
      "13:32:47 - cmdstanpy - INFO - Chain [1] start processing\n",
      "13:32:47 - cmdstanpy - INFO - Chain [1] done processing\n",
      "13:32:55 - cmdstanpy - INFO - Chain [1] start processing\n",
      "13:32:55 - cmdstanpy - INFO - Chain [1] done processing\n",
      "13:33:02 - cmdstanpy - INFO - Chain [1] start processing\n",
      "13:33:02 - cmdstanpy - INFO - Chain [1] done processing\n",
      "13:33:10 - cmdstanpy - INFO - Chain [1] start processing\n",
      "13:33:10 - cmdstanpy - INFO - Chain [1] done processing\n",
      "13:33:17 - cmdstanpy - INFO - Chain [1] start processing\n",
      "13:33:17 - cmdstanpy - INFO - Chain [1] done processing\n",
      "13:33:25 - cmdstanpy - INFO - Chain [1] start processing\n",
      "13:33:25 - cmdstanpy - INFO - Chain [1] done processing\n",
      "13:33:34 - cmdstanpy - INFO - Chain [1] start processing\n",
      "13:33:34 - cmdstanpy - INFO - Chain [1] done processing\n",
      "13:33:43 - cmdstanpy - INFO - Chain [1] start processing\n",
      "13:33:43 - cmdstanpy - INFO - Chain [1] done processing\n",
      "13:33:52 - cmdstanpy - INFO - Chain [1] start processing\n",
      "13:33:52 - cmdstanpy - INFO - Chain [1] done processing\n",
      "13:34:01 - cmdstanpy - INFO - Chain [1] start processing\n",
      "13:34:01 - cmdstanpy - INFO - Chain [1] done processing\n",
      "13:34:09 - cmdstanpy - INFO - Chain [1] start processing\n",
      "13:34:10 - cmdstanpy - INFO - Chain [1] done processing\n",
      "13:34:18 - cmdstanpy - INFO - Chain [1] start processing\n",
      "13:34:18 - cmdstanpy - INFO - Chain [1] done processing\n",
      "13:34:28 - cmdstanpy - INFO - Chain [1] start processing\n",
      "13:34:28 - cmdstanpy - INFO - Chain [1] done processing\n",
      "13:34:36 - cmdstanpy - INFO - Chain [1] start processing\n",
      "13:34:36 - cmdstanpy - INFO - Chain [1] done processing\n",
      "13:34:46 - cmdstanpy - INFO - Chain [1] start processing\n",
      "13:34:46 - cmdstanpy - INFO - Chain [1] done processing\n",
      "13:34:54 - cmdstanpy - INFO - Chain [1] start processing\n",
      "13:34:54 - cmdstanpy - INFO - Chain [1] done processing\n",
      "13:35:03 - cmdstanpy - INFO - Chain [1] start processing\n",
      "13:35:04 - cmdstanpy - INFO - Chain [1] done processing\n",
      "13:35:12 - cmdstanpy - INFO - Chain [1] start processing\n",
      "13:35:12 - cmdstanpy - INFO - Chain [1] done processing\n",
      "13:35:21 - cmdstanpy - INFO - Chain [1] start processing\n",
      "13:35:21 - cmdstanpy - INFO - Chain [1] done processing\n",
      "13:35:29 - cmdstanpy - INFO - Chain [1] start processing\n",
      "13:35:29 - cmdstanpy - INFO - Chain [1] done processing\n",
      "13:35:38 - cmdstanpy - INFO - Chain [1] start processing\n",
      "13:35:38 - cmdstanpy - INFO - Chain [1] done processing\n",
      "13:35:46 - cmdstanpy - INFO - Chain [1] start processing\n",
      "13:35:46 - cmdstanpy - INFO - Chain [1] done processing\n",
      "13:35:53 - cmdstanpy - INFO - Chain [1] start processing\n",
      "13:35:53 - cmdstanpy - INFO - Chain [1] done processing\n",
      "13:36:00 - cmdstanpy - INFO - Chain [1] start processing\n",
      "13:36:00 - cmdstanpy - INFO - Chain [1] done processing\n",
      "13:36:06 - cmdstanpy - INFO - Chain [1] start processing\n",
      "13:36:07 - cmdstanpy - INFO - Chain [1] done processing\n",
      "13:36:13 - cmdstanpy - INFO - Chain [1] start processing\n",
      "13:36:13 - cmdstanpy - INFO - Chain [1] done processing\n",
      "13:36:20 - cmdstanpy - INFO - Chain [1] start processing\n",
      "13:36:20 - cmdstanpy - INFO - Chain [1] done processing\n",
      "13:36:26 - cmdstanpy - INFO - Chain [1] start processing\n",
      "13:36:26 - cmdstanpy - INFO - Chain [1] done processing\n",
      "13:36:33 - cmdstanpy - INFO - Chain [1] start processing\n",
      "13:36:33 - cmdstanpy - INFO - Chain [1] done processing\n",
      "13:36:39 - cmdstanpy - INFO - Chain [1] start processing\n",
      "13:36:39 - cmdstanpy - INFO - Chain [1] done processing\n",
      "13:36:47 - cmdstanpy - INFO - Chain [1] start processing\n",
      "13:36:47 - cmdstanpy - INFO - Chain [1] done processing\n",
      "13:36:54 - cmdstanpy - INFO - Chain [1] start processing\n",
      "13:36:54 - cmdstanpy - INFO - Chain [1] done processing\n",
      "13:37:01 - cmdstanpy - INFO - Chain [1] start processing\n",
      "13:37:01 - cmdstanpy - INFO - Chain [1] done processing\n",
      "13:37:08 - cmdstanpy - INFO - Chain [1] start processing\n",
      "13:37:08 - cmdstanpy - INFO - Chain [1] done processing\n",
      "13:37:15 - cmdstanpy - INFO - Chain [1] start processing\n",
      "13:37:15 - cmdstanpy - INFO - Chain [1] done processing\n",
      "13:37:22 - cmdstanpy - INFO - Chain [1] start processing\n",
      "13:37:23 - cmdstanpy - INFO - Chain [1] done processing\n",
      "13:37:29 - cmdstanpy - INFO - Chain [1] start processing\n",
      "13:37:29 - cmdstanpy - INFO - Chain [1] done processing\n"
     ]
    },
    {
     "name": "stdout",
     "output_type": "stream",
     "text": [
      "Mean absolute error:  59\n",
      "Best parameters {'seasonality_mode': 'multiplicative', 'changepoint_prior_scale': 0.01, 'seasonality_prior_scale': 1, 'holidays_prior_scale': 50}\n"
     ]
    }
   ],
   "source": [
    "param_grid = { \n",
    "    'seasonality_mode':('multiplicative','additive'), \n",
    "    'changepoint_prior_scale': [0.5, 0.1, 1,0.01],\n",
    "    'seasonality_prior_scale': [0.5, 0.1, 1, 0.01],\n",
    "    'holidays_prior_scale':[1, 10, 25, 50],\n",
    "}\n",
    "\n",
    "# Generate all combinations of parameters\n",
    "all_params = [dict(zip(param_grid.keys(), v)) for v in itertools.product(*param_grid.values())]\n",
    "maes = []  # Store the RMSEs for each params here\n",
    "\n",
    "cutoffs = pd.date_range(start='2015-01-01', end='2021-12-01', freq='2MS')\n",
    "\n",
    "# Use cross validation to evaluate all parameters\n",
    "for params in all_params:\n",
    "    m = Prophet(**params, holidays= holiday).fit(monthly_grouped_df)  # Fit model with given params\n",
    "    df_cv = cross_validation(m, cutoffs=cutoffs, horizon='365 days', parallel=\"processes\")\n",
    "    df_p = performance_metrics(df_cv, rolling_window=1)\n",
    "    maes.append(df_p['mae'].values[0])\n",
    "\n",
    "# Find the best parameters\n",
    "tuning_results = pd.DataFrame(all_params)\n",
    "tuning_results['mae'] = maes\n",
    "print(\"Mean absolute error: \", np.argmin(maes))\n",
    "best_params = all_params[np.argmin(maes)]\n",
    "print(\"Best parameters\", best_params)"
   ]
  },
  {
   "cell_type": "code",
   "execution_count": 5,
   "metadata": {},
   "outputs": [
    {
     "name": "stderr",
     "output_type": "stream",
     "text": [
      "14:36:31 - cmdstanpy - INFO - Chain [1] start processing\n",
      "14:36:31 - cmdstanpy - INFO - Chain [1] done processing\n"
     ]
    },
    {
     "data": {
      "application/vnd.plotly.v1+json": {
       "config": {
        "plotlyServerURL": "https://plot.ly"
       },
       "data": [
        {
         "hovertemplate": "ds=%{x}<br>y=%{y}<extra></extra>",
         "legendgroup": "",
         "line": {
          "color": "#636efa",
          "dash": "solid"
         },
         "marker": {
          "symbol": "circle"
         },
         "mode": "lines",
         "name": "",
         "orientation": "v",
         "showlegend": false,
         "type": "scatter",
         "x": [
          "2010-12-01T00:00:00",
          "2011-01-01T00:00:00",
          "2011-02-01T00:00:00",
          "2011-03-01T00:00:00",
          "2011-04-01T00:00:00",
          "2011-05-01T00:00:00",
          "2011-06-01T00:00:00",
          "2011-07-01T00:00:00",
          "2011-08-01T00:00:00",
          "2011-09-01T00:00:00",
          "2011-10-01T00:00:00",
          "2011-11-01T00:00:00",
          "2011-12-01T00:00:00",
          "2012-01-01T00:00:00",
          "2012-02-01T00:00:00",
          "2012-03-01T00:00:00",
          "2012-04-01T00:00:00",
          "2012-05-01T00:00:00",
          "2012-06-01T00:00:00",
          "2012-07-01T00:00:00",
          "2012-08-01T00:00:00",
          "2012-09-01T00:00:00",
          "2012-10-01T00:00:00",
          "2012-11-01T00:00:00",
          "2012-12-01T00:00:00",
          "2013-01-01T00:00:00",
          "2013-02-01T00:00:00",
          "2013-03-01T00:00:00",
          "2013-04-01T00:00:00",
          "2013-05-01T00:00:00",
          "2013-06-01T00:00:00",
          "2013-07-01T00:00:00",
          "2013-08-01T00:00:00",
          "2013-09-01T00:00:00",
          "2013-10-01T00:00:00",
          "2013-11-01T00:00:00",
          "2013-12-01T00:00:00",
          "2014-01-01T00:00:00",
          "2014-02-01T00:00:00",
          "2014-03-01T00:00:00",
          "2014-04-01T00:00:00",
          "2014-05-01T00:00:00",
          "2014-06-01T00:00:00",
          "2014-07-01T00:00:00",
          "2014-08-01T00:00:00",
          "2014-09-01T00:00:00",
          "2014-10-01T00:00:00",
          "2014-11-01T00:00:00",
          "2014-12-01T00:00:00",
          "2015-01-01T00:00:00",
          "2015-02-01T00:00:00",
          "2015-03-01T00:00:00",
          "2015-04-01T00:00:00",
          "2015-05-01T00:00:00",
          "2015-06-01T00:00:00",
          "2015-07-01T00:00:00",
          "2015-08-01T00:00:00",
          "2015-09-01T00:00:00",
          "2015-10-01T00:00:00",
          "2015-11-01T00:00:00",
          "2015-12-01T00:00:00",
          "2016-01-01T00:00:00",
          "2016-02-01T00:00:00",
          "2016-03-01T00:00:00",
          "2016-04-01T00:00:00",
          "2016-05-01T00:00:00",
          "2016-06-01T00:00:00",
          "2016-07-01T00:00:00",
          "2016-08-01T00:00:00",
          "2016-09-01T00:00:00",
          "2016-10-01T00:00:00",
          "2016-11-01T00:00:00",
          "2016-12-01T00:00:00",
          "2017-01-01T00:00:00",
          "2017-02-01T00:00:00",
          "2017-03-01T00:00:00",
          "2017-04-01T00:00:00",
          "2017-05-01T00:00:00",
          "2017-06-01T00:00:00",
          "2017-07-01T00:00:00",
          "2017-08-01T00:00:00",
          "2017-09-01T00:00:00",
          "2017-10-01T00:00:00",
          "2017-11-01T00:00:00",
          "2017-12-01T00:00:00",
          "2018-01-01T00:00:00",
          "2018-02-01T00:00:00",
          "2018-03-01T00:00:00",
          "2018-04-01T00:00:00",
          "2018-05-01T00:00:00",
          "2018-06-01T00:00:00",
          "2018-07-01T00:00:00",
          "2018-08-01T00:00:00",
          "2018-09-01T00:00:00",
          "2018-10-01T00:00:00",
          "2018-11-01T00:00:00",
          "2018-12-01T00:00:00",
          "2019-01-01T00:00:00",
          "2019-02-01T00:00:00",
          "2019-03-01T00:00:00",
          "2019-04-01T00:00:00",
          "2019-05-01T00:00:00",
          "2019-06-01T00:00:00",
          "2019-07-01T00:00:00",
          "2019-08-01T00:00:00",
          "2019-09-01T00:00:00",
          "2019-10-01T00:00:00",
          "2019-11-01T00:00:00",
          "2019-12-01T00:00:00",
          "2020-01-01T00:00:00",
          "2020-02-01T00:00:00",
          "2020-03-01T00:00:00",
          "2020-04-01T00:00:00",
          "2020-05-01T00:00:00",
          "2020-06-01T00:00:00",
          "2020-07-01T00:00:00",
          "2020-08-01T00:00:00",
          "2020-09-01T00:00:00",
          "2020-10-01T00:00:00",
          "2020-11-01T00:00:00",
          "2020-12-01T00:00:00",
          "2021-01-01T00:00:00",
          "2021-02-01T00:00:00",
          "2021-03-01T00:00:00",
          "2021-04-01T00:00:00",
          "2021-05-01T00:00:00",
          "2021-06-01T00:00:00",
          "2021-07-01T00:00:00",
          "2021-08-01T00:00:00",
          "2021-09-01T00:00:00",
          "2021-10-01T00:00:00",
          "2021-11-01T00:00:00",
          "2021-12-01T00:00:00",
          "2022-01-01T00:00:00",
          "2022-02-01T00:00:00",
          "2022-03-01T00:00:00",
          "2022-04-01T00:00:00",
          "2022-05-01T00:00:00",
          "2022-06-01T00:00:00",
          "2022-07-01T00:00:00",
          "2022-08-01T00:00:00",
          "2022-09-01T00:00:00",
          "2022-10-01T00:00:00",
          "2022-11-01T00:00:00",
          "2022-12-01T00:00:00",
          "2023-01-01T00:00:00",
          "2023-02-01T00:00:00",
          "2023-03-01T00:00:00"
         ],
         "xaxis": "x",
         "y": [
          372,
          486,
          403,
          408,
          414,
          435,
          411,
          380,
          355,
          305,
          390,
          433,
          439,
          437,
          424,
          432,
          310,
          349,
          438,
          335,
          400,
          347,
          460,
          538,
          375,
          463,
          397,
          395,
          362,
          338,
          271,
          303,
          273,
          299,
          332,
          395,
          441,
          317,
          294,
          337,
          316,
          254,
          232,
          271,
          276,
          294,
          319,
          365,
          320,
          364,
          306,
          340,
          285,
          301,
          258,
          257,
          254,
          290,
          372,
          434,
          344,
          383,
          326,
          315,
          236,
          265,
          241,
          233,
          304,
          215,
          230,
          351,
          280,
          293,
          279,
          349,
          258,
          223,
          243,
          284,
          309,
          259,
          305,
          392,
          326,
          328,
          292,
          319,
          317,
          302,
          271,
          275,
          275,
          243,
          367,
          375,
          290,
          317,
          336,
          328,
          286,
          296,
          289,
          281,
          227,
          270,
          275,
          312,
          346,
          280,
          282,
          258,
          129,
          160,
          166,
          186,
          239,
          254,
          300,
          301,
          212,
          193,
          185,
          272,
          202,
          151,
          187,
          155,
          165,
          178,
          213,
          219,
          199,
          243,
          202,
          218,
          171,
          218,
          195,
          190,
          171,
          189,
          248,
          246,
          228,
          242,
          199,
          231
         ],
         "yaxis": "y"
        },
        {
         "name": "Prediction",
         "type": "scatter",
         "x": [
          "2021-01-01T00:00:00",
          "2021-02-01T00:00:00",
          "2021-03-01T00:00:00",
          "2021-04-01T00:00:00",
          "2021-05-01T00:00:00",
          "2021-06-01T00:00:00",
          "2021-07-01T00:00:00",
          "2021-08-01T00:00:00",
          "2021-09-01T00:00:00",
          "2021-10-01T00:00:00",
          "2021-11-01T00:00:00",
          "2021-12-01T00:00:00",
          "2022-01-01T00:00:00",
          "2022-02-01T00:00:00",
          "2022-03-01T00:00:00",
          "2022-04-01T00:00:00",
          "2022-05-01T00:00:00",
          "2022-06-01T00:00:00",
          "2022-07-01T00:00:00",
          "2022-08-01T00:00:00",
          "2022-09-01T00:00:00",
          "2022-10-01T00:00:00",
          "2022-11-01T00:00:00",
          "2022-12-01T00:00:00",
          "2023-01-01T00:00:00",
          "2023-02-01T00:00:00",
          "2023-03-01T00:00:00",
          "2023-04-01T00:00:00",
          "2023-05-01T00:00:00",
          "2023-06-01T00:00:00",
          "2023-07-01T00:00:00",
          "2023-08-01T00:00:00",
          "2023-09-01T00:00:00",
          "2023-10-01T00:00:00",
          "2023-11-01T00:00:00",
          "2023-12-01T00:00:00",
          "2024-01-01T00:00:00",
          "2024-02-01T00:00:00",
          "2024-03-01T00:00:00",
          "2024-04-01T00:00:00",
          "2024-05-01T00:00:00",
          "2024-06-01T00:00:00",
          "2024-07-01T00:00:00",
          "2024-08-01T00:00:00",
          "2024-09-01T00:00:00",
          "2024-10-01T00:00:00",
          "2024-11-01T00:00:00",
          "2024-12-01T00:00:00"
         ],
         "y": [
          268.2608266880213,
          242.49965720859856,
          254.18655601042346,
          215.75815408517053,
          217.82350657752968,
          211.06988326348568,
          207.7170309585465,
          213.50483843646649,
          200.41011679251835,
          240.40963169353705,
          278.82607277469583,
          237.17865764427444,
          250.76713891656377,
          226.69804821328128,
          237.67388758915044,
          201.65123783431088,
          203.4657832417469,
          196.9413399997476,
          193.57872156395058,
          198.80153260118712,
          186.77883113631378,
          224.24962989845858,
          259.4852292660369,
          220.5923355624665,
          233.2802891982512,
          210.89853208557398,
          221.12694521357363,
          187.52695571404436,
          190.7627569012278,
          182.8109422700018,
          179.46546251008493,
          184.14139605866015,
          173.16685062193469,
          208.04411538287806,
          240.14656599930558,
          204.04106726755666,
          215.80033912244053,
          195.09876314807056,
          203.84387371747692,
          174.3647398988181,
          174.2475993681892,
          168.72261112899804,
          165.9506036942833,
          170.40691838596572,
          159.52235658864672,
          190.81888057540417,
          221.37585412590488,
          188.09101939370467
         ]
        }
       ],
       "layout": {
        "legend": {
         "tracegroupgap": 0
        },
        "template": {
         "data": {
          "bar": [
           {
            "error_x": {
             "color": "#2a3f5f"
            },
            "error_y": {
             "color": "#2a3f5f"
            },
            "marker": {
             "line": {
              "color": "#E5ECF6",
              "width": 0.5
             },
             "pattern": {
              "fillmode": "overlay",
              "size": 10,
              "solidity": 0.2
             }
            },
            "type": "bar"
           }
          ],
          "barpolar": [
           {
            "marker": {
             "line": {
              "color": "#E5ECF6",
              "width": 0.5
             },
             "pattern": {
              "fillmode": "overlay",
              "size": 10,
              "solidity": 0.2
             }
            },
            "type": "barpolar"
           }
          ],
          "carpet": [
           {
            "aaxis": {
             "endlinecolor": "#2a3f5f",
             "gridcolor": "white",
             "linecolor": "white",
             "minorgridcolor": "white",
             "startlinecolor": "#2a3f5f"
            },
            "baxis": {
             "endlinecolor": "#2a3f5f",
             "gridcolor": "white",
             "linecolor": "white",
             "minorgridcolor": "white",
             "startlinecolor": "#2a3f5f"
            },
            "type": "carpet"
           }
          ],
          "choropleth": [
           {
            "colorbar": {
             "outlinewidth": 0,
             "ticks": ""
            },
            "type": "choropleth"
           }
          ],
          "contour": [
           {
            "colorbar": {
             "outlinewidth": 0,
             "ticks": ""
            },
            "colorscale": [
             [
              0,
              "#0d0887"
             ],
             [
              0.1111111111111111,
              "#46039f"
             ],
             [
              0.2222222222222222,
              "#7201a8"
             ],
             [
              0.3333333333333333,
              "#9c179e"
             ],
             [
              0.4444444444444444,
              "#bd3786"
             ],
             [
              0.5555555555555556,
              "#d8576b"
             ],
             [
              0.6666666666666666,
              "#ed7953"
             ],
             [
              0.7777777777777778,
              "#fb9f3a"
             ],
             [
              0.8888888888888888,
              "#fdca26"
             ],
             [
              1,
              "#f0f921"
             ]
            ],
            "type": "contour"
           }
          ],
          "contourcarpet": [
           {
            "colorbar": {
             "outlinewidth": 0,
             "ticks": ""
            },
            "type": "contourcarpet"
           }
          ],
          "heatmap": [
           {
            "colorbar": {
             "outlinewidth": 0,
             "ticks": ""
            },
            "colorscale": [
             [
              0,
              "#0d0887"
             ],
             [
              0.1111111111111111,
              "#46039f"
             ],
             [
              0.2222222222222222,
              "#7201a8"
             ],
             [
              0.3333333333333333,
              "#9c179e"
             ],
             [
              0.4444444444444444,
              "#bd3786"
             ],
             [
              0.5555555555555556,
              "#d8576b"
             ],
             [
              0.6666666666666666,
              "#ed7953"
             ],
             [
              0.7777777777777778,
              "#fb9f3a"
             ],
             [
              0.8888888888888888,
              "#fdca26"
             ],
             [
              1,
              "#f0f921"
             ]
            ],
            "type": "heatmap"
           }
          ],
          "heatmapgl": [
           {
            "colorbar": {
             "outlinewidth": 0,
             "ticks": ""
            },
            "colorscale": [
             [
              0,
              "#0d0887"
             ],
             [
              0.1111111111111111,
              "#46039f"
             ],
             [
              0.2222222222222222,
              "#7201a8"
             ],
             [
              0.3333333333333333,
              "#9c179e"
             ],
             [
              0.4444444444444444,
              "#bd3786"
             ],
             [
              0.5555555555555556,
              "#d8576b"
             ],
             [
              0.6666666666666666,
              "#ed7953"
             ],
             [
              0.7777777777777778,
              "#fb9f3a"
             ],
             [
              0.8888888888888888,
              "#fdca26"
             ],
             [
              1,
              "#f0f921"
             ]
            ],
            "type": "heatmapgl"
           }
          ],
          "histogram": [
           {
            "marker": {
             "pattern": {
              "fillmode": "overlay",
              "size": 10,
              "solidity": 0.2
             }
            },
            "type": "histogram"
           }
          ],
          "histogram2d": [
           {
            "colorbar": {
             "outlinewidth": 0,
             "ticks": ""
            },
            "colorscale": [
             [
              0,
              "#0d0887"
             ],
             [
              0.1111111111111111,
              "#46039f"
             ],
             [
              0.2222222222222222,
              "#7201a8"
             ],
             [
              0.3333333333333333,
              "#9c179e"
             ],
             [
              0.4444444444444444,
              "#bd3786"
             ],
             [
              0.5555555555555556,
              "#d8576b"
             ],
             [
              0.6666666666666666,
              "#ed7953"
             ],
             [
              0.7777777777777778,
              "#fb9f3a"
             ],
             [
              0.8888888888888888,
              "#fdca26"
             ],
             [
              1,
              "#f0f921"
             ]
            ],
            "type": "histogram2d"
           }
          ],
          "histogram2dcontour": [
           {
            "colorbar": {
             "outlinewidth": 0,
             "ticks": ""
            },
            "colorscale": [
             [
              0,
              "#0d0887"
             ],
             [
              0.1111111111111111,
              "#46039f"
             ],
             [
              0.2222222222222222,
              "#7201a8"
             ],
             [
              0.3333333333333333,
              "#9c179e"
             ],
             [
              0.4444444444444444,
              "#bd3786"
             ],
             [
              0.5555555555555556,
              "#d8576b"
             ],
             [
              0.6666666666666666,
              "#ed7953"
             ],
             [
              0.7777777777777778,
              "#fb9f3a"
             ],
             [
              0.8888888888888888,
              "#fdca26"
             ],
             [
              1,
              "#f0f921"
             ]
            ],
            "type": "histogram2dcontour"
           }
          ],
          "mesh3d": [
           {
            "colorbar": {
             "outlinewidth": 0,
             "ticks": ""
            },
            "type": "mesh3d"
           }
          ],
          "parcoords": [
           {
            "line": {
             "colorbar": {
              "outlinewidth": 0,
              "ticks": ""
             }
            },
            "type": "parcoords"
           }
          ],
          "pie": [
           {
            "automargin": true,
            "type": "pie"
           }
          ],
          "scatter": [
           {
            "fillpattern": {
             "fillmode": "overlay",
             "size": 10,
             "solidity": 0.2
            },
            "type": "scatter"
           }
          ],
          "scatter3d": [
           {
            "line": {
             "colorbar": {
              "outlinewidth": 0,
              "ticks": ""
             }
            },
            "marker": {
             "colorbar": {
              "outlinewidth": 0,
              "ticks": ""
             }
            },
            "type": "scatter3d"
           }
          ],
          "scattercarpet": [
           {
            "marker": {
             "colorbar": {
              "outlinewidth": 0,
              "ticks": ""
             }
            },
            "type": "scattercarpet"
           }
          ],
          "scattergeo": [
           {
            "marker": {
             "colorbar": {
              "outlinewidth": 0,
              "ticks": ""
             }
            },
            "type": "scattergeo"
           }
          ],
          "scattergl": [
           {
            "marker": {
             "colorbar": {
              "outlinewidth": 0,
              "ticks": ""
             }
            },
            "type": "scattergl"
           }
          ],
          "scattermapbox": [
           {
            "marker": {
             "colorbar": {
              "outlinewidth": 0,
              "ticks": ""
             }
            },
            "type": "scattermapbox"
           }
          ],
          "scatterpolar": [
           {
            "marker": {
             "colorbar": {
              "outlinewidth": 0,
              "ticks": ""
             }
            },
            "type": "scatterpolar"
           }
          ],
          "scatterpolargl": [
           {
            "marker": {
             "colorbar": {
              "outlinewidth": 0,
              "ticks": ""
             }
            },
            "type": "scatterpolargl"
           }
          ],
          "scatterternary": [
           {
            "marker": {
             "colorbar": {
              "outlinewidth": 0,
              "ticks": ""
             }
            },
            "type": "scatterternary"
           }
          ],
          "surface": [
           {
            "colorbar": {
             "outlinewidth": 0,
             "ticks": ""
            },
            "colorscale": [
             [
              0,
              "#0d0887"
             ],
             [
              0.1111111111111111,
              "#46039f"
             ],
             [
              0.2222222222222222,
              "#7201a8"
             ],
             [
              0.3333333333333333,
              "#9c179e"
             ],
             [
              0.4444444444444444,
              "#bd3786"
             ],
             [
              0.5555555555555556,
              "#d8576b"
             ],
             [
              0.6666666666666666,
              "#ed7953"
             ],
             [
              0.7777777777777778,
              "#fb9f3a"
             ],
             [
              0.8888888888888888,
              "#fdca26"
             ],
             [
              1,
              "#f0f921"
             ]
            ],
            "type": "surface"
           }
          ],
          "table": [
           {
            "cells": {
             "fill": {
              "color": "#EBF0F8"
             },
             "line": {
              "color": "white"
             }
            },
            "header": {
             "fill": {
              "color": "#C8D4E3"
             },
             "line": {
              "color": "white"
             }
            },
            "type": "table"
           }
          ]
         },
         "layout": {
          "annotationdefaults": {
           "arrowcolor": "#2a3f5f",
           "arrowhead": 0,
           "arrowwidth": 1
          },
          "autotypenumbers": "strict",
          "coloraxis": {
           "colorbar": {
            "outlinewidth": 0,
            "ticks": ""
           }
          },
          "colorscale": {
           "diverging": [
            [
             0,
             "#8e0152"
            ],
            [
             0.1,
             "#c51b7d"
            ],
            [
             0.2,
             "#de77ae"
            ],
            [
             0.3,
             "#f1b6da"
            ],
            [
             0.4,
             "#fde0ef"
            ],
            [
             0.5,
             "#f7f7f7"
            ],
            [
             0.6,
             "#e6f5d0"
            ],
            [
             0.7,
             "#b8e186"
            ],
            [
             0.8,
             "#7fbc41"
            ],
            [
             0.9,
             "#4d9221"
            ],
            [
             1,
             "#276419"
            ]
           ],
           "sequential": [
            [
             0,
             "#0d0887"
            ],
            [
             0.1111111111111111,
             "#46039f"
            ],
            [
             0.2222222222222222,
             "#7201a8"
            ],
            [
             0.3333333333333333,
             "#9c179e"
            ],
            [
             0.4444444444444444,
             "#bd3786"
            ],
            [
             0.5555555555555556,
             "#d8576b"
            ],
            [
             0.6666666666666666,
             "#ed7953"
            ],
            [
             0.7777777777777778,
             "#fb9f3a"
            ],
            [
             0.8888888888888888,
             "#fdca26"
            ],
            [
             1,
             "#f0f921"
            ]
           ],
           "sequentialminus": [
            [
             0,
             "#0d0887"
            ],
            [
             0.1111111111111111,
             "#46039f"
            ],
            [
             0.2222222222222222,
             "#7201a8"
            ],
            [
             0.3333333333333333,
             "#9c179e"
            ],
            [
             0.4444444444444444,
             "#bd3786"
            ],
            [
             0.5555555555555556,
             "#d8576b"
            ],
            [
             0.6666666666666666,
             "#ed7953"
            ],
            [
             0.7777777777777778,
             "#fb9f3a"
            ],
            [
             0.8888888888888888,
             "#fdca26"
            ],
            [
             1,
             "#f0f921"
            ]
           ]
          },
          "colorway": [
           "#636efa",
           "#EF553B",
           "#00cc96",
           "#ab63fa",
           "#FFA15A",
           "#19d3f3",
           "#FF6692",
           "#B6E880",
           "#FF97FF",
           "#FECB52"
          ],
          "font": {
           "color": "#2a3f5f"
          },
          "geo": {
           "bgcolor": "white",
           "lakecolor": "white",
           "landcolor": "#E5ECF6",
           "showlakes": true,
           "showland": true,
           "subunitcolor": "white"
          },
          "hoverlabel": {
           "align": "left"
          },
          "hovermode": "closest",
          "mapbox": {
           "style": "light"
          },
          "paper_bgcolor": "white",
          "plot_bgcolor": "#E5ECF6",
          "polar": {
           "angularaxis": {
            "gridcolor": "white",
            "linecolor": "white",
            "ticks": ""
           },
           "bgcolor": "#E5ECF6",
           "radialaxis": {
            "gridcolor": "white",
            "linecolor": "white",
            "ticks": ""
           }
          },
          "scene": {
           "xaxis": {
            "backgroundcolor": "#E5ECF6",
            "gridcolor": "white",
            "gridwidth": 2,
            "linecolor": "white",
            "showbackground": true,
            "ticks": "",
            "zerolinecolor": "white"
           },
           "yaxis": {
            "backgroundcolor": "#E5ECF6",
            "gridcolor": "white",
            "gridwidth": 2,
            "linecolor": "white",
            "showbackground": true,
            "ticks": "",
            "zerolinecolor": "white"
           },
           "zaxis": {
            "backgroundcolor": "#E5ECF6",
            "gridcolor": "white",
            "gridwidth": 2,
            "linecolor": "white",
            "showbackground": true,
            "ticks": "",
            "zerolinecolor": "white"
           }
          },
          "shapedefaults": {
           "line": {
            "color": "#2a3f5f"
           }
          },
          "ternary": {
           "aaxis": {
            "gridcolor": "white",
            "linecolor": "white",
            "ticks": ""
           },
           "baxis": {
            "gridcolor": "white",
            "linecolor": "white",
            "ticks": ""
           },
           "bgcolor": "#E5ECF6",
           "caxis": {
            "gridcolor": "white",
            "linecolor": "white",
            "ticks": ""
           }
          },
          "title": {
           "x": 0.05
          },
          "xaxis": {
           "automargin": true,
           "gridcolor": "white",
           "linecolor": "white",
           "ticks": "",
           "title": {
            "standoff": 15
           },
           "zerolinecolor": "white",
           "zerolinewidth": 2
          },
          "yaxis": {
           "automargin": true,
           "gridcolor": "white",
           "linecolor": "white",
           "ticks": "",
           "title": {
            "standoff": 15
           },
           "zerolinecolor": "white",
           "zerolinewidth": 2
          }
         }
        },
        "title": {
         "text": "Model predictions for Barnet"
        },
        "xaxis": {
         "anchor": "y",
         "domain": [
          0,
          1
         ],
         "title": {
          "text": "Date"
         }
        },
        "yaxis": {
         "anchor": "x",
         "domain": [
          0,
          1
         ],
         "title": {
          "text": "Number of Predicted Burglaries"
         }
        }
       }
      }
     },
     "metadata": {},
     "output_type": "display_data"
    }
   ],
   "source": [
    "import plotly.express as px\n",
    "\n",
    "best_model = Prophet(seasonality_mode= 'multiplicative', changepoint_prior_scale= 0.01, seasonality_prior_scale= 1, holidays_prior_scale= 50, holidays= holiday)\n",
    "best_model.add_regressor('covid')\n",
    "best_model.fit(train_data)\n",
    "future_dates = best_model.make_future_dataframe(periods=forecast_upto, freq='MS')\n",
    "future_dates['covid'] = 0\n",
    "forecast = best_model.predict(future_dates)\n",
    "\n",
    "df_plot_pred = forecast[-forecast_upto:][['ds', 'yhat']]\n",
    "\n",
    "df_plot_true = monthly_grouped_df[['ds', 'y']]\n",
    "\n",
    "fig = px.line(df_plot_true, x='ds', y='y', title='Model predictions for Barnet')\n",
    "fig.add_scatter(x=df_plot_pred['ds'], y=df_plot_pred['yhat'], name='Prediction')\n",
    "fig.update_xaxes(title_text='Date')\n",
    "fig.update_yaxes(title_text='Number of Predicted Burglaries')"
   ]
  },
  {
   "cell_type": "code",
   "execution_count": 6,
   "metadata": {},
   "outputs": [
    {
     "name": "stderr",
     "output_type": "stream",
     "text": [
      "14:36:31 - cmdstanpy - INFO - Chain [1] start processing\n",
      "14:36:31 - cmdstanpy - INFO - Chain [1] done processing\n",
      "14:36:32 - cmdstanpy - INFO - Chain [1] start processing\n",
      "14:36:32 - cmdstanpy - INFO - Chain [1] done processing\n",
      "14:36:32 - cmdstanpy - INFO - Chain [1] start processing\n",
      "14:36:32 - cmdstanpy - INFO - Chain [1] done processing\n",
      "14:36:32 - cmdstanpy - INFO - Chain [1] start processing\n",
      "14:36:32 - cmdstanpy - INFO - Chain [1] done processing\n",
      "14:36:32 - cmdstanpy - INFO - Chain [1] start processing\n",
      "14:36:32 - cmdstanpy - INFO - Chain [1] done processing\n",
      "14:36:33 - cmdstanpy - INFO - Chain [1] start processing\n",
      "14:36:33 - cmdstanpy - INFO - Chain [1] done processing\n",
      "14:36:33 - cmdstanpy - INFO - Chain [1] start processing\n",
      "14:36:33 - cmdstanpy - INFO - Chain [1] done processing\n",
      "14:36:33 - cmdstanpy - INFO - Chain [1] start processing\n",
      "14:36:33 - cmdstanpy - INFO - Chain [1] done processing\n",
      "14:36:33 - cmdstanpy - INFO - Chain [1] start processing\n",
      "14:36:34 - cmdstanpy - INFO - Chain [1] done processing\n",
      "14:36:34 - cmdstanpy - INFO - Chain [1] start processing\n",
      "14:36:34 - cmdstanpy - INFO - Chain [1] done processing\n",
      "14:36:34 - cmdstanpy - INFO - Chain [1] start processing\n",
      "14:36:34 - cmdstanpy - INFO - Chain [1] done processing\n",
      "14:36:34 - cmdstanpy - INFO - Chain [1] start processing\n",
      "14:36:34 - cmdstanpy - INFO - Chain [1] done processing\n",
      "14:36:34 - cmdstanpy - INFO - Chain [1] start processing\n",
      "14:36:35 - cmdstanpy - INFO - Chain [1] done processing\n",
      "14:36:35 - cmdstanpy - INFO - Chain [1] start processing\n",
      "14:36:35 - cmdstanpy - INFO - Chain [1] done processing\n",
      "14:36:35 - cmdstanpy - INFO - Chain [1] start processing\n",
      "14:36:35 - cmdstanpy - INFO - Chain [1] done processing\n",
      "14:36:35 - cmdstanpy - INFO - Chain [1] start processing\n",
      "14:36:35 - cmdstanpy - INFO - Chain [1] done processing\n",
      "14:36:35 - cmdstanpy - INFO - Chain [1] start processing\n",
      "14:36:35 - cmdstanpy - INFO - Chain [1] done processing\n",
      "14:36:36 - cmdstanpy - INFO - Chain [1] start processing\n",
      "14:36:36 - cmdstanpy - INFO - Chain [1] done processing\n",
      "14:36:36 - cmdstanpy - INFO - Chain [1] start processing\n",
      "14:36:36 - cmdstanpy - INFO - Chain [1] done processing\n",
      "14:36:36 - cmdstanpy - INFO - Chain [1] start processing\n",
      "14:36:36 - cmdstanpy - INFO - Chain [1] done processing\n",
      "14:36:36 - cmdstanpy - INFO - Chain [1] start processing\n",
      "14:36:36 - cmdstanpy - INFO - Chain [1] done processing\n",
      "14:36:37 - cmdstanpy - INFO - Chain [1] start processing\n",
      "14:36:37 - cmdstanpy - INFO - Chain [1] done processing\n",
      "14:36:37 - cmdstanpy - INFO - Chain [1] start processing\n",
      "14:36:37 - cmdstanpy - INFO - Chain [1] done processing\n",
      "14:36:37 - cmdstanpy - INFO - Chain [1] start processing\n",
      "14:36:37 - cmdstanpy - INFO - Chain [1] done processing\n",
      "14:36:37 - cmdstanpy - INFO - Chain [1] start processing\n",
      "14:36:37 - cmdstanpy - INFO - Chain [1] done processing\n"
     ]
    }
   ],
   "source": [
    "# Read data, get dataframe with crimes/month\n",
    "monthly_grouped_df = the_file.copy()\n",
    "monthly_grouped_df= monthly_grouped_df.sort_values(['Year','Month num'],ascending=False).groupby(['Year', 'Month num'])['Crime type'].count()\n",
    "monthly_grouped_df = monthly_grouped_df.to_frame()\n",
    "\n",
    "\n",
    "# Rename columns, select rows with data and set datetime index\n",
    "monthly_grouped_df = monthly_grouped_df.rename(columns = {'Month num':'y'})\n",
    "monthly_grouped_df['day'] = 1\n",
    "monthly_grouped_df = monthly_grouped_df.reset_index()\n",
    "# monthly_grouped_df = monthly_grouped_df[(monthly_grouped_df['Year']>=2011) | ((monthly_grouped_df['Year'] == 2010) & (monthly_grouped_df['Month num']==12))]\n",
    "monthly_grouped_df = monthly_grouped_df.rename(columns={'Month num': 'month', 'Year': 'year'})\n",
    "monthly_grouped_df['ds'] = pd.to_datetime(monthly_grouped_df[['year', 'month', 'day']])\n",
    "monthly_grouped_df['y'] = monthly_grouped_df['Crime type']\n",
    "# monthly_grouped_df = monthly_grouped_df.set_index(pd.DatetimeIndex(monthly_grouped_df['Date']))\n",
    "\n",
    "# Getting Holidays\n",
    "holiday = pd.DataFrame([])\n",
    "for date, name in sorted(holidays.country_holidays('GB', subdiv='England', years=[2012, 2013, 2014, 2015, 2016, 2017, 2018,2019,2020,2021, 2022, 2023, 2024]).items()):\n",
    "#holiday = holiday.append(pd.DataFrame({'ds': date, 'holiday': \"England-Holidays\"}, index=[0]), ignore_index=True)\n",
    "        holiday= pd.concat([holiday, pd.DataFrame({'ds': date, 'holiday': \"England-Holidays\"}, index=[0])], ignore_index=True)\n",
    "\n",
    "holiday['ds'] = pd.to_datetime(holiday['ds'], format='%Y-%m-%d', errors='ignore')\n",
    "\n",
    "# Divide test and train data\n",
    "train_data = monthly_grouped_df[monthly_grouped_df['year']<(training_upto+1)]\n",
    "test_data = monthly_grouped_df[(monthly_grouped_df['year']>training_upto)]\n",
    "\n",
    "best_model = Prophet(seasonality_mode= 'multiplicative', changepoint_prior_scale= 0.01, seasonality_prior_scale= 0.15, holidays_prior_scale= 0.015, holidays= holiday).fit(train_data)\n",
    "future_dates = best_model.make_future_dataframe(periods=forecast_upto, freq='MS')\n",
    "forecast = best_model.predict(future_dates)\n",
    "\n",
    "df_plot_pred = forecast[-forecast_upto:][['ds', 'yhat']]\n",
    "\n",
    "df_plot_pred = df_plot_pred[df_plot_pred['ds'] > '2022-12-31']\n",
    "df_plot_pred = df_plot_pred.reset_index()\n",
    "df_plot_pred = df_plot_pred.drop(['index'], axis=1)\n",
    "\n",
    "# Create the dataframe\n",
    "file =  the_file.copy()\n",
    "df_per_ward= file.sort_values(['Year','Month num'],ascending=False)\n",
    "df_per_ward['Population per square kilometre'].fillna(0, inplace=True)\n",
    "df_per_ward = df_per_ward.groupby(['Ward', 'Year', 'Month num', 'Population per square kilometre'])['Crime type'].count()\n",
    "# Create a dataframe with the wanted dates\n",
    "dates = pd.date_range(start='12/1/2010', end='12/31/2024', freq='MS').to_frame()\n",
    "df_per_ward = df_per_ward.reset_index()\n",
    "# Specify columns: ds, y, Date\n",
    "df_per_ward['day'] = 1\n",
    "df_per_ward = df_per_ward.reset_index()\n",
    "df_per_ward['y'] = df_per_ward['Crime type']\n",
    "df_per_ward = df_per_ward.rename(columns={'Month num': 'month', 'Year': 'year'})\n",
    "df_per_ward['ds'] = pd.to_datetime(df_per_ward[['year', 'month', 'day']])\n",
    "df_per_ward['Date'] = df_per_ward['ds']\n",
    "dates['Date'] = dates[0]\n",
    "dates = dates[['Date']]\n",
    "\n",
    "\n",
    "# Loop over wards\n",
    "wards = ['Barnet Vale', 'Brunswick Park', 'Burnt Oak', 'Childs Hill', 'Colindale North', \n",
    "         'Colindale South', 'Cricklewood', 'East Barnet', 'East Finchley', 'Edgware', 'Edgwarebury',\n",
    "           'Finchley Church End', 'Friern Barnet', 'Garden Suburb', 'Golders Green', 'Hendon',\n",
    "             'High Barnet', 'Mill Hill', 'Totteridge and Woodside', \n",
    "         'Underhill', 'West Finchley', 'West Hendon', 'Whetstone', 'Woodhouse']\n",
    "\n",
    "for ward in wards: \n",
    "       # Select data of ward\n",
    "       df_ward = df_per_ward[df_per_ward['Ward']==ward]\n",
    "       df_ward = df_ward[['ds', 'Date', 'year', 'y', 'Population per square kilometre']]\n",
    "       # Merge with all dates to have a consistent dataframe\n",
    "       df_ward = pd.merge(dates, df_ward, how=\"left\", on='Date')\n",
    "       df_ward['ds'] = df_ward['Date']\n",
    "       df_ward['y'] = df_ward['y'].fillna(0)\n",
    "       df_ward = df_ward.fillna(df_ward.mean())\n",
    "       df_ward['year'] = pd.DatetimeIndex(df_ward['Date']).year\n",
    "       train_ward = df_ward[df_ward['year']<(training_upto+1)]\n",
    "       test_ward = df_ward[(df_ward['year']>training_upto)] \n",
    "       best_model = best_model = Prophet(seasonality_mode= 'additive', changepoint_prior_scale= 0.01, seasonality_prior_scale= 0.15, holidays_prior_scale= 0.015, holidays= holiday)\n",
    "       best_model.add_regressor('Population per square kilometre')\n",
    "       best_model.fit(train_ward)\n",
    "       future_dates = best_model.make_future_dataframe(periods=forecast_upto, freq='MS')\n",
    "       future_dates = pd.merge(future_dates, df_ward, how=\"left\", on='ds')\n",
    "       forecastward = best_model.predict(future_dates)\n",
    "       #print(ward)\n",
    "       \n",
    "       df_ward_pred = forecastward[-forecast_upto:][['ds', 'yhat']]\n",
    "\n",
    "       df_ward_pred = df_ward_pred[df_ward_pred['ds'] > '2022-12-31']\n",
    "       df_ward_pred = df_ward_pred.reset_index()\n",
    "       df_ward_pred = df_ward_pred.drop(['index'], axis=1)\n",
    "\n",
    "       ward_pred_list = []\n",
    "       for value in df_ward_pred['yhat']:\n",
    "             ward_pred_list.append(value)\n",
    "\n",
    "       df_plot_pred[ward] = ward_pred_list"
   ]
  },
  {
   "cell_type": "code",
   "execution_count": 7,
   "metadata": {},
   "outputs": [
    {
     "name": "stderr",
     "output_type": "stream",
     "text": [
      "14:36:38 - cmdstanpy - INFO - Chain [1] start processing\n",
      "14:36:38 - cmdstanpy - INFO - Chain [1] done processing\n"
     ]
    },
    {
     "data": {
      "application/vnd.plotly.v1+json": {
       "config": {
        "plotlyServerURL": "https://plot.ly"
       },
       "data": [
        {
         "hovertemplate": "ds=%{x}<br>y=%{y}<extra></extra>",
         "legendgroup": "",
         "line": {
          "color": "#636efa",
          "dash": "solid"
         },
         "marker": {
          "symbol": "circle"
         },
         "mode": "lines",
         "name": "",
         "orientation": "v",
         "showlegend": false,
         "type": "scatter",
         "x": [
          "2010-12-01T00:00:00",
          "2011-01-01T00:00:00",
          "2011-02-01T00:00:00",
          "2011-03-01T00:00:00",
          "2011-04-01T00:00:00",
          "2011-05-01T00:00:00",
          "2011-06-01T00:00:00",
          "2011-07-01T00:00:00",
          "2011-08-01T00:00:00",
          "2011-09-01T00:00:00",
          "2011-10-01T00:00:00",
          "2011-11-01T00:00:00",
          "2011-12-01T00:00:00",
          "2012-01-01T00:00:00",
          "2012-02-01T00:00:00",
          "2012-03-01T00:00:00",
          "2012-04-01T00:00:00",
          "2012-05-01T00:00:00",
          "2012-06-01T00:00:00",
          "2012-07-01T00:00:00",
          "2012-08-01T00:00:00",
          "2012-09-01T00:00:00",
          "2012-10-01T00:00:00",
          "2012-11-01T00:00:00",
          "2012-12-01T00:00:00",
          "2013-01-01T00:00:00",
          "2013-02-01T00:00:00",
          "2013-03-01T00:00:00",
          "2013-04-01T00:00:00",
          "2013-05-01T00:00:00",
          "2013-06-01T00:00:00",
          "2013-07-01T00:00:00",
          "2013-08-01T00:00:00",
          "2013-09-01T00:00:00",
          "2013-10-01T00:00:00",
          "2013-11-01T00:00:00",
          "2013-12-01T00:00:00",
          "2014-01-01T00:00:00",
          "2014-02-01T00:00:00",
          "2014-03-01T00:00:00",
          "2014-04-01T00:00:00",
          "2014-05-01T00:00:00",
          "2014-06-01T00:00:00",
          "2014-07-01T00:00:00",
          "2014-08-01T00:00:00",
          "2014-09-01T00:00:00",
          "2014-10-01T00:00:00",
          "2014-11-01T00:00:00",
          "2014-12-01T00:00:00",
          "2015-01-01T00:00:00",
          "2015-02-01T00:00:00",
          "2015-03-01T00:00:00",
          "2015-04-01T00:00:00",
          "2015-05-01T00:00:00",
          "2015-06-01T00:00:00",
          "2015-07-01T00:00:00",
          "2015-08-01T00:00:00",
          "2015-09-01T00:00:00",
          "2015-10-01T00:00:00",
          "2015-11-01T00:00:00",
          "2015-12-01T00:00:00",
          "2016-01-01T00:00:00",
          "2016-02-01T00:00:00",
          "2016-03-01T00:00:00",
          "2016-04-01T00:00:00",
          "2016-05-01T00:00:00",
          "2016-06-01T00:00:00",
          "2016-07-01T00:00:00",
          "2016-08-01T00:00:00",
          "2016-09-01T00:00:00",
          "2016-10-01T00:00:00",
          "2016-11-01T00:00:00",
          "2016-12-01T00:00:00",
          "2017-01-01T00:00:00",
          "2017-02-01T00:00:00",
          "2017-03-01T00:00:00",
          "2017-04-01T00:00:00",
          "2017-05-01T00:00:00",
          "2017-06-01T00:00:00",
          "2017-07-01T00:00:00",
          "2017-08-01T00:00:00",
          "2017-09-01T00:00:00",
          "2017-10-01T00:00:00",
          "2017-11-01T00:00:00",
          "2017-12-01T00:00:00",
          "2018-01-01T00:00:00",
          "2018-02-01T00:00:00",
          "2018-03-01T00:00:00",
          "2018-04-01T00:00:00",
          "2018-05-01T00:00:00",
          "2018-06-01T00:00:00",
          "2018-07-01T00:00:00",
          "2018-08-01T00:00:00",
          "2018-09-01T00:00:00",
          "2018-10-01T00:00:00",
          "2018-11-01T00:00:00",
          "2018-12-01T00:00:00",
          "2019-01-01T00:00:00",
          "2019-02-01T00:00:00",
          "2019-03-01T00:00:00",
          "2019-04-01T00:00:00",
          "2019-05-01T00:00:00",
          "2019-06-01T00:00:00",
          "2019-07-01T00:00:00",
          "2019-08-01T00:00:00",
          "2019-09-01T00:00:00",
          "2019-10-01T00:00:00",
          "2019-11-01T00:00:00",
          "2019-12-01T00:00:00",
          "2020-01-01T00:00:00",
          "2020-02-01T00:00:00",
          "2020-03-01T00:00:00",
          "2020-04-01T00:00:00",
          "2020-05-01T00:00:00",
          "2020-06-01T00:00:00",
          "2020-07-01T00:00:00",
          "2020-08-01T00:00:00",
          "2020-09-01T00:00:00",
          "2020-10-01T00:00:00",
          "2020-11-01T00:00:00",
          "2020-12-01T00:00:00",
          "2021-01-01T00:00:00",
          "2021-02-01T00:00:00",
          "2021-03-01T00:00:00",
          "2021-04-01T00:00:00",
          "2021-05-01T00:00:00",
          "2021-06-01T00:00:00",
          "2021-07-01T00:00:00",
          "2021-08-01T00:00:00",
          "2021-09-01T00:00:00",
          "2021-10-01T00:00:00",
          "2021-11-01T00:00:00",
          "2021-12-01T00:00:00",
          "2022-01-01T00:00:00",
          "2022-02-01T00:00:00",
          "2022-03-01T00:00:00",
          "2022-04-01T00:00:00",
          "2022-05-01T00:00:00",
          "2022-06-01T00:00:00",
          "2022-07-01T00:00:00",
          "2022-08-01T00:00:00",
          "2022-09-01T00:00:00",
          "2022-10-01T00:00:00",
          "2022-11-01T00:00:00",
          "2022-12-01T00:00:00",
          "2023-01-01T00:00:00",
          "2023-02-01T00:00:00",
          "2023-03-01T00:00:00"
         ],
         "xaxis": "x",
         "y": [
          11,
          14,
          21,
          12,
          14,
          29,
          15,
          11,
          9,
          9,
          19,
          25,
          17,
          15,
          26,
          25,
          18,
          16,
          14,
          10,
          9,
          11,
          18,
          26,
          16,
          27,
          19,
          15,
          19,
          10,
          10,
          8,
          12,
          7,
          22,
          32,
          27,
          14,
          18,
          17,
          13,
          10,
          10,
          11,
          14,
          21,
          19,
          22,
          16,
          18,
          20,
          13,
          8,
          4,
          6,
          6,
          7,
          16,
          13,
          22,
          9,
          9,
          13,
          18,
          8,
          12,
          10,
          13,
          12,
          8,
          11,
          11,
          5,
          13,
          11,
          5,
          9,
          10,
          7,
          12,
          11,
          6,
          14,
          20,
          15,
          14,
          7,
          14,
          9,
          13,
          13,
          12,
          4,
          9,
          16,
          13,
          6,
          14,
          17,
          13,
          6,
          9,
          5,
          4,
          7,
          7,
          5,
          6,
          16,
          12,
          8,
          6,
          3,
          4,
          3,
          6,
          8,
          5,
          12,
          8,
          6,
          11,
          2,
          8,
          7,
          3,
          8,
          4,
          3,
          3,
          11,
          8,
          6,
          9,
          9,
          10,
          3,
          5,
          4,
          3,
          6,
          5,
          9,
          4,
          4,
          6,
          14,
          13
         ],
         "yaxis": "y"
        },
        {
         "name": "Prediction",
         "type": "scatter",
         "x": [
          "2021-01-01T00:00:00",
          "2021-02-01T00:00:00",
          "2021-03-01T00:00:00",
          "2021-04-01T00:00:00",
          "2021-05-01T00:00:00",
          "2021-06-01T00:00:00",
          "2021-07-01T00:00:00",
          "2021-08-01T00:00:00",
          "2021-09-01T00:00:00",
          "2021-10-01T00:00:00",
          "2021-11-01T00:00:00",
          "2021-12-01T00:00:00",
          "2022-01-01T00:00:00",
          "2022-02-01T00:00:00",
          "2022-03-01T00:00:00",
          "2022-04-01T00:00:00",
          "2022-05-01T00:00:00",
          "2022-06-01T00:00:00",
          "2022-07-01T00:00:00",
          "2022-08-01T00:00:00",
          "2022-09-01T00:00:00",
          "2022-10-01T00:00:00",
          "2022-11-01T00:00:00",
          "2022-12-01T00:00:00",
          "2023-01-01T00:00:00",
          "2023-02-01T00:00:00",
          "2023-03-01T00:00:00",
          "2023-04-01T00:00:00",
          "2023-05-01T00:00:00",
          "2023-06-01T00:00:00",
          "2023-07-01T00:00:00",
          "2023-08-01T00:00:00",
          "2023-09-01T00:00:00",
          "2023-10-01T00:00:00",
          "2023-11-01T00:00:00",
          "2023-12-01T00:00:00",
          "2024-01-01T00:00:00",
          "2024-02-01T00:00:00",
          "2024-03-01T00:00:00",
          "2024-04-01T00:00:00",
          "2024-05-01T00:00:00",
          "2024-06-01T00:00:00",
          "2024-07-01T00:00:00",
          "2024-08-01T00:00:00",
          "2024-09-01T00:00:00",
          "2024-10-01T00:00:00",
          "2024-11-01T00:00:00",
          "2024-12-01T00:00:00"
         ],
         "y": [
          8.892707004918636,
          9.934877060063227,
          8.684335426592076,
          7.134599224752437,
          8.100862078602805,
          6.550429589855073,
          6.290939878836353,
          6.050149479351822,
          6.170469925311658,
          9.145305057652081,
          11.403162318373955,
          7.310873993294908,
          8.048288241642169,
          8.987347963376918,
          7.849951152847859,
          6.449842322419888,
          7.305644811909998,
          5.888449811085228,
          5.643554322774304,
          5.427991485971819,
          5.552683306469938,
          8.2208148066598,
          10.197566863170413,
          6.522616260441008,
          7.20330928215504,
          8.037391006007264,
          7.013550587053565,
          5.761601055646509,
          6.53060387723031,
          5.227829904390125,
          4.999325721512648,
          4.808138337247576,
          4.932353285251399,
          7.290813215354,
          8.994405928339356,
          5.739962348995096,
          6.357094774326688,
          7.084660741279923,
          6.142253574729083,
          5.043878222608143,
          5.692872426796515,
          4.597620157378005,
          4.405281923781811,
          4.216997432517963,
          4.267606069557684,
          6.300609098791578,
          7.857278884992528,
          5.0260653489558775
         ]
        }
       ],
       "layout": {
        "legend": {
         "tracegroupgap": 0
        },
        "template": {
         "data": {
          "bar": [
           {
            "error_x": {
             "color": "#2a3f5f"
            },
            "error_y": {
             "color": "#2a3f5f"
            },
            "marker": {
             "line": {
              "color": "#E5ECF6",
              "width": 0.5
             },
             "pattern": {
              "fillmode": "overlay",
              "size": 10,
              "solidity": 0.2
             }
            },
            "type": "bar"
           }
          ],
          "barpolar": [
           {
            "marker": {
             "line": {
              "color": "#E5ECF6",
              "width": 0.5
             },
             "pattern": {
              "fillmode": "overlay",
              "size": 10,
              "solidity": 0.2
             }
            },
            "type": "barpolar"
           }
          ],
          "carpet": [
           {
            "aaxis": {
             "endlinecolor": "#2a3f5f",
             "gridcolor": "white",
             "linecolor": "white",
             "minorgridcolor": "white",
             "startlinecolor": "#2a3f5f"
            },
            "baxis": {
             "endlinecolor": "#2a3f5f",
             "gridcolor": "white",
             "linecolor": "white",
             "minorgridcolor": "white",
             "startlinecolor": "#2a3f5f"
            },
            "type": "carpet"
           }
          ],
          "choropleth": [
           {
            "colorbar": {
             "outlinewidth": 0,
             "ticks": ""
            },
            "type": "choropleth"
           }
          ],
          "contour": [
           {
            "colorbar": {
             "outlinewidth": 0,
             "ticks": ""
            },
            "colorscale": [
             [
              0,
              "#0d0887"
             ],
             [
              0.1111111111111111,
              "#46039f"
             ],
             [
              0.2222222222222222,
              "#7201a8"
             ],
             [
              0.3333333333333333,
              "#9c179e"
             ],
             [
              0.4444444444444444,
              "#bd3786"
             ],
             [
              0.5555555555555556,
              "#d8576b"
             ],
             [
              0.6666666666666666,
              "#ed7953"
             ],
             [
              0.7777777777777778,
              "#fb9f3a"
             ],
             [
              0.8888888888888888,
              "#fdca26"
             ],
             [
              1,
              "#f0f921"
             ]
            ],
            "type": "contour"
           }
          ],
          "contourcarpet": [
           {
            "colorbar": {
             "outlinewidth": 0,
             "ticks": ""
            },
            "type": "contourcarpet"
           }
          ],
          "heatmap": [
           {
            "colorbar": {
             "outlinewidth": 0,
             "ticks": ""
            },
            "colorscale": [
             [
              0,
              "#0d0887"
             ],
             [
              0.1111111111111111,
              "#46039f"
             ],
             [
              0.2222222222222222,
              "#7201a8"
             ],
             [
              0.3333333333333333,
              "#9c179e"
             ],
             [
              0.4444444444444444,
              "#bd3786"
             ],
             [
              0.5555555555555556,
              "#d8576b"
             ],
             [
              0.6666666666666666,
              "#ed7953"
             ],
             [
              0.7777777777777778,
              "#fb9f3a"
             ],
             [
              0.8888888888888888,
              "#fdca26"
             ],
             [
              1,
              "#f0f921"
             ]
            ],
            "type": "heatmap"
           }
          ],
          "heatmapgl": [
           {
            "colorbar": {
             "outlinewidth": 0,
             "ticks": ""
            },
            "colorscale": [
             [
              0,
              "#0d0887"
             ],
             [
              0.1111111111111111,
              "#46039f"
             ],
             [
              0.2222222222222222,
              "#7201a8"
             ],
             [
              0.3333333333333333,
              "#9c179e"
             ],
             [
              0.4444444444444444,
              "#bd3786"
             ],
             [
              0.5555555555555556,
              "#d8576b"
             ],
             [
              0.6666666666666666,
              "#ed7953"
             ],
             [
              0.7777777777777778,
              "#fb9f3a"
             ],
             [
              0.8888888888888888,
              "#fdca26"
             ],
             [
              1,
              "#f0f921"
             ]
            ],
            "type": "heatmapgl"
           }
          ],
          "histogram": [
           {
            "marker": {
             "pattern": {
              "fillmode": "overlay",
              "size": 10,
              "solidity": 0.2
             }
            },
            "type": "histogram"
           }
          ],
          "histogram2d": [
           {
            "colorbar": {
             "outlinewidth": 0,
             "ticks": ""
            },
            "colorscale": [
             [
              0,
              "#0d0887"
             ],
             [
              0.1111111111111111,
              "#46039f"
             ],
             [
              0.2222222222222222,
              "#7201a8"
             ],
             [
              0.3333333333333333,
              "#9c179e"
             ],
             [
              0.4444444444444444,
              "#bd3786"
             ],
             [
              0.5555555555555556,
              "#d8576b"
             ],
             [
              0.6666666666666666,
              "#ed7953"
             ],
             [
              0.7777777777777778,
              "#fb9f3a"
             ],
             [
              0.8888888888888888,
              "#fdca26"
             ],
             [
              1,
              "#f0f921"
             ]
            ],
            "type": "histogram2d"
           }
          ],
          "histogram2dcontour": [
           {
            "colorbar": {
             "outlinewidth": 0,
             "ticks": ""
            },
            "colorscale": [
             [
              0,
              "#0d0887"
             ],
             [
              0.1111111111111111,
              "#46039f"
             ],
             [
              0.2222222222222222,
              "#7201a8"
             ],
             [
              0.3333333333333333,
              "#9c179e"
             ],
             [
              0.4444444444444444,
              "#bd3786"
             ],
             [
              0.5555555555555556,
              "#d8576b"
             ],
             [
              0.6666666666666666,
              "#ed7953"
             ],
             [
              0.7777777777777778,
              "#fb9f3a"
             ],
             [
              0.8888888888888888,
              "#fdca26"
             ],
             [
              1,
              "#f0f921"
             ]
            ],
            "type": "histogram2dcontour"
           }
          ],
          "mesh3d": [
           {
            "colorbar": {
             "outlinewidth": 0,
             "ticks": ""
            },
            "type": "mesh3d"
           }
          ],
          "parcoords": [
           {
            "line": {
             "colorbar": {
              "outlinewidth": 0,
              "ticks": ""
             }
            },
            "type": "parcoords"
           }
          ],
          "pie": [
           {
            "automargin": true,
            "type": "pie"
           }
          ],
          "scatter": [
           {
            "fillpattern": {
             "fillmode": "overlay",
             "size": 10,
             "solidity": 0.2
            },
            "type": "scatter"
           }
          ],
          "scatter3d": [
           {
            "line": {
             "colorbar": {
              "outlinewidth": 0,
              "ticks": ""
             }
            },
            "marker": {
             "colorbar": {
              "outlinewidth": 0,
              "ticks": ""
             }
            },
            "type": "scatter3d"
           }
          ],
          "scattercarpet": [
           {
            "marker": {
             "colorbar": {
              "outlinewidth": 0,
              "ticks": ""
             }
            },
            "type": "scattercarpet"
           }
          ],
          "scattergeo": [
           {
            "marker": {
             "colorbar": {
              "outlinewidth": 0,
              "ticks": ""
             }
            },
            "type": "scattergeo"
           }
          ],
          "scattergl": [
           {
            "marker": {
             "colorbar": {
              "outlinewidth": 0,
              "ticks": ""
             }
            },
            "type": "scattergl"
           }
          ],
          "scattermapbox": [
           {
            "marker": {
             "colorbar": {
              "outlinewidth": 0,
              "ticks": ""
             }
            },
            "type": "scattermapbox"
           }
          ],
          "scatterpolar": [
           {
            "marker": {
             "colorbar": {
              "outlinewidth": 0,
              "ticks": ""
             }
            },
            "type": "scatterpolar"
           }
          ],
          "scatterpolargl": [
           {
            "marker": {
             "colorbar": {
              "outlinewidth": 0,
              "ticks": ""
             }
            },
            "type": "scatterpolargl"
           }
          ],
          "scatterternary": [
           {
            "marker": {
             "colorbar": {
              "outlinewidth": 0,
              "ticks": ""
             }
            },
            "type": "scatterternary"
           }
          ],
          "surface": [
           {
            "colorbar": {
             "outlinewidth": 0,
             "ticks": ""
            },
            "colorscale": [
             [
              0,
              "#0d0887"
             ],
             [
              0.1111111111111111,
              "#46039f"
             ],
             [
              0.2222222222222222,
              "#7201a8"
             ],
             [
              0.3333333333333333,
              "#9c179e"
             ],
             [
              0.4444444444444444,
              "#bd3786"
             ],
             [
              0.5555555555555556,
              "#d8576b"
             ],
             [
              0.6666666666666666,
              "#ed7953"
             ],
             [
              0.7777777777777778,
              "#fb9f3a"
             ],
             [
              0.8888888888888888,
              "#fdca26"
             ],
             [
              1,
              "#f0f921"
             ]
            ],
            "type": "surface"
           }
          ],
          "table": [
           {
            "cells": {
             "fill": {
              "color": "#EBF0F8"
             },
             "line": {
              "color": "white"
             }
            },
            "header": {
             "fill": {
              "color": "#C8D4E3"
             },
             "line": {
              "color": "white"
             }
            },
            "type": "table"
           }
          ]
         },
         "layout": {
          "annotationdefaults": {
           "arrowcolor": "#2a3f5f",
           "arrowhead": 0,
           "arrowwidth": 1
          },
          "autotypenumbers": "strict",
          "coloraxis": {
           "colorbar": {
            "outlinewidth": 0,
            "ticks": ""
           }
          },
          "colorscale": {
           "diverging": [
            [
             0,
             "#8e0152"
            ],
            [
             0.1,
             "#c51b7d"
            ],
            [
             0.2,
             "#de77ae"
            ],
            [
             0.3,
             "#f1b6da"
            ],
            [
             0.4,
             "#fde0ef"
            ],
            [
             0.5,
             "#f7f7f7"
            ],
            [
             0.6,
             "#e6f5d0"
            ],
            [
             0.7,
             "#b8e186"
            ],
            [
             0.8,
             "#7fbc41"
            ],
            [
             0.9,
             "#4d9221"
            ],
            [
             1,
             "#276419"
            ]
           ],
           "sequential": [
            [
             0,
             "#0d0887"
            ],
            [
             0.1111111111111111,
             "#46039f"
            ],
            [
             0.2222222222222222,
             "#7201a8"
            ],
            [
             0.3333333333333333,
             "#9c179e"
            ],
            [
             0.4444444444444444,
             "#bd3786"
            ],
            [
             0.5555555555555556,
             "#d8576b"
            ],
            [
             0.6666666666666666,
             "#ed7953"
            ],
            [
             0.7777777777777778,
             "#fb9f3a"
            ],
            [
             0.8888888888888888,
             "#fdca26"
            ],
            [
             1,
             "#f0f921"
            ]
           ],
           "sequentialminus": [
            [
             0,
             "#0d0887"
            ],
            [
             0.1111111111111111,
             "#46039f"
            ],
            [
             0.2222222222222222,
             "#7201a8"
            ],
            [
             0.3333333333333333,
             "#9c179e"
            ],
            [
             0.4444444444444444,
             "#bd3786"
            ],
            [
             0.5555555555555556,
             "#d8576b"
            ],
            [
             0.6666666666666666,
             "#ed7953"
            ],
            [
             0.7777777777777778,
             "#fb9f3a"
            ],
            [
             0.8888888888888888,
             "#fdca26"
            ],
            [
             1,
             "#f0f921"
            ]
           ]
          },
          "colorway": [
           "#636efa",
           "#EF553B",
           "#00cc96",
           "#ab63fa",
           "#FFA15A",
           "#19d3f3",
           "#FF6692",
           "#B6E880",
           "#FF97FF",
           "#FECB52"
          ],
          "font": {
           "color": "#2a3f5f"
          },
          "geo": {
           "bgcolor": "white",
           "lakecolor": "white",
           "landcolor": "#E5ECF6",
           "showlakes": true,
           "showland": true,
           "subunitcolor": "white"
          },
          "hoverlabel": {
           "align": "left"
          },
          "hovermode": "closest",
          "mapbox": {
           "style": "light"
          },
          "paper_bgcolor": "white",
          "plot_bgcolor": "#E5ECF6",
          "polar": {
           "angularaxis": {
            "gridcolor": "white",
            "linecolor": "white",
            "ticks": ""
           },
           "bgcolor": "#E5ECF6",
           "radialaxis": {
            "gridcolor": "white",
            "linecolor": "white",
            "ticks": ""
           }
          },
          "scene": {
           "xaxis": {
            "backgroundcolor": "#E5ECF6",
            "gridcolor": "white",
            "gridwidth": 2,
            "linecolor": "white",
            "showbackground": true,
            "ticks": "",
            "zerolinecolor": "white"
           },
           "yaxis": {
            "backgroundcolor": "#E5ECF6",
            "gridcolor": "white",
            "gridwidth": 2,
            "linecolor": "white",
            "showbackground": true,
            "ticks": "",
            "zerolinecolor": "white"
           },
           "zaxis": {
            "backgroundcolor": "#E5ECF6",
            "gridcolor": "white",
            "gridwidth": 2,
            "linecolor": "white",
            "showbackground": true,
            "ticks": "",
            "zerolinecolor": "white"
           }
          },
          "shapedefaults": {
           "line": {
            "color": "#2a3f5f"
           }
          },
          "ternary": {
           "aaxis": {
            "gridcolor": "white",
            "linecolor": "white",
            "ticks": ""
           },
           "baxis": {
            "gridcolor": "white",
            "linecolor": "white",
            "ticks": ""
           },
           "bgcolor": "#E5ECF6",
           "caxis": {
            "gridcolor": "white",
            "linecolor": "white",
            "ticks": ""
           }
          },
          "title": {
           "x": 0.05
          },
          "xaxis": {
           "automargin": true,
           "gridcolor": "white",
           "linecolor": "white",
           "ticks": "",
           "title": {
            "standoff": 15
           },
           "zerolinecolor": "white",
           "zerolinewidth": 2
          },
          "yaxis": {
           "automargin": true,
           "gridcolor": "white",
           "linecolor": "white",
           "ticks": "",
           "title": {
            "standoff": 15
           },
           "zerolinecolor": "white",
           "zerolinewidth": 2
          }
         }
        },
        "title": {
         "text": "Model predictions for specific ward in Barnet"
        },
        "xaxis": {
         "anchor": "y",
         "domain": [
          0,
          1
         ],
         "title": {
          "text": "Date"
         }
        },
        "yaxis": {
         "anchor": "x",
         "domain": [
          0,
          1
         ],
         "title": {
          "text": "Number of Predicted Burglaries"
         }
        }
       }
      }
     },
     "metadata": {},
     "output_type": "display_data"
    }
   ],
   "source": [
    "holiday = pd.DataFrame([])\n",
    "for date, name in sorted(holidays.country_holidays('GB', subdiv='England', years=[2012, 2013, 2014, 2015, 2016, 2017, 2018,2019,2020,2021, 2022, 2023, 2024]).items()):\n",
    "    holiday= pd.concat([holiday, pd.DataFrame({'ds': date, 'holiday': \"England-Holidays\"}, index=[0])], ignore_index=True)\n",
    "\n",
    "holiday['ds'] = pd.to_datetime(holiday['ds'], format='%Y-%m-%d', errors='ignore')\n",
    "\n",
    "ward = 'Brunswick Park'\n",
    "df_ward = df_per_ward[df_per_ward['Ward']==ward]\n",
    "df_ward = df_ward[['ds', 'Date', 'year', 'y', 'Population per square kilometre']]\n",
    "df_ward = pd.merge(dates, df_ward, how=\"left\", on='Date')\n",
    "df_ward['ds'] = df_ward['Date']\n",
    "df_ward['y'] = df_ward['y'].fillna(0)\n",
    "df_ward = df_ward.fillna(df_ward.mean())\n",
    "df_ward['year'] = pd.DatetimeIndex(df_ward['Date']).year\n",
    "train_ward = df_ward[df_ward['year']<(training_upto+1)]\n",
    "test_ward = df_ward[(df_ward['year']>training_upto)] \n",
    "#print((df_ward['Population'].isnull().sum()))\n",
    "#print(df_ward.columns)\n",
    "best_model = Prophet(seasonality_mode= 'multiplicative', changepoint_prior_scale= 0.01, seasonality_prior_scale= 0.15, holidays_prior_scale= 0.015, holidays= holiday)\n",
    "best_model.add_regressor('Population per square kilometre')\n",
    "best_model.fit(train_ward)\n",
    "future_dates = best_model.make_future_dataframe(periods=forecast_upto, freq='MS')\n",
    "#print(future_dates)\n",
    "future_dates = pd.merge(future_dates, df_ward, how=\"left\", on='ds')\n",
    "forecastward = best_model.predict(future_dates)\n",
    "#print(ward)\n",
    "#print(r2_score(test_ward[['y']], forecast['yhat'][-forecast_upto:]))\n",
    "\n",
    "df_ward_true = df_ward[['ds', 'y']]\n",
    "df_ward_true = df_ward_true[(df_ward_true != 0).all(1)]\n",
    "\n",
    "\n",
    "df_ward_pred = forecastward[-forecast_upto:][['ds', 'yhat']]\n",
    "\n",
    "figward = px.line(df_ward_true, x='ds', y='y', title='Model predictions for specific ward in Barnet')\n",
    "figward.add_scatter(x=df_ward_pred['ds'], y=df_ward_pred['yhat'], name='Prediction')\n",
    "figward.update_xaxes(title_text='Date')\n",
    "figward.update_yaxes(title_text='Number of Predicted Burglaries')"
   ]
  },
  {
   "cell_type": "code",
   "execution_count": 8,
   "metadata": {},
   "outputs": [
    {
     "data": {
      "application/vnd.plotly.v1+json": {
       "config": {
        "plotlyServerURL": "https://plot.ly"
       },
       "data": [
        {
         "alignmentgroup": "True",
         "hovertemplate": "variable=count<br>Ward new=%{x}<br>value=%{y}<extra></extra>",
         "legendgroup": "count",
         "marker": {
          "color": "#636efa",
          "pattern": {
           "shape": ""
          }
         },
         "name": "count",
         "offsetgroup": "count",
         "orientation": "v",
         "showlegend": true,
         "textposition": "auto",
         "type": "bar",
         "x": [
          "Childs Hill",
          "Hendon",
          "Finchley Church End",
          "Mill Hill",
          "West Finchley",
          "Edgware",
          "Friern Barnet",
          "Burnt Oak",
          "West Hendon",
          "Barnet Vale",
          "East Barnet",
          "Garden Suburb",
          "Golders Green",
          "Brunswick Park",
          "Woodhouse",
          "East Finchley",
          "Cricklewood",
          "Whetstone",
          "High Barnet",
          "Totteridge and Woodside",
          "Underhill",
          "Edgwarebury",
          "Colindale North",
          "Colindale South",
          "Nan"
         ],
         "xaxis": "x",
         "y": [
          3212,
          2986,
          2423,
          2356,
          2272,
          2122,
          2042,
          2032,
          2005,
          1947,
          1872,
          1843,
          1835,
          1706,
          1705,
          1568,
          1512,
          1438,
          1410,
          1343,
          1278,
          1065,
          1001,
          932,
          233
         ],
         "yaxis": "y"
        }
       ],
       "layout": {
        "barmode": "relative",
        "legend": {
         "title": {
          "text": "variable"
         },
         "tracegroupgap": 0
        },
        "template": {
         "data": {
          "bar": [
           {
            "error_x": {
             "color": "#2a3f5f"
            },
            "error_y": {
             "color": "#2a3f5f"
            },
            "marker": {
             "line": {
              "color": "#E5ECF6",
              "width": 0.5
             },
             "pattern": {
              "fillmode": "overlay",
              "size": 10,
              "solidity": 0.2
             }
            },
            "type": "bar"
           }
          ],
          "barpolar": [
           {
            "marker": {
             "line": {
              "color": "#E5ECF6",
              "width": 0.5
             },
             "pattern": {
              "fillmode": "overlay",
              "size": 10,
              "solidity": 0.2
             }
            },
            "type": "barpolar"
           }
          ],
          "carpet": [
           {
            "aaxis": {
             "endlinecolor": "#2a3f5f",
             "gridcolor": "white",
             "linecolor": "white",
             "minorgridcolor": "white",
             "startlinecolor": "#2a3f5f"
            },
            "baxis": {
             "endlinecolor": "#2a3f5f",
             "gridcolor": "white",
             "linecolor": "white",
             "minorgridcolor": "white",
             "startlinecolor": "#2a3f5f"
            },
            "type": "carpet"
           }
          ],
          "choropleth": [
           {
            "colorbar": {
             "outlinewidth": 0,
             "ticks": ""
            },
            "type": "choropleth"
           }
          ],
          "contour": [
           {
            "colorbar": {
             "outlinewidth": 0,
             "ticks": ""
            },
            "colorscale": [
             [
              0,
              "#0d0887"
             ],
             [
              0.1111111111111111,
              "#46039f"
             ],
             [
              0.2222222222222222,
              "#7201a8"
             ],
             [
              0.3333333333333333,
              "#9c179e"
             ],
             [
              0.4444444444444444,
              "#bd3786"
             ],
             [
              0.5555555555555556,
              "#d8576b"
             ],
             [
              0.6666666666666666,
              "#ed7953"
             ],
             [
              0.7777777777777778,
              "#fb9f3a"
             ],
             [
              0.8888888888888888,
              "#fdca26"
             ],
             [
              1,
              "#f0f921"
             ]
            ],
            "type": "contour"
           }
          ],
          "contourcarpet": [
           {
            "colorbar": {
             "outlinewidth": 0,
             "ticks": ""
            },
            "type": "contourcarpet"
           }
          ],
          "heatmap": [
           {
            "colorbar": {
             "outlinewidth": 0,
             "ticks": ""
            },
            "colorscale": [
             [
              0,
              "#0d0887"
             ],
             [
              0.1111111111111111,
              "#46039f"
             ],
             [
              0.2222222222222222,
              "#7201a8"
             ],
             [
              0.3333333333333333,
              "#9c179e"
             ],
             [
              0.4444444444444444,
              "#bd3786"
             ],
             [
              0.5555555555555556,
              "#d8576b"
             ],
             [
              0.6666666666666666,
              "#ed7953"
             ],
             [
              0.7777777777777778,
              "#fb9f3a"
             ],
             [
              0.8888888888888888,
              "#fdca26"
             ],
             [
              1,
              "#f0f921"
             ]
            ],
            "type": "heatmap"
           }
          ],
          "heatmapgl": [
           {
            "colorbar": {
             "outlinewidth": 0,
             "ticks": ""
            },
            "colorscale": [
             [
              0,
              "#0d0887"
             ],
             [
              0.1111111111111111,
              "#46039f"
             ],
             [
              0.2222222222222222,
              "#7201a8"
             ],
             [
              0.3333333333333333,
              "#9c179e"
             ],
             [
              0.4444444444444444,
              "#bd3786"
             ],
             [
              0.5555555555555556,
              "#d8576b"
             ],
             [
              0.6666666666666666,
              "#ed7953"
             ],
             [
              0.7777777777777778,
              "#fb9f3a"
             ],
             [
              0.8888888888888888,
              "#fdca26"
             ],
             [
              1,
              "#f0f921"
             ]
            ],
            "type": "heatmapgl"
           }
          ],
          "histogram": [
           {
            "marker": {
             "pattern": {
              "fillmode": "overlay",
              "size": 10,
              "solidity": 0.2
             }
            },
            "type": "histogram"
           }
          ],
          "histogram2d": [
           {
            "colorbar": {
             "outlinewidth": 0,
             "ticks": ""
            },
            "colorscale": [
             [
              0,
              "#0d0887"
             ],
             [
              0.1111111111111111,
              "#46039f"
             ],
             [
              0.2222222222222222,
              "#7201a8"
             ],
             [
              0.3333333333333333,
              "#9c179e"
             ],
             [
              0.4444444444444444,
              "#bd3786"
             ],
             [
              0.5555555555555556,
              "#d8576b"
             ],
             [
              0.6666666666666666,
              "#ed7953"
             ],
             [
              0.7777777777777778,
              "#fb9f3a"
             ],
             [
              0.8888888888888888,
              "#fdca26"
             ],
             [
              1,
              "#f0f921"
             ]
            ],
            "type": "histogram2d"
           }
          ],
          "histogram2dcontour": [
           {
            "colorbar": {
             "outlinewidth": 0,
             "ticks": ""
            },
            "colorscale": [
             [
              0,
              "#0d0887"
             ],
             [
              0.1111111111111111,
              "#46039f"
             ],
             [
              0.2222222222222222,
              "#7201a8"
             ],
             [
              0.3333333333333333,
              "#9c179e"
             ],
             [
              0.4444444444444444,
              "#bd3786"
             ],
             [
              0.5555555555555556,
              "#d8576b"
             ],
             [
              0.6666666666666666,
              "#ed7953"
             ],
             [
              0.7777777777777778,
              "#fb9f3a"
             ],
             [
              0.8888888888888888,
              "#fdca26"
             ],
             [
              1,
              "#f0f921"
             ]
            ],
            "type": "histogram2dcontour"
           }
          ],
          "mesh3d": [
           {
            "colorbar": {
             "outlinewidth": 0,
             "ticks": ""
            },
            "type": "mesh3d"
           }
          ],
          "parcoords": [
           {
            "line": {
             "colorbar": {
              "outlinewidth": 0,
              "ticks": ""
             }
            },
            "type": "parcoords"
           }
          ],
          "pie": [
           {
            "automargin": true,
            "type": "pie"
           }
          ],
          "scatter": [
           {
            "fillpattern": {
             "fillmode": "overlay",
             "size": 10,
             "solidity": 0.2
            },
            "type": "scatter"
           }
          ],
          "scatter3d": [
           {
            "line": {
             "colorbar": {
              "outlinewidth": 0,
              "ticks": ""
             }
            },
            "marker": {
             "colorbar": {
              "outlinewidth": 0,
              "ticks": ""
             }
            },
            "type": "scatter3d"
           }
          ],
          "scattercarpet": [
           {
            "marker": {
             "colorbar": {
              "outlinewidth": 0,
              "ticks": ""
             }
            },
            "type": "scattercarpet"
           }
          ],
          "scattergeo": [
           {
            "marker": {
             "colorbar": {
              "outlinewidth": 0,
              "ticks": ""
             }
            },
            "type": "scattergeo"
           }
          ],
          "scattergl": [
           {
            "marker": {
             "colorbar": {
              "outlinewidth": 0,
              "ticks": ""
             }
            },
            "type": "scattergl"
           }
          ],
          "scattermapbox": [
           {
            "marker": {
             "colorbar": {
              "outlinewidth": 0,
              "ticks": ""
             }
            },
            "type": "scattermapbox"
           }
          ],
          "scatterpolar": [
           {
            "marker": {
             "colorbar": {
              "outlinewidth": 0,
              "ticks": ""
             }
            },
            "type": "scatterpolar"
           }
          ],
          "scatterpolargl": [
           {
            "marker": {
             "colorbar": {
              "outlinewidth": 0,
              "ticks": ""
             }
            },
            "type": "scatterpolargl"
           }
          ],
          "scatterternary": [
           {
            "marker": {
             "colorbar": {
              "outlinewidth": 0,
              "ticks": ""
             }
            },
            "type": "scatterternary"
           }
          ],
          "surface": [
           {
            "colorbar": {
             "outlinewidth": 0,
             "ticks": ""
            },
            "colorscale": [
             [
              0,
              "#0d0887"
             ],
             [
              0.1111111111111111,
              "#46039f"
             ],
             [
              0.2222222222222222,
              "#7201a8"
             ],
             [
              0.3333333333333333,
              "#9c179e"
             ],
             [
              0.4444444444444444,
              "#bd3786"
             ],
             [
              0.5555555555555556,
              "#d8576b"
             ],
             [
              0.6666666666666666,
              "#ed7953"
             ],
             [
              0.7777777777777778,
              "#fb9f3a"
             ],
             [
              0.8888888888888888,
              "#fdca26"
             ],
             [
              1,
              "#f0f921"
             ]
            ],
            "type": "surface"
           }
          ],
          "table": [
           {
            "cells": {
             "fill": {
              "color": "#EBF0F8"
             },
             "line": {
              "color": "white"
             }
            },
            "header": {
             "fill": {
              "color": "#C8D4E3"
             },
             "line": {
              "color": "white"
             }
            },
            "type": "table"
           }
          ]
         },
         "layout": {
          "annotationdefaults": {
           "arrowcolor": "#2a3f5f",
           "arrowhead": 0,
           "arrowwidth": 1
          },
          "autotypenumbers": "strict",
          "coloraxis": {
           "colorbar": {
            "outlinewidth": 0,
            "ticks": ""
           }
          },
          "colorscale": {
           "diverging": [
            [
             0,
             "#8e0152"
            ],
            [
             0.1,
             "#c51b7d"
            ],
            [
             0.2,
             "#de77ae"
            ],
            [
             0.3,
             "#f1b6da"
            ],
            [
             0.4,
             "#fde0ef"
            ],
            [
             0.5,
             "#f7f7f7"
            ],
            [
             0.6,
             "#e6f5d0"
            ],
            [
             0.7,
             "#b8e186"
            ],
            [
             0.8,
             "#7fbc41"
            ],
            [
             0.9,
             "#4d9221"
            ],
            [
             1,
             "#276419"
            ]
           ],
           "sequential": [
            [
             0,
             "#0d0887"
            ],
            [
             0.1111111111111111,
             "#46039f"
            ],
            [
             0.2222222222222222,
             "#7201a8"
            ],
            [
             0.3333333333333333,
             "#9c179e"
            ],
            [
             0.4444444444444444,
             "#bd3786"
            ],
            [
             0.5555555555555556,
             "#d8576b"
            ],
            [
             0.6666666666666666,
             "#ed7953"
            ],
            [
             0.7777777777777778,
             "#fb9f3a"
            ],
            [
             0.8888888888888888,
             "#fdca26"
            ],
            [
             1,
             "#f0f921"
            ]
           ],
           "sequentialminus": [
            [
             0,
             "#0d0887"
            ],
            [
             0.1111111111111111,
             "#46039f"
            ],
            [
             0.2222222222222222,
             "#7201a8"
            ],
            [
             0.3333333333333333,
             "#9c179e"
            ],
            [
             0.4444444444444444,
             "#bd3786"
            ],
            [
             0.5555555555555556,
             "#d8576b"
            ],
            [
             0.6666666666666666,
             "#ed7953"
            ],
            [
             0.7777777777777778,
             "#fb9f3a"
            ],
            [
             0.8888888888888888,
             "#fdca26"
            ],
            [
             1,
             "#f0f921"
            ]
           ]
          },
          "colorway": [
           "#636efa",
           "#EF553B",
           "#00cc96",
           "#ab63fa",
           "#FFA15A",
           "#19d3f3",
           "#FF6692",
           "#B6E880",
           "#FF97FF",
           "#FECB52"
          ],
          "font": {
           "color": "#2a3f5f"
          },
          "geo": {
           "bgcolor": "white",
           "lakecolor": "white",
           "landcolor": "#E5ECF6",
           "showlakes": true,
           "showland": true,
           "subunitcolor": "white"
          },
          "hoverlabel": {
           "align": "left"
          },
          "hovermode": "closest",
          "mapbox": {
           "style": "light"
          },
          "paper_bgcolor": "white",
          "plot_bgcolor": "#E5ECF6",
          "polar": {
           "angularaxis": {
            "gridcolor": "white",
            "linecolor": "white",
            "ticks": ""
           },
           "bgcolor": "#E5ECF6",
           "radialaxis": {
            "gridcolor": "white",
            "linecolor": "white",
            "ticks": ""
           }
          },
          "scene": {
           "xaxis": {
            "backgroundcolor": "#E5ECF6",
            "gridcolor": "white",
            "gridwidth": 2,
            "linecolor": "white",
            "showbackground": true,
            "ticks": "",
            "zerolinecolor": "white"
           },
           "yaxis": {
            "backgroundcolor": "#E5ECF6",
            "gridcolor": "white",
            "gridwidth": 2,
            "linecolor": "white",
            "showbackground": true,
            "ticks": "",
            "zerolinecolor": "white"
           },
           "zaxis": {
            "backgroundcolor": "#E5ECF6",
            "gridcolor": "white",
            "gridwidth": 2,
            "linecolor": "white",
            "showbackground": true,
            "ticks": "",
            "zerolinecolor": "white"
           }
          },
          "shapedefaults": {
           "line": {
            "color": "#2a3f5f"
           }
          },
          "ternary": {
           "aaxis": {
            "gridcolor": "white",
            "linecolor": "white",
            "ticks": ""
           },
           "baxis": {
            "gridcolor": "white",
            "linecolor": "white",
            "ticks": ""
           },
           "bgcolor": "#E5ECF6",
           "caxis": {
            "gridcolor": "white",
            "linecolor": "white",
            "ticks": ""
           }
          },
          "title": {
           "x": 0.05
          },
          "xaxis": {
           "automargin": true,
           "gridcolor": "white",
           "linecolor": "white",
           "ticks": "",
           "title": {
            "standoff": 15
           },
           "zerolinecolor": "white",
           "zerolinewidth": 2
          },
          "yaxis": {
           "automargin": true,
           "gridcolor": "white",
           "linecolor": "white",
           "ticks": "",
           "title": {
            "standoff": 15
           },
           "zerolinecolor": "white",
           "zerolinewidth": 2
          }
         }
        },
        "title": {
         "text": "Number of burglaries by ward between Dec 2010 and March 2023"
        },
        "xaxis": {
         "anchor": "y",
         "domain": [
          0,
          1
         ],
         "tickangle": 90,
         "title": {
          "text": "Ward"
         }
        },
        "yaxis": {
         "anchor": "x",
         "domain": [
          0,
          1
         ],
         "title": {
          "text": "Number of burglaries"
         }
        }
       }
      }
     },
     "metadata": {},
     "output_type": "display_data"
    }
   ],
   "source": [
    "filtered_df = pd.read_csv ('C:/Users/20212828/Downloads/Bigfile/filtered_df.csv')\n",
    "df_bar = filtered_df['Ward new'].value_counts()\n",
    "\n",
    "figure1 = px.bar(df_bar, title=\"Number of burglaries by ward between Dec 2010 and March 2023\")\n",
    "figure1.update_layout(\n",
    "    xaxis_title=\"Ward\",\n",
    "    yaxis_title=\"Number of burglaries\")\n",
    "figure1.update_xaxes(tickangle=90)\n",
    "figure1.show()"
   ]
  },
  {
   "cell_type": "code",
   "execution_count": 9,
   "metadata": {},
   "outputs": [
    {
     "data": {
      "application/vnd.plotly.v1+json": {
       "config": {
        "plotlyServerURL": "https://plot.ly"
       },
       "data": [
        {
         "legendgroup": "Barnet Vale",
         "line": {
          "color": "#636efa",
          "dash": "solid"
         },
         "marker": {
          "symbol": "circle"
         },
         "mode": "markers+lines",
         "name": "Barnet Vale",
         "orientation": "v",
         "showlegend": true,
         "type": "scatter",
         "x": [
          2010,
          2011,
          2012,
          2013,
          2014,
          2015,
          2016,
          2017,
          2018,
          2019,
          2020,
          2021,
          2022,
          2023
         ],
         "xaxis": "x",
         "y": [
          13,
          223,
          239,
          235,
          167,
          191,
          161,
          147,
          111,
          187,
          116,
          76,
          70,
          11
         ],
         "yaxis": "y"
        },
        {
         "legendgroup": "Brunswick Park",
         "line": {
          "color": "#EF553B",
          "dash": "solid"
         },
         "marker": {
          "symbol": "circle"
         },
         "mode": "markers+lines",
         "name": "Brunswick Park",
         "orientation": "v",
         "showlegend": true,
         "type": "scatter",
         "x": [
          2010,
          2011,
          2012,
          2013,
          2014,
          2015,
          2016,
          2017,
          2018,
          2019,
          2020,
          2021,
          2022,
          2023
         ],
         "xaxis": "x",
         "y": [
          11,
          195,
          204,
          208,
          185,
          142,
          130,
          133,
          130,
          109,
          81,
          74,
          71,
          33
         ],
         "yaxis": "y"
        },
        {
         "legendgroup": "Burnt Oak",
         "line": {
          "color": "#00cc96",
          "dash": "solid"
         },
         "marker": {
          "symbol": "circle"
         },
         "mode": "markers+lines",
         "name": "Burnt Oak",
         "orientation": "v",
         "showlegend": true,
         "type": "scatter",
         "x": [
          2010,
          2011,
          2012,
          2013,
          2014,
          2015,
          2016,
          2017,
          2018,
          2019,
          2020,
          2021,
          2022,
          2023
         ],
         "xaxis": "x",
         "y": [
          10,
          142,
          192,
          207,
          191,
          173,
          185,
          191,
          142,
          192,
          135,
          116,
          129,
          27
         ],
         "yaxis": "y"
        },
        {
         "legendgroup": "Childs Hill",
         "line": {
          "color": "#ab63fa",
          "dash": "solid"
         },
         "marker": {
          "symbol": "circle"
         },
         "mode": "markers+lines",
         "name": "Childs Hill",
         "orientation": "v",
         "showlegend": true,
         "type": "scatter",
         "x": [
          2010,
          2011,
          2012,
          2013,
          2014,
          2015,
          2016,
          2017,
          2018,
          2019,
          2020,
          2021,
          2022,
          2023
         ],
         "xaxis": "x",
         "y": [
          19,
          361,
          306,
          266,
          270,
          302,
          216,
          258,
          293,
          248,
          187,
          186,
          238,
          62
         ],
         "yaxis": "y"
        },
        {
         "legendgroup": "Colindale North",
         "line": {
          "color": "#FFA15A",
          "dash": "solid"
         },
         "marker": {
          "symbol": "circle"
         },
         "mode": "markers+lines",
         "name": "Colindale North",
         "orientation": "v",
         "showlegend": true,
         "type": "scatter",
         "x": [
          2010,
          2011,
          2012,
          2013,
          2014,
          2015,
          2016,
          2017,
          2018,
          2019,
          2020,
          2021,
          2022,
          2023
         ],
         "xaxis": "x",
         "y": [
          9,
          86,
          60,
          106,
          68,
          88,
          90,
          65,
          93,
          70,
          85,
          75,
          82,
          24
         ],
         "yaxis": "y"
        },
        {
         "legendgroup": "Colindale South",
         "line": {
          "color": "#19d3f3",
          "dash": "solid"
         },
         "marker": {
          "symbol": "circle"
         },
         "mode": "markers+lines",
         "name": "Colindale South",
         "orientation": "v",
         "showlegend": true,
         "type": "scatter",
         "x": [
          2010,
          2011,
          2012,
          2013,
          2014,
          2015,
          2016,
          2017,
          2018,
          2019,
          2020,
          2021,
          2022,
          2023
         ],
         "xaxis": "x",
         "y": [
          4,
          69,
          67,
          80,
          54,
          73,
          61,
          73,
          49,
          67,
          95,
          88,
          125,
          27
         ],
         "yaxis": "y"
        },
        {
         "legendgroup": "Cricklewood",
         "line": {
          "color": "#FF6692",
          "dash": "solid"
         },
         "marker": {
          "symbol": "circle"
         },
         "mode": "markers+lines",
         "name": "Cricklewood",
         "orientation": "v",
         "showlegend": true,
         "type": "scatter",
         "x": [
          2010,
          2011,
          2012,
          2013,
          2014,
          2015,
          2016,
          2017,
          2018,
          2019,
          2020,
          2021,
          2022,
          2023
         ],
         "xaxis": "x",
         "y": [
          11,
          236,
          107,
          135,
          130,
          116,
          107,
          97,
          113,
          143,
          88,
          89,
          104,
          36
         ],
         "yaxis": "y"
        },
        {
         "legendgroup": "East Barnet",
         "line": {
          "color": "#B6E880",
          "dash": "solid"
         },
         "marker": {
          "symbol": "circle"
         },
         "mode": "markers+lines",
         "name": "East Barnet",
         "orientation": "v",
         "showlegend": true,
         "type": "scatter",
         "x": [
          2010,
          2011,
          2012,
          2013,
          2014,
          2015,
          2016,
          2017,
          2018,
          2019,
          2020,
          2021,
          2022,
          2023
         ],
         "xaxis": "x",
         "y": [
          18,
          210,
          291,
          192,
          184,
          150,
          131,
          121,
          158,
          150,
          89,
          85,
          71,
          22
         ],
         "yaxis": "y"
        },
        {
         "legendgroup": "East Finchley",
         "line": {
          "color": "#FF97FF",
          "dash": "solid"
         },
         "marker": {
          "symbol": "circle"
         },
         "mode": "markers+lines",
         "name": "East Finchley",
         "orientation": "v",
         "showlegend": true,
         "type": "scatter",
         "x": [
          2010,
          2011,
          2012,
          2013,
          2014,
          2015,
          2016,
          2017,
          2018,
          2019,
          2020,
          2021,
          2022,
          2023
         ],
         "xaxis": "x",
         "y": [
          17,
          161,
          178,
          136,
          143,
          141,
          113,
          109,
          142,
          116,
          90,
          108,
          96,
          18
         ],
         "yaxis": "y"
        },
        {
         "legendgroup": "Edgware",
         "line": {
          "color": "#FECB52",
          "dash": "solid"
         },
         "marker": {
          "symbol": "circle"
         },
         "mode": "markers+lines",
         "name": "Edgware",
         "orientation": "v",
         "showlegend": true,
         "type": "scatter",
         "x": [
          2010,
          2011,
          2012,
          2013,
          2014,
          2015,
          2016,
          2017,
          2018,
          2019,
          2020,
          2021,
          2022,
          2023
         ],
         "xaxis": "x",
         "y": [
          22,
          227,
          243,
          199,
          141,
          145,
          156,
          182,
          194,
          169,
          152,
          108,
          151,
          33
         ],
         "yaxis": "y"
        },
        {
         "legendgroup": "Edgwarebury",
         "line": {
          "color": "#636efa",
          "dash": "solid"
         },
         "marker": {
          "symbol": "circle"
         },
         "mode": "markers+lines",
         "name": "Edgwarebury",
         "orientation": "v",
         "showlegend": true,
         "type": "scatter",
         "x": [
          2010,
          2011,
          2012,
          2013,
          2014,
          2015,
          2016,
          2017,
          2018,
          2019,
          2020,
          2021,
          2022,
          2023
         ],
         "xaxis": "x",
         "y": [
          17,
          130,
          110,
          99,
          86,
          100,
          79,
          94,
          100,
          97,
          59,
          44,
          39,
          11
         ],
         "yaxis": "y"
        },
        {
         "legendgroup": "Finchley Church End",
         "line": {
          "color": "#EF553B",
          "dash": "solid"
         },
         "marker": {
          "symbol": "circle"
         },
         "mode": "markers+lines",
         "name": "Finchley Church End",
         "orientation": "v",
         "showlegend": true,
         "type": "scatter",
         "x": [
          2010,
          2011,
          2012,
          2013,
          2014,
          2015,
          2016,
          2017,
          2018,
          2019,
          2020,
          2021,
          2022,
          2023
         ],
         "xaxis": "x",
         "y": [
          21,
          226,
          225,
          235,
          190,
          279,
          183,
          202,
          214,
          163,
          157,
          148,
          134,
          46
         ],
         "yaxis": "y"
        },
        {
         "legendgroup": "Friern Barnet",
         "line": {
          "color": "#00cc96",
          "dash": "solid"
         },
         "marker": {
          "symbol": "circle"
         },
         "mode": "markers+lines",
         "name": "Friern Barnet",
         "orientation": "v",
         "showlegend": true,
         "type": "scatter",
         "x": [
          2010,
          2011,
          2012,
          2013,
          2014,
          2015,
          2016,
          2017,
          2018,
          2019,
          2020,
          2021,
          2022,
          2023
         ],
         "xaxis": "x",
         "y": [
          19,
          262,
          272,
          227,
          175,
          133,
          153,
          152,
          154,
          148,
          127,
          88,
          103,
          29
         ],
         "yaxis": "y"
        },
        {
         "legendgroup": "Garden Suburb",
         "line": {
          "color": "#ab63fa",
          "dash": "solid"
         },
         "marker": {
          "symbol": "circle"
         },
         "mode": "markers+lines",
         "name": "Garden Suburb",
         "orientation": "v",
         "showlegend": true,
         "type": "scatter",
         "x": [
          2010,
          2011,
          2012,
          2013,
          2014,
          2015,
          2016,
          2017,
          2018,
          2019,
          2020,
          2021,
          2022,
          2023
         ],
         "xaxis": "x",
         "y": [
          12,
          210,
          209,
          149,
          157,
          154,
          160,
          151,
          169,
          150,
          130,
          79,
          89,
          24
         ],
         "yaxis": "y"
        },
        {
         "legendgroup": "Golders Green",
         "line": {
          "color": "#FFA15A",
          "dash": "solid"
         },
         "marker": {
          "symbol": "circle"
         },
         "mode": "markers+lines",
         "name": "Golders Green",
         "orientation": "v",
         "showlegend": true,
         "type": "scatter",
         "x": [
          2010,
          2011,
          2012,
          2013,
          2014,
          2015,
          2016,
          2017,
          2018,
          2019,
          2020,
          2021,
          2022,
          2023
         ],
         "xaxis": "x",
         "y": [
          13,
          221,
          225,
          176,
          131,
          141,
          125,
          167,
          145,
          135,
          139,
          93,
          95,
          29
         ],
         "yaxis": "y"
        },
        {
         "legendgroup": "Hendon",
         "line": {
          "color": "#19d3f3",
          "dash": "solid"
         },
         "marker": {
          "symbol": "circle"
         },
         "mode": "markers+lines",
         "name": "Hendon",
         "orientation": "v",
         "showlegend": true,
         "type": "scatter",
         "x": [
          2010,
          2011,
          2012,
          2013,
          2014,
          2015,
          2016,
          2017,
          2018,
          2019,
          2020,
          2021,
          2022,
          2023
         ],
         "xaxis": "x",
         "y": [
          34,
          324,
          292,
          282,
          212,
          268,
          199,
          223,
          263,
          249,
          192,
          216,
          191,
          41
         ],
         "yaxis": "y"
        },
        {
         "legendgroup": "High Barnet",
         "line": {
          "color": "#FF6692",
          "dash": "solid"
         },
         "marker": {
          "symbol": "circle"
         },
         "mode": "markers+lines",
         "name": "High Barnet",
         "orientation": "v",
         "showlegend": true,
         "type": "scatter",
         "x": [
          2010,
          2011,
          2012,
          2013,
          2014,
          2015,
          2016,
          2017,
          2018,
          2019,
          2020,
          2021,
          2022,
          2023
         ],
         "xaxis": "x",
         "y": [
          15,
          181,
          157,
          147,
          127,
          111,
          90,
          104,
          118,
          115,
          93,
          65,
          65,
          22
         ],
         "yaxis": "y"
        },
        {
         "legendgroup": "Mill Hill",
         "line": {
          "color": "#B6E880",
          "dash": "solid"
         },
         "marker": {
          "symbol": "circle"
         },
         "mode": "markers+lines",
         "name": "Mill Hill",
         "orientation": "v",
         "showlegend": true,
         "type": "scatter",
         "x": [
          2010,
          2011,
          2012,
          2013,
          2014,
          2015,
          2016,
          2017,
          2018,
          2019,
          2020,
          2021,
          2022,
          2023
         ],
         "xaxis": "x",
         "y": [
          29,
          262,
          245,
          252,
          184,
          245,
          156,
          191,
          181,
          172,
          151,
          118,
          130,
          40
         ],
         "yaxis": "y"
        },
        {
         "legendgroup": "Nan",
         "line": {
          "color": "#FF97FF",
          "dash": "solid"
         },
         "marker": {
          "symbol": "circle"
         },
         "mode": "markers+lines",
         "name": "Nan",
         "orientation": "v",
         "showlegend": true,
         "type": "scatter",
         "x": [
          2010,
          2011,
          2012,
          2013,
          2014,
          2015,
          2016,
          2017,
          2018,
          2019,
          2020,
          2021,
          2022
         ],
         "xaxis": "x",
         "y": [
          2,
          25,
          28,
          29,
          15,
          23,
          14,
          13,
          21,
          23,
          15,
          13,
          12
         ],
         "yaxis": "y"
        },
        {
         "legendgroup": "Totteridge and Woodside",
         "line": {
          "color": "#FECB52",
          "dash": "solid"
         },
         "marker": {
          "symbol": "circle"
         },
         "mode": "markers+lines",
         "name": "Totteridge and Woodside",
         "orientation": "v",
         "showlegend": true,
         "type": "scatter",
         "x": [
          2010,
          2011,
          2012,
          2013,
          2014,
          2015,
          2016,
          2017,
          2018,
          2019,
          2020,
          2021,
          2022,
          2023
         ],
         "xaxis": "x",
         "y": [
          7,
          169,
          124,
          95,
          111,
          92,
          96,
          126,
          129,
          121,
          80,
          57,
          100,
          36
         ],
         "yaxis": "y"
        },
        {
         "legendgroup": "Underhill",
         "line": {
          "color": "#636efa",
          "dash": "solid"
         },
         "marker": {
          "symbol": "circle"
         },
         "mode": "markers+lines",
         "name": "Underhill",
         "orientation": "v",
         "showlegend": true,
         "type": "scatter",
         "x": [
          2010,
          2011,
          2012,
          2013,
          2014,
          2015,
          2016,
          2017,
          2018,
          2019,
          2020,
          2021,
          2022,
          2023
         ],
         "xaxis": "x",
         "y": [
          7,
          169,
          136,
          125,
          89,
          101,
          109,
          119,
          122,
          123,
          81,
          48,
          38,
          11
         ],
         "yaxis": "y"
        },
        {
         "legendgroup": "West Finchley",
         "line": {
          "color": "#EF553B",
          "dash": "solid"
         },
         "marker": {
          "symbol": "circle"
         },
         "mode": "markers+lines",
         "name": "West Finchley",
         "orientation": "v",
         "showlegend": true,
         "type": "scatter",
         "x": [
          2010,
          2011,
          2012,
          2013,
          2014,
          2015,
          2016,
          2017,
          2018,
          2019,
          2020,
          2021,
          2022,
          2023
         ],
         "xaxis": "x",
         "y": [
          27,
          250,
          287,
          197,
          179,
          209,
          180,
          179,
          206,
          164,
          122,
          124,
          113,
          35
         ],
         "yaxis": "y"
        },
        {
         "legendgroup": "West Hendon",
         "line": {
          "color": "#00cc96",
          "dash": "solid"
         },
         "marker": {
          "symbol": "circle"
         },
         "mode": "markers+lines",
         "name": "West Hendon",
         "orientation": "v",
         "showlegend": true,
         "type": "scatter",
         "x": [
          2010,
          2011,
          2012,
          2013,
          2014,
          2015,
          2016,
          2017,
          2018,
          2019,
          2020,
          2021,
          2022,
          2023
         ],
         "xaxis": "x",
         "y": [
          15,
          175,
          200,
          206,
          145,
          191,
          214,
          169,
          181,
          173,
          108,
          96,
          104,
          28
         ],
         "yaxis": "y"
        },
        {
         "legendgroup": "Whetstone",
         "line": {
          "color": "#ab63fa",
          "dash": "solid"
         },
         "marker": {
          "symbol": "circle"
         },
         "mode": "markers+lines",
         "name": "Whetstone",
         "orientation": "v",
         "showlegend": true,
         "type": "scatter",
         "x": [
          2010,
          2011,
          2012,
          2013,
          2014,
          2015,
          2016,
          2017,
          2018,
          2019,
          2020,
          2021,
          2022,
          2023
         ],
         "xaxis": "x",
         "y": [
          9,
          159,
          188,
          126,
          134,
          113,
          119,
          117,
          87,
          152,
          91,
          53,
          82,
          8
         ],
         "yaxis": "y"
        },
        {
         "legendgroup": "Woodhouse",
         "line": {
          "color": "#FFA15A",
          "dash": "solid"
         },
         "marker": {
          "symbol": "circle"
         },
         "mode": "markers+lines",
         "name": "Woodhouse",
         "orientation": "v",
         "showlegend": true,
         "type": "scatter",
         "x": [
          2010,
          2011,
          2012,
          2013,
          2014,
          2015,
          2016,
          2017,
          2018,
          2019,
          2020,
          2021,
          2022,
          2023
         ],
         "xaxis": "x",
         "y": [
          11,
          186,
          260,
          160,
          127,
          124,
          152,
          137,
          139,
          127,
          104,
          72,
          87,
          19
         ],
         "yaxis": "y"
        }
       ],
       "layout": {
        "hovermode": "x unified",
        "legend": {
         "title": {
          "text": "Ward"
         },
         "tracegroupgap": 0
        },
        "template": {
         "data": {
          "bar": [
           {
            "error_x": {
             "color": "#2a3f5f"
            },
            "error_y": {
             "color": "#2a3f5f"
            },
            "marker": {
             "line": {
              "color": "#E5ECF6",
              "width": 0.5
             },
             "pattern": {
              "fillmode": "overlay",
              "size": 10,
              "solidity": 0.2
             }
            },
            "type": "bar"
           }
          ],
          "barpolar": [
           {
            "marker": {
             "line": {
              "color": "#E5ECF6",
              "width": 0.5
             },
             "pattern": {
              "fillmode": "overlay",
              "size": 10,
              "solidity": 0.2
             }
            },
            "type": "barpolar"
           }
          ],
          "carpet": [
           {
            "aaxis": {
             "endlinecolor": "#2a3f5f",
             "gridcolor": "white",
             "linecolor": "white",
             "minorgridcolor": "white",
             "startlinecolor": "#2a3f5f"
            },
            "baxis": {
             "endlinecolor": "#2a3f5f",
             "gridcolor": "white",
             "linecolor": "white",
             "minorgridcolor": "white",
             "startlinecolor": "#2a3f5f"
            },
            "type": "carpet"
           }
          ],
          "choropleth": [
           {
            "colorbar": {
             "outlinewidth": 0,
             "ticks": ""
            },
            "type": "choropleth"
           }
          ],
          "contour": [
           {
            "colorbar": {
             "outlinewidth": 0,
             "ticks": ""
            },
            "colorscale": [
             [
              0,
              "#0d0887"
             ],
             [
              0.1111111111111111,
              "#46039f"
             ],
             [
              0.2222222222222222,
              "#7201a8"
             ],
             [
              0.3333333333333333,
              "#9c179e"
             ],
             [
              0.4444444444444444,
              "#bd3786"
             ],
             [
              0.5555555555555556,
              "#d8576b"
             ],
             [
              0.6666666666666666,
              "#ed7953"
             ],
             [
              0.7777777777777778,
              "#fb9f3a"
             ],
             [
              0.8888888888888888,
              "#fdca26"
             ],
             [
              1,
              "#f0f921"
             ]
            ],
            "type": "contour"
           }
          ],
          "contourcarpet": [
           {
            "colorbar": {
             "outlinewidth": 0,
             "ticks": ""
            },
            "type": "contourcarpet"
           }
          ],
          "heatmap": [
           {
            "colorbar": {
             "outlinewidth": 0,
             "ticks": ""
            },
            "colorscale": [
             [
              0,
              "#0d0887"
             ],
             [
              0.1111111111111111,
              "#46039f"
             ],
             [
              0.2222222222222222,
              "#7201a8"
             ],
             [
              0.3333333333333333,
              "#9c179e"
             ],
             [
              0.4444444444444444,
              "#bd3786"
             ],
             [
              0.5555555555555556,
              "#d8576b"
             ],
             [
              0.6666666666666666,
              "#ed7953"
             ],
             [
              0.7777777777777778,
              "#fb9f3a"
             ],
             [
              0.8888888888888888,
              "#fdca26"
             ],
             [
              1,
              "#f0f921"
             ]
            ],
            "type": "heatmap"
           }
          ],
          "heatmapgl": [
           {
            "colorbar": {
             "outlinewidth": 0,
             "ticks": ""
            },
            "colorscale": [
             [
              0,
              "#0d0887"
             ],
             [
              0.1111111111111111,
              "#46039f"
             ],
             [
              0.2222222222222222,
              "#7201a8"
             ],
             [
              0.3333333333333333,
              "#9c179e"
             ],
             [
              0.4444444444444444,
              "#bd3786"
             ],
             [
              0.5555555555555556,
              "#d8576b"
             ],
             [
              0.6666666666666666,
              "#ed7953"
             ],
             [
              0.7777777777777778,
              "#fb9f3a"
             ],
             [
              0.8888888888888888,
              "#fdca26"
             ],
             [
              1,
              "#f0f921"
             ]
            ],
            "type": "heatmapgl"
           }
          ],
          "histogram": [
           {
            "marker": {
             "pattern": {
              "fillmode": "overlay",
              "size": 10,
              "solidity": 0.2
             }
            },
            "type": "histogram"
           }
          ],
          "histogram2d": [
           {
            "colorbar": {
             "outlinewidth": 0,
             "ticks": ""
            },
            "colorscale": [
             [
              0,
              "#0d0887"
             ],
             [
              0.1111111111111111,
              "#46039f"
             ],
             [
              0.2222222222222222,
              "#7201a8"
             ],
             [
              0.3333333333333333,
              "#9c179e"
             ],
             [
              0.4444444444444444,
              "#bd3786"
             ],
             [
              0.5555555555555556,
              "#d8576b"
             ],
             [
              0.6666666666666666,
              "#ed7953"
             ],
             [
              0.7777777777777778,
              "#fb9f3a"
             ],
             [
              0.8888888888888888,
              "#fdca26"
             ],
             [
              1,
              "#f0f921"
             ]
            ],
            "type": "histogram2d"
           }
          ],
          "histogram2dcontour": [
           {
            "colorbar": {
             "outlinewidth": 0,
             "ticks": ""
            },
            "colorscale": [
             [
              0,
              "#0d0887"
             ],
             [
              0.1111111111111111,
              "#46039f"
             ],
             [
              0.2222222222222222,
              "#7201a8"
             ],
             [
              0.3333333333333333,
              "#9c179e"
             ],
             [
              0.4444444444444444,
              "#bd3786"
             ],
             [
              0.5555555555555556,
              "#d8576b"
             ],
             [
              0.6666666666666666,
              "#ed7953"
             ],
             [
              0.7777777777777778,
              "#fb9f3a"
             ],
             [
              0.8888888888888888,
              "#fdca26"
             ],
             [
              1,
              "#f0f921"
             ]
            ],
            "type": "histogram2dcontour"
           }
          ],
          "mesh3d": [
           {
            "colorbar": {
             "outlinewidth": 0,
             "ticks": ""
            },
            "type": "mesh3d"
           }
          ],
          "parcoords": [
           {
            "line": {
             "colorbar": {
              "outlinewidth": 0,
              "ticks": ""
             }
            },
            "type": "parcoords"
           }
          ],
          "pie": [
           {
            "automargin": true,
            "type": "pie"
           }
          ],
          "scatter": [
           {
            "fillpattern": {
             "fillmode": "overlay",
             "size": 10,
             "solidity": 0.2
            },
            "type": "scatter"
           }
          ],
          "scatter3d": [
           {
            "line": {
             "colorbar": {
              "outlinewidth": 0,
              "ticks": ""
             }
            },
            "marker": {
             "colorbar": {
              "outlinewidth": 0,
              "ticks": ""
             }
            },
            "type": "scatter3d"
           }
          ],
          "scattercarpet": [
           {
            "marker": {
             "colorbar": {
              "outlinewidth": 0,
              "ticks": ""
             }
            },
            "type": "scattercarpet"
           }
          ],
          "scattergeo": [
           {
            "marker": {
             "colorbar": {
              "outlinewidth": 0,
              "ticks": ""
             }
            },
            "type": "scattergeo"
           }
          ],
          "scattergl": [
           {
            "marker": {
             "colorbar": {
              "outlinewidth": 0,
              "ticks": ""
             }
            },
            "type": "scattergl"
           }
          ],
          "scattermapbox": [
           {
            "marker": {
             "colorbar": {
              "outlinewidth": 0,
              "ticks": ""
             }
            },
            "type": "scattermapbox"
           }
          ],
          "scatterpolar": [
           {
            "marker": {
             "colorbar": {
              "outlinewidth": 0,
              "ticks": ""
             }
            },
            "type": "scatterpolar"
           }
          ],
          "scatterpolargl": [
           {
            "marker": {
             "colorbar": {
              "outlinewidth": 0,
              "ticks": ""
             }
            },
            "type": "scatterpolargl"
           }
          ],
          "scatterternary": [
           {
            "marker": {
             "colorbar": {
              "outlinewidth": 0,
              "ticks": ""
             }
            },
            "type": "scatterternary"
           }
          ],
          "surface": [
           {
            "colorbar": {
             "outlinewidth": 0,
             "ticks": ""
            },
            "colorscale": [
             [
              0,
              "#0d0887"
             ],
             [
              0.1111111111111111,
              "#46039f"
             ],
             [
              0.2222222222222222,
              "#7201a8"
             ],
             [
              0.3333333333333333,
              "#9c179e"
             ],
             [
              0.4444444444444444,
              "#bd3786"
             ],
             [
              0.5555555555555556,
              "#d8576b"
             ],
             [
              0.6666666666666666,
              "#ed7953"
             ],
             [
              0.7777777777777778,
              "#fb9f3a"
             ],
             [
              0.8888888888888888,
              "#fdca26"
             ],
             [
              1,
              "#f0f921"
             ]
            ],
            "type": "surface"
           }
          ],
          "table": [
           {
            "cells": {
             "fill": {
              "color": "#EBF0F8"
             },
             "line": {
              "color": "white"
             }
            },
            "header": {
             "fill": {
              "color": "#C8D4E3"
             },
             "line": {
              "color": "white"
             }
            },
            "type": "table"
           }
          ]
         },
         "layout": {
          "annotationdefaults": {
           "arrowcolor": "#2a3f5f",
           "arrowhead": 0,
           "arrowwidth": 1
          },
          "autotypenumbers": "strict",
          "coloraxis": {
           "colorbar": {
            "outlinewidth": 0,
            "ticks": ""
           }
          },
          "colorscale": {
           "diverging": [
            [
             0,
             "#8e0152"
            ],
            [
             0.1,
             "#c51b7d"
            ],
            [
             0.2,
             "#de77ae"
            ],
            [
             0.3,
             "#f1b6da"
            ],
            [
             0.4,
             "#fde0ef"
            ],
            [
             0.5,
             "#f7f7f7"
            ],
            [
             0.6,
             "#e6f5d0"
            ],
            [
             0.7,
             "#b8e186"
            ],
            [
             0.8,
             "#7fbc41"
            ],
            [
             0.9,
             "#4d9221"
            ],
            [
             1,
             "#276419"
            ]
           ],
           "sequential": [
            [
             0,
             "#0d0887"
            ],
            [
             0.1111111111111111,
             "#46039f"
            ],
            [
             0.2222222222222222,
             "#7201a8"
            ],
            [
             0.3333333333333333,
             "#9c179e"
            ],
            [
             0.4444444444444444,
             "#bd3786"
            ],
            [
             0.5555555555555556,
             "#d8576b"
            ],
            [
             0.6666666666666666,
             "#ed7953"
            ],
            [
             0.7777777777777778,
             "#fb9f3a"
            ],
            [
             0.8888888888888888,
             "#fdca26"
            ],
            [
             1,
             "#f0f921"
            ]
           ],
           "sequentialminus": [
            [
             0,
             "#0d0887"
            ],
            [
             0.1111111111111111,
             "#46039f"
            ],
            [
             0.2222222222222222,
             "#7201a8"
            ],
            [
             0.3333333333333333,
             "#9c179e"
            ],
            [
             0.4444444444444444,
             "#bd3786"
            ],
            [
             0.5555555555555556,
             "#d8576b"
            ],
            [
             0.6666666666666666,
             "#ed7953"
            ],
            [
             0.7777777777777778,
             "#fb9f3a"
            ],
            [
             0.8888888888888888,
             "#fdca26"
            ],
            [
             1,
             "#f0f921"
            ]
           ]
          },
          "colorway": [
           "#636efa",
           "#EF553B",
           "#00cc96",
           "#ab63fa",
           "#FFA15A",
           "#19d3f3",
           "#FF6692",
           "#B6E880",
           "#FF97FF",
           "#FECB52"
          ],
          "font": {
           "color": "#2a3f5f"
          },
          "geo": {
           "bgcolor": "white",
           "lakecolor": "white",
           "landcolor": "#E5ECF6",
           "showlakes": true,
           "showland": true,
           "subunitcolor": "white"
          },
          "hoverlabel": {
           "align": "left"
          },
          "hovermode": "closest",
          "mapbox": {
           "style": "light"
          },
          "paper_bgcolor": "white",
          "plot_bgcolor": "#E5ECF6",
          "polar": {
           "angularaxis": {
            "gridcolor": "white",
            "linecolor": "white",
            "ticks": ""
           },
           "bgcolor": "#E5ECF6",
           "radialaxis": {
            "gridcolor": "white",
            "linecolor": "white",
            "ticks": ""
           }
          },
          "scene": {
           "xaxis": {
            "backgroundcolor": "#E5ECF6",
            "gridcolor": "white",
            "gridwidth": 2,
            "linecolor": "white",
            "showbackground": true,
            "ticks": "",
            "zerolinecolor": "white"
           },
           "yaxis": {
            "backgroundcolor": "#E5ECF6",
            "gridcolor": "white",
            "gridwidth": 2,
            "linecolor": "white",
            "showbackground": true,
            "ticks": "",
            "zerolinecolor": "white"
           },
           "zaxis": {
            "backgroundcolor": "#E5ECF6",
            "gridcolor": "white",
            "gridwidth": 2,
            "linecolor": "white",
            "showbackground": true,
            "ticks": "",
            "zerolinecolor": "white"
           }
          },
          "shapedefaults": {
           "line": {
            "color": "#2a3f5f"
           }
          },
          "ternary": {
           "aaxis": {
            "gridcolor": "white",
            "linecolor": "white",
            "ticks": ""
           },
           "baxis": {
            "gridcolor": "white",
            "linecolor": "white",
            "ticks": ""
           },
           "bgcolor": "#E5ECF6",
           "caxis": {
            "gridcolor": "white",
            "linecolor": "white",
            "ticks": ""
           }
          },
          "title": {
           "x": 0.05
          },
          "xaxis": {
           "automargin": true,
           "gridcolor": "white",
           "linecolor": "white",
           "ticks": "",
           "title": {
            "standoff": 15
           },
           "zerolinecolor": "white",
           "zerolinewidth": 2
          },
          "yaxis": {
           "automargin": true,
           "gridcolor": "white",
           "linecolor": "white",
           "ticks": "",
           "title": {
            "standoff": 15
           },
           "zerolinecolor": "white",
           "zerolinewidth": 2
          }
         }
        },
        "title": {
         "text": "Seasonal Plot: Ward Burglary Cases Growth"
        },
        "xaxis": {
         "anchor": "y",
         "domain": [
          0,
          1
         ],
         "title": {
          "text": "Year"
         }
        },
        "yaxis": {
         "anchor": "x",
         "domain": [
          0,
          1
         ],
         "title": {
          "text": "Number of Cases"
         }
        }
       }
      }
     },
     "metadata": {},
     "output_type": "display_data"
    }
   ],
   "source": [
    "filtered_df_new = the_file.copy()\n",
    "\n",
    "fig_w = px.line(filtered_df_new.groupby(['Ward', 'Year']).size().reset_index(name='Burglary Rate'), x='Year', y='Burglary Rate', color='Ward',\n",
    "                   title=\"Seasonal Plot: Ward Burglary Cases Growth\")\n",
    "fig_w.update_yaxes(title=\"Number of Cases\")\n",
    "fig_w.update_traces(mode=\"markers+lines\", hovertemplate=None)\n",
    "fig_w.update_layout(hovermode=\"x unified\")\n",
    "\n",
    "fig_w.show()"
   ]
  },
  {
   "cell_type": "code",
   "execution_count": 10,
   "metadata": {},
   "outputs": [
    {
     "name": "stdout",
     "output_type": "stream",
     "text": [
      "Dash is running on http://127.0.0.1:8052/\n",
      "\n",
      "Dash app running on http://127.0.0.1:8052/\n"
     ]
    }
   ],
   "source": [
    "from dash import Dash, html, dcc\n",
    "from jupyter_dash import JupyterDash\n",
    "from dash import Input, Output\n",
    "\n",
    "df_ward_future_pred = df_ward_pred[df_ward_pred['ds'] > '2022-12-31']\n",
    "df_ward_future_pred = df_ward_future_pred.reset_index()\n",
    "df_ward_future_pred = df_ward_future_pred.drop(['index'], axis=1)\n",
    "df_ward_future_pred['yhat'] = df_ward_future_pred['yhat'].round()\n",
    "df_ward_future_pred['yhat'] = df_ward_future_pred['yhat'].fillna(0).astype(int)\n",
    "df_ward_future_pred['ds'] = df_ward_future_pred['ds'].values.astype(str)\n",
    "df_ward_future_pred['ds'] = df_ward_future_pred['ds'].str.split('T')\n",
    "df_ward_future_pred['ds'] = df_ward_future_pred['ds']\n",
    "df_ward_future_pred['ds'] = df_ward_future_pred['ds'].apply(lambda x: str(x[0]))\n",
    "df_ward_future_pred\n",
    "\n",
    "wards = ['Barnet Vale', 'Brunswick Park', 'Burnt Oak', 'Childs Hill', 'Colindale North', \n",
    "         'Colindale South', 'Cricklewood', 'East Barnet', 'East Finchley', 'Edgware', 'Edgwarebury',\n",
    "           'Finchley Church End', 'Friern Barnet', 'Garden Suburb', 'Golders Green', 'Hendon',\n",
    "             'High Barnet', 'Mill Hill', 'Totteridge and Woodside', \n",
    "         'Underhill', 'West Finchley', 'West Hendon', 'Whetstone', 'Woodhouse']\n",
    "\n",
    "image_filename = 'C:/Users/20212828/Downloads/BarnetWardsMap.jpg'\n",
    "encoded_image = base64.b64encode(open(image_filename, 'rb').read())\n",
    "\n",
    "\n",
    "# Create Dash app\n",
    "app = JupyterDash(__name__)\n",
    "# Define app layout\n",
    "app.layout = html.Div([\n",
    "    html.H1(\"Predicted Burglaries for all wards in Barnet\", style={'text-align': 'center', 'margin-top': '30px', 'font-size': '45px', 'font-family': 'Arial, sans-serif'}),\n",
    "    html.Div(\n",
    "        style={'display': 'flex', 'justify-content': 'center', 'flex-direction': 'column', 'align-items': 'center'},\n",
    "        children=[\n",
    "            html.Div(\n",
    "                style={'text-align': 'center'},\n",
    "                children=[\n",
    "                    html.Img(src='data:image/png;base64,{}'.format(encoded_image.decode()), alt='Image Description'),\n",
    "                    dcc.Dropdown(\n",
    "                        options=wards,\n",
    "                        value='Barnet Vale',\n",
    "                        id='filter_ward',\n",
    "                        style={'font-size': '24px'}\n",
    "                    ),\n",
    "                    dcc.Dropdown(\n",
    "                        options=[{'label': str(date), 'value': date} for date in df_ward_future_pred['ds']],\n",
    "                        value=df_ward_future_pred['ds'][0],\n",
    "                        id='select',\n",
    "                        style={'font-size': '24px'}\n",
    "                    ),\n",
    "                    html.Div(id='output-container', style={'font-size': '20px'})\n",
    "                ]\n",
    "            ),\n",
    "            dcc.Graph(id='figward', figure=figward, style={'width': '1500px', 'height': '600px'})\n",
    "        ]\n",
    "    ),\n",
    "    html.Div(\n",
    "        style={'display': 'flex', 'justify-content': 'center'},\n",
    "        children=[\n",
    "            dcc.Graph(id='fig1', figure=fig, style={'width': '1500px', 'height': '600px'})\n",
    "        ]\n",
    "    ),\n",
    "    html.Div(\n",
    "        style={'display': 'flex', 'justify-content': 'center'},\n",
    "        children=[\n",
    "            dcc.Graph(id='fig2', figure=figure1, style={'width': '1500px', 'height': '600px'})\n",
    "        ]\n",
    "    ),\n",
    "    html.Div(\n",
    "        style={'display': 'flex', 'justify-content': 'center'},\n",
    "        children=[\n",
    "            dcc.Graph(id='figw', figure=fig_w, style={'width': '1500px', 'height': '600px'})\n",
    "        ]\n",
    "    )\n",
    "])\n",
    "\n",
    "\n",
    "@app.callback(\n",
    "    Output('figward', 'figure'),\n",
    "    [Input('filter_ward', 'value')],\n",
    "    [Input(\"select\", \"value\")]\n",
    ")\n",
    "def update_output(selected_option, dateselect):\n",
    "    holiday = pd.DataFrame([])\n",
    "    for date, name in sorted(holidays.country_holidays('GB', subdiv='England', years=[2012, 2013, 2014, 2015, 2016, 2017, 2018,2019,2020,2021, 2022, 2023, 2024]).items()):\n",
    "        holiday= pd.concat([holiday, pd.DataFrame({'ds': date, 'holiday': \"England-Holidays\"}, index=[0])], ignore_index=True)\n",
    "\n",
    "    holiday['ds'] = pd.to_datetime(holiday['ds'], format='%Y-%m-%d', errors='ignore')\n",
    "\n",
    "    ward = selected_option\n",
    "    df_ward = df_per_ward[df_per_ward['Ward']==ward]\n",
    "    df_ward = df_ward[['ds', 'Date', 'year', 'y', 'Population per square kilometre']]\n",
    "    #print('df ward', df_ward)\n",
    "    # Merge with all dates to have a consistent dataframe\n",
    "    df_ward = pd.merge(dates, df_ward, how=\"left\", on='Date')\n",
    "    df_ward['ds'] = df_ward['Date']\n",
    "    df_ward['y'] = df_ward['y'].fillna(0)\n",
    "    df_ward = df_ward.fillna(df_ward.mean())\n",
    "    df_ward['year'] = pd.DatetimeIndex(df_ward['Date']).year\n",
    "    train_ward = df_ward[df_ward['year']<(training_upto+1)]\n",
    "    test_ward = df_ward[(df_ward['year']>training_upto)] \n",
    "    #print(df_ward.columns)\n",
    "    best_model = best_model = Prophet(seasonality_mode= 'additive', changepoint_prior_scale= 0.01, seasonality_prior_scale= 0.15, holidays_prior_scale= 0.015, holidays= holiday)\n",
    "    best_model.add_regressor('Population per square kilometre')\n",
    "    best_model.fit(train_ward)\n",
    "    future_dates = best_model.make_future_dataframe(periods=forecast_upto, freq='MS')\n",
    "    #print(future_dates)\n",
    "    future_dates = pd.merge(future_dates, df_ward, how=\"left\", on='ds')\n",
    "    forecastward = best_model.predict(future_dates)\n",
    "    #print(ward)\n",
    "    #print(r2_score(test_ward[['y']], forecast['yhat'][-forecast_upto:]))\n",
    "\n",
    "    df_ward_true = df_ward[['ds', 'y']]\n",
    "\n",
    "    df_ward_pred = forecastward[-forecast_upto:][['ds', 'yhat']]\n",
    "    df_ward_true = df_ward_true[(df_ward_true != 0).all(1)]\n",
    "\n",
    "    figward = px.line(df_ward_true, x='ds', y='y', title='Model predictions for selected ward in Barnet')\n",
    "    figward.add_scatter(x=df_ward_pred['ds'], y=df_ward_pred['yhat'], name='Prediction')\n",
    "    figward.update_xaxes(title_text='Date')\n",
    "    figward.update_yaxes(title_text='Number of Predicted Burglaries')\n",
    "\n",
    "    return (figward)\n",
    "\n",
    "@app.callback(\n",
    "    Output('output-container', 'children'),\n",
    "    [Input('filter_ward', 'value')],\n",
    "    [Input(\"select\", \"value\")]\n",
    ")\n",
    "def update_output_div(selected_option, dateselect):\n",
    "    holiday = pd.DataFrame([])\n",
    "    for date, name in sorted(holidays.country_holidays('GB', subdiv='England', years=[2012, 2013, 2014, 2015, 2016, 2017, 2018,2019,2020,2021, 2022, 2023, 2024]).items()):\n",
    "        holiday= pd.concat([holiday, pd.DataFrame({'ds': date, 'holiday': \"England-Holidays\"}, index=[0])], ignore_index=True)\n",
    "\n",
    "    holiday['ds'] = pd.to_datetime(holiday['ds'], format='%Y-%m-%d', errors='ignore')\n",
    "\n",
    "    ward = selected_option\n",
    "    df_ward = df_per_ward[df_per_ward['Ward']==ward]\n",
    "    df_ward = df_ward[['ds', 'Date', 'year', 'y', 'Population per square kilometre']]\n",
    "\n",
    "    df_ward = pd.merge(dates, df_ward, how=\"left\", on='Date')\n",
    "    df_ward['ds'] = df_ward['Date']\n",
    "    df_ward['y'] = df_ward['y'].fillna(0)\n",
    "    df_ward = df_ward.fillna(df_ward.mean())\n",
    "    df_ward['year'] = pd.DatetimeIndex(df_ward['Date']).year\n",
    "    train_ward = df_ward[df_ward['year']<(training_upto+1)]\n",
    "    test_ward = df_ward[(df_ward['year']>training_upto)] \n",
    "\n",
    "    best_model = best_model = Prophet(seasonality_mode= 'additive', changepoint_prior_scale= 0.01, seasonality_prior_scale= 0.15, holidays_prior_scale= 0.015, holidays= holiday)\n",
    "    best_model.add_regressor('Population per square kilometre')\n",
    "    best_model.fit(train_ward)\n",
    "    future_dates = best_model.make_future_dataframe(periods=forecast_upto, freq='MS')\n",
    "\n",
    "    future_dates = pd.merge(future_dates, df_ward, how=\"left\", on='ds')\n",
    "    forecastward = best_model.predict(future_dates)\n",
    "\n",
    "    df_ward_true = df_ward[['ds', 'y']]\n",
    "\n",
    "    df_ward_pred = forecastward[-forecast_upto:][['ds', 'yhat']]\n",
    "    df_ward_true = df_ward_true[(df_ward_true != 0).all(1)]\n",
    "\n",
    "    figward = px.line(df_ward_true, x='ds', y='y')\n",
    "    figward.add_scatter(x=df_ward_pred['ds'], y=df_ward_pred['yhat'])\n",
    "\n",
    "    df_ward_future_pred = df_ward_pred[df_ward_pred['ds'] > '2022-12-31']\n",
    "    df_ward_future_pred = df_ward_future_pred.reset_index()\n",
    "    df_ward_future_pred = df_ward_future_pred.drop(['index'], axis=1)\n",
    "    df_ward_future_pred['yhat'] = df_ward_future_pred['yhat'].round()\n",
    "    df_ward_future_pred['yhat'] = df_ward_future_pred['yhat'].fillna(0).astype(int)\n",
    "    df_ward_future_pred['ds'] = df_ward_future_pred['ds'].values.astype(str)\n",
    "    df_ward_future_pred['ds'] = df_ward_future_pred['ds'].str.split('T')\n",
    "    df_ward_future_pred['ds'] = df_ward_future_pred['ds']\n",
    "    df_ward_future_pred['ds'] = df_ward_future_pred['ds'].apply(lambda x: str(x[0]))\n",
    "\n",
    "    # Calculate the value of 'burglaries'\n",
    "\n",
    "    burglariesdf = df_ward_future_pred[df_ward_future_pred['ds'] == dateselect]\n",
    "    burglaries = burglariesdf['yhat'].iloc[0] \n",
    "    if burglaries < 0:\n",
    "         burglaries = 0\n",
    "\n",
    "    hours = 6000\n",
    "    df_pred_hours = df_plot_pred.copy()\n",
    "    for ward in wards:\n",
    "        df_pred_hours[ward] = (df_pred_hours[ward]/df_pred_hours['yhat']) * hours\n",
    "        df_pred_hours[ward] = df_pred_hours[ward].apply(lambda x: 0 if x < 0 else x)\n",
    "        df_pred_hours[ward] = df_pred_hours[ward].round()\n",
    "        df_pred_hours[ward] = df_pred_hours[ward].fillna(0).astype(int)\n",
    "\n",
    "    df_pred_hours\n",
    "\n",
    "    value = df_pred_hours.loc[df_pred_hours['ds'] == dateselect, selected_option].values[0]\n",
    "\n",
    "    # Create the HTML content\n",
    "    content = html.H3(f\"There are {str(burglaries)} burglaries predicted in the month {dateselect} in ward {selected_option}. This will require {value} hours per month in this ward\")\n",
    "\n",
    "    return content\n",
    "\n",
    "    \n",
    "if __name__ == '__main__':\n",
    "        app.run_server(debug=True, port=8052)"
   ]
  },
  {
   "cell_type": "code",
   "execution_count": null,
   "metadata": {},
   "outputs": [],
   "source": []
  },
  {
   "cell_type": "code",
   "execution_count": null,
   "metadata": {},
   "outputs": [],
   "source": []
  },
  {
   "cell_type": "code",
   "execution_count": null,
   "metadata": {},
   "outputs": [],
   "source": []
  }
 ],
 "metadata": {
  "kernelspec": {
   "display_name": "Python 3",
   "language": "python",
   "name": "python3"
  },
  "language_info": {
   "codemirror_mode": {
    "name": "ipython",
    "version": 3
   },
   "file_extension": ".py",
   "mimetype": "text/x-python",
   "name": "python",
   "nbconvert_exporter": "python",
   "pygments_lexer": "ipython3",
   "version": "3.8.10"
  },
  "orig_nbformat": 4
 },
 "nbformat": 4,
 "nbformat_minor": 2
}
